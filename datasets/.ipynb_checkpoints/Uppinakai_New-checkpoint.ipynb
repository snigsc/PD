{
 "cells": [
  {
   "cell_type": "markdown",
   "metadata": {},
   "source": [
    "### OLD SUMMARY (before removing Unnamed: 0 column):\n",
    "\n",
    "- Average accuracy of **XGBClassifier** is = 87.42%\n",
    "- Average accuracy of **LGBMClassifier** is = 86.45%\n",
    "- Average accuracy of **Random Forest Classifier** is = 84.9%\n",
    "- Average accuracy of **Extra Trees Classifier** is =  84.25%\n",
    "- Average accuracy of **Logistic Regression** is = 79.96%\n",
    "\n",
    "#### AVERAGE ACCURACY OF OUR ENSEMBLE MODEL = 84.6%\n",
    "\n",
    "\n",
    "### NEW SUMMARY:\n",
    "\n",
    "- Average accuracy of **XGBClassifier** is = 73.75%\n",
    "- Average accuracy of **LGBMClassifier** is = 75%\n",
    "- Average accuracy of **Random Forest Classifier** is = 75.44%\n",
    "- Average accuracy of **Extra Trees Classifier** is =  74.52%\n",
    "- Average accuracy of **Logistic Regression** is = 75.62%\n",
    "\n",
    "#### AVERAGE ACCURACY OF OUR ENSEMBLE MODEL = 74.86%"
   ]
  },
  {
   "cell_type": "code",
   "execution_count": 1,
   "metadata": {},
   "outputs": [],
   "source": [
    "from sklearn.feature_selection import RFE\n",
    "from sklearn.pipeline import Pipeline\n",
    "from sklearn import preprocessing\n",
    "\n",
    "from sklearn.preprocessing import OneHotEncoder\n",
    "from sklearn.preprocessing import LabelEncoder\n",
    "from sklearn.preprocessing import OrdinalEncoder\n",
    "\n",
    "from numpy import mean\n",
    "from sklearn.model_selection import cross_val_score\n",
    "from sklearn.model_selection import RepeatedStratifiedKFold\n",
    "from sklearn.model_selection import RepeatedKFold\n",
    "from sklearn.metrics import accuracy_score\n",
    "\n",
    "from sklearn.tree import DecisionTreeClassifier\n",
    "from sklearn.ensemble import ExtraTreesClassifier\n",
    "from lightgbm import LGBMClassifier\n",
    "from xgboost import XGBClassifier\n",
    "from sklearn.ensemble import RandomForestClassifier\n",
    "\n",
    "import pickle\n",
    "\n",
    "import warnings\n",
    "warnings.filterwarnings('ignore')\n",
    "\n",
    "import pandas as pd\n",
    "from sklearn.model_selection import train_test_split\n",
    "from sklearn.linear_model import LogisticRegression"
   ]
  },
  {
   "cell_type": "code",
   "execution_count": 2,
   "metadata": {},
   "outputs": [],
   "source": [
    "onehot_encoder = OneHotEncoder()\n",
    "label_encoder = LabelEncoder()\n",
    "ordinal = OrdinalEncoder()"
   ]
  },
  {
   "cell_type": "markdown",
   "metadata": {},
   "source": [
    "***\n",
    "## EXTRA TREES CLASSIFIER"
   ]
  },
  {
   "cell_type": "code",
   "execution_count": 3,
   "metadata": {},
   "outputs": [],
   "source": [
    "accs = []"
   ]
  },
  {
   "cell_type": "code",
   "execution_count": 4,
   "metadata": {},
   "outputs": [],
   "source": [
    "# model.fit(X, y)\n",
    "# #X_heroku = ordinal.fit_transform(pd.DataFrame([[1,1,1,1,1,1]])) #[5,5,5,5,5,5,5,5,5,5,5,5,5,5,5,5,5,5,5,5,5]\n",
    "# model.predict_proba([[5,5,5,5,5,5,5,5,5,5,5,5,5,5,5,5,5,5,5,5,5]]) "
   ]
  },
  {
   "cell_type": "markdown",
   "metadata": {},
   "source": [
    "### PQ"
   ]
  },
  {
   "cell_type": "code",
   "execution_count": 39,
   "metadata": {},
   "outputs": [
    {
     "name": "stdout",
     "output_type": "stream",
     "text": [
      "Accuracy for PQ_G1 is 91.18\n"
     ]
    },
    {
     "data": {
      "text/plain": [
       "ExtraTreesClassifier()"
      ]
     },
     "execution_count": 39,
     "metadata": {},
     "output_type": "execute_result"
    }
   ],
   "source": [
    "dataframe = pd.read_csv('PQ_G1.csv')\n",
    "X = dataframe.drop(columns=['RECRUITMENT_CAT','PATNO','EVENT_ID','PAG_NAME_1','PAG_NAME_2','PAG_NAME_3','PAG_NAME_4'],axis=1) \n",
    "y = dataframe['RECRUITMENT_CAT']\n",
    "\n",
    "X = ordinal.fit_transform(X)\n",
    "y = label_encoder.fit_transform(y)\n",
    "\n",
    "model = ExtraTreesClassifier()\n",
    "cv = RepeatedStratifiedKFold(n_splits=15, n_repeats=5, random_state=1)\n",
    "n_scores = cross_val_score(model, X, y, scoring='accuracy', cv=cv, n_jobs=-1, error_score='raise')\n",
    "    \n",
    "print('Accuracy for PQ_G1 is',round((100*mean(n_scores)),2))\n",
    "accs.append(100*mean(n_scores))\n",
    "model.fit(X, y)"
   ]
  },
  {
   "cell_type": "code",
   "execution_count": 40,
   "metadata": {},
   "outputs": [],
   "source": [
    "with open('ETC_PQ_G1.pkl','wb') as f:\n",
    "    pickle.dump(model, f)"
   ]
  },
  {
   "cell_type": "code",
   "execution_count": 7,
   "metadata": {},
   "outputs": [
    {
     "name": "stdout",
     "output_type": "stream",
     "text": [
      "Accuracy for PQ_G2 is 86.92\n"
     ]
    },
    {
     "data": {
      "text/plain": [
       "ExtraTreesClassifier()"
      ]
     },
     "execution_count": 7,
     "metadata": {},
     "output_type": "execute_result"
    }
   ],
   "source": [
    "dataframe = pd.read_csv('PQ_G2.csv')\n",
    "X = dataframe.drop(columns=['RECRUITMENT_CAT','PATNO','EVENT_ID','PAG_NAME_1','PAG_NAME_2'],axis=1) \n",
    "y = dataframe['RECRUITMENT_CAT']\n",
    "\n",
    "X = ordinal.fit_transform(X)\n",
    "y = label_encoder.fit_transform(y)\n",
    "\n",
    "model = ExtraTreesClassifier()\n",
    "cv = RepeatedStratifiedKFold(n_splits=15, n_repeats=5, random_state=1)\n",
    "n_scores = cross_val_score(model, X, y, scoring='accuracy', cv=cv, n_jobs=-1, error_score='raise')\n",
    "    \n",
    "print('Accuracy for PQ_G2 is',round((100*mean(n_scores)),2))\n",
    "accs.append(100*mean(n_scores))\n",
    "model.fit(X, y)"
   ]
  },
  {
   "cell_type": "code",
   "execution_count": 8,
   "metadata": {},
   "outputs": [],
   "source": [
    "with open('ETC_PQ_G2.pkl','wb') as f:\n",
    "    pickle.dump(model, f)"
   ]
  },
  {
   "cell_type": "code",
   "execution_count": 43,
   "metadata": {},
   "outputs": [
    {
     "name": "stdout",
     "output_type": "stream",
     "text": [
      "Accuracy for PQ_G3 is 82.37\n"
     ]
    },
    {
     "data": {
      "text/plain": [
       "ExtraTreesClassifier()"
      ]
     },
     "execution_count": 43,
     "metadata": {},
     "output_type": "execute_result"
    }
   ],
   "source": [
    "dataframe = pd.read_csv('PQ_G3.csv')\n",
    "X = dataframe.drop(columns=['RECRUITMENT_CAT','PATNO','EVENT_ID','PAG_NAME_1','PAG_NAME_2','PAG_NAME_3'],axis=1) \n",
    "y = dataframe['RECRUITMENT_CAT']\n",
    "\n",
    "X = ordinal.fit_transform(X)\n",
    "y = label_encoder.fit_transform(y)\n",
    "\n",
    "model = ExtraTreesClassifier()\n",
    "cv = RepeatedStratifiedKFold(n_splits=15, n_repeats=5, random_state=1)\n",
    "n_scores = cross_val_score(model, X, y, scoring='accuracy', cv=cv, n_jobs=-1, error_score='raise')\n",
    "    \n",
    "print('Accuracy for PQ_G3 is',round((100*mean(n_scores)),2))\n",
    "accs.append(100*mean(n_scores))\n",
    "model.fit(X, y)"
   ]
  },
  {
   "cell_type": "code",
   "execution_count": 44,
   "metadata": {},
   "outputs": [],
   "source": [
    "with open('ETC_PQ_G3.pkl','wb') as f:\n",
    "    pickle.dump(model, f)"
   ]
  },
  {
   "cell_type": "code",
   "execution_count": 45,
   "metadata": {},
   "outputs": [
    {
     "name": "stdout",
     "output_type": "stream",
     "text": [
      "Accuracy for PQ_G4 is 85.81\n"
     ]
    },
    {
     "data": {
      "text/plain": [
       "ExtraTreesClassifier()"
      ]
     },
     "execution_count": 45,
     "metadata": {},
     "output_type": "execute_result"
    }
   ],
   "source": [
    "dataframe = pd.read_csv('PQ_G4.csv')\n",
    "X = dataframe.drop(columns=['RECRUITMENT_CAT','PATNO','EVENT_ID','PAG_NAME'],axis=1) \n",
    "y = dataframe['RECRUITMENT_CAT']\n",
    "\n",
    "X = ordinal.fit_transform(X)\n",
    "y = label_encoder.fit_transform(y)\n",
    "\n",
    "model = ExtraTreesClassifier()\n",
    "cv = RepeatedStratifiedKFold(n_splits=15, n_repeats=5, random_state=1)\n",
    "n_scores = cross_val_score(model, X, y, scoring='accuracy', cv=cv, n_jobs=-1, error_score='raise')\n",
    "    \n",
    "print('Accuracy for PQ_G4 is',round((100*mean(n_scores)),2))\n",
    "accs.append(100*mean(n_scores))\n",
    "model.fit(X, y)"
   ]
  },
  {
   "cell_type": "code",
   "execution_count": 46,
   "metadata": {},
   "outputs": [],
   "source": [
    "with open('ETC_PQ_G4.pkl','wb') as f:\n",
    "    pickle.dump(model, f)"
   ]
  },
  {
   "cell_type": "markdown",
   "metadata": {},
   "source": [
    "***\n",
    "### MT"
   ]
  },
  {
   "cell_type": "code",
   "execution_count": 47,
   "metadata": {},
   "outputs": [
    {
     "name": "stdout",
     "output_type": "stream",
     "text": [
      "Accuracy for MT_G1 is 62.64\n"
     ]
    },
    {
     "data": {
      "text/plain": [
       "ExtraTreesClassifier()"
      ]
     },
     "execution_count": 47,
     "metadata": {},
     "output_type": "execute_result"
    }
   ],
   "source": [
    "dataframe = pd.read_csv('MT_G1.csv')\n",
    "X = dataframe.drop(columns=['RECRUITMENT_CAT','PATNO','EVENT_ID','PAG_NAME_1','PAG_NAME_2'],axis=1) \n",
    "y = dataframe['RECRUITMENT_CAT']\n",
    "\n",
    "X = ordinal.fit_transform(X)\n",
    "y = label_encoder.fit_transform(y)\n",
    "\n",
    "model = ExtraTreesClassifier()\n",
    "cv = RepeatedStratifiedKFold(n_splits=15, n_repeats=5, random_state=1)\n",
    "n_scores = cross_val_score(model, X, y, scoring='accuracy', cv=cv, n_jobs=-1, error_score='raise')\n",
    "    \n",
    "print('Accuracy for MT_G1 is',round((100*mean(n_scores)),2))\n",
    "accs.append(100*mean(n_scores))\n",
    "model.fit(X, y)"
   ]
  },
  {
   "cell_type": "code",
   "execution_count": 48,
   "metadata": {},
   "outputs": [],
   "source": [
    "with open('ETC_MT_G1.pkl','wb') as f:\n",
    "    pickle.dump(model, f)"
   ]
  },
  {
   "cell_type": "code",
   "execution_count": 49,
   "metadata": {},
   "outputs": [
    {
     "name": "stdout",
     "output_type": "stream",
     "text": [
      "Accuracy for MT_G2 is 58.77\n"
     ]
    },
    {
     "data": {
      "text/plain": [
       "ExtraTreesClassifier()"
      ]
     },
     "execution_count": 49,
     "metadata": {},
     "output_type": "execute_result"
    }
   ],
   "source": [
    "dataframe = pd.read_csv('MT_G2.csv')\n",
    "X = dataframe.drop(columns=['RECRUITMENT_CAT','PATNO','EVENT_ID','PAG_NAME_1','PAG_NAME_2'],axis=1) \n",
    "y = dataframe['RECRUITMENT_CAT']\n",
    "\n",
    "X = ordinal.fit_transform(X)\n",
    "y = label_encoder.fit_transform(y)\n",
    "\n",
    "model = ExtraTreesClassifier()\n",
    "cv = RepeatedStratifiedKFold(n_splits=15, n_repeats=5, random_state=1)\n",
    "n_scores = cross_val_score(model, X, y, scoring='accuracy', cv=cv, n_jobs=-1, error_score='raise')\n",
    "    \n",
    "print('Accuracy for MT_G2 is',round((100*mean(n_scores)),2))\n",
    "accs.append(100*mean(n_scores))\n",
    "model.fit(X, y)"
   ]
  },
  {
   "cell_type": "code",
   "execution_count": 50,
   "metadata": {},
   "outputs": [],
   "source": [
    "with open('ETC_MT_G2.pkl','wb') as f:\n",
    "    pickle.dump(model, f)"
   ]
  },
  {
   "cell_type": "code",
   "execution_count": 51,
   "metadata": {},
   "outputs": [
    {
     "name": "stdout",
     "output_type": "stream",
     "text": [
      "Accuracy for MT_G3 is 76.44\n"
     ]
    },
    {
     "data": {
      "text/plain": [
       "ExtraTreesClassifier()"
      ]
     },
     "execution_count": 51,
     "metadata": {},
     "output_type": "execute_result"
    }
   ],
   "source": [
    "dataframe = pd.read_csv('MT_G3.csv')\n",
    "X = dataframe.drop(columns=['RECRUITMENT_CAT','PATNO','EVENT_ID','PAG_NAME_1','PAG_NAME_2'],axis=1) \n",
    "y = dataframe['RECRUITMENT_CAT']\n",
    "\n",
    "X = ordinal.fit_transform(X)\n",
    "y = label_encoder.fit_transform(y)\n",
    "\n",
    "model = ExtraTreesClassifier()\n",
    "cv = RepeatedStratifiedKFold(n_splits=15, n_repeats=5, random_state=1)\n",
    "n_scores = cross_val_score(model, X, y, scoring='accuracy', cv=cv, n_jobs=-1, error_score='raise')\n",
    "    \n",
    "print('Accuracy for MT_G3 is',round((100*mean(n_scores)),2))\n",
    "accs.append(100*mean(n_scores))\n",
    "model.fit(X, y)"
   ]
  },
  {
   "cell_type": "code",
   "execution_count": 52,
   "metadata": {},
   "outputs": [],
   "source": [
    "with open('ETC_MT_G3.pkl','wb') as f:\n",
    "    pickle.dump(model, f)"
   ]
  },
  {
   "cell_type": "code",
   "execution_count": 53,
   "metadata": {},
   "outputs": [
    {
     "name": "stdout",
     "output_type": "stream",
     "text": [
      "Accuracy for MT_G4 is 62.7\n"
     ]
    },
    {
     "data": {
      "text/plain": [
       "ExtraTreesClassifier()"
      ]
     },
     "execution_count": 53,
     "metadata": {},
     "output_type": "execute_result"
    }
   ],
   "source": [
    "dataframe = pd.read_csv('MT_G4.csv')\n",
    "X = dataframe.drop(columns=['RECRUITMENT_CAT','PATNO','EVENT_ID','PAG_NAME_1','PAG_NAME_2'],axis=1) \n",
    "y = dataframe['RECRUITMENT_CAT']\n",
    "\n",
    "datax = X.values\n",
    "datay = y.values\n",
    "\n",
    "X = datax.astype(str)\n",
    "y = datay.astype(str)\n",
    "\n",
    "X = ordinal.fit_transform(X)\n",
    "y = label_encoder.fit_transform(y)\n",
    "\n",
    "model = ExtraTreesClassifier()\n",
    "cv = RepeatedStratifiedKFold(n_splits=15, n_repeats=5, random_state=1)\n",
    "n_scores = cross_val_score(model, X, y, scoring='accuracy', cv=cv, n_jobs=-1, error_score='raise')\n",
    "    \n",
    "print('Accuracy for MT_G4 is',round((100*mean(n_scores)),2))\n",
    "accs.append(100*mean(n_scores))\n",
    "model.fit(X, y)"
   ]
  },
  {
   "cell_type": "code",
   "execution_count": 54,
   "metadata": {},
   "outputs": [],
   "source": [
    "with open('ETC_MT_G4.pkl','wb') as f:\n",
    "    pickle.dump(model, f)"
   ]
  },
  {
   "cell_type": "code",
   "execution_count": 55,
   "metadata": {},
   "outputs": [
    {
     "name": "stdout",
     "output_type": "stream",
     "text": [
      "Accuracy for MT_G5 is 63.17\n"
     ]
    },
    {
     "data": {
      "text/plain": [
       "ExtraTreesClassifier()"
      ]
     },
     "execution_count": 55,
     "metadata": {},
     "output_type": "execute_result"
    }
   ],
   "source": [
    "dataframe = pd.read_csv('MT_G5.csv')\n",
    "X = dataframe.drop(columns=['RECRUITMENT_CAT','PATNO','EVENT_ID','PAG_NAME'],axis=1) \n",
    "y = dataframe['RECRUITMENT_CAT']\n",
    "\n",
    "X = ordinal.fit_transform(X)\n",
    "y = label_encoder.fit_transform(y)\n",
    "\n",
    "model = ExtraTreesClassifier()\n",
    "cv = RepeatedStratifiedKFold(n_splits=15, n_repeats=5, random_state=1)\n",
    "n_scores = cross_val_score(model, X, y, scoring='accuracy', cv=cv, n_jobs=-1, error_score='raise')\n",
    "    \n",
    "print('Accuracy for MT_G5 is',round((100*mean(n_scores)),2))\n",
    "accs.append(100*mean(n_scores))\n",
    "model.fit(X, y)"
   ]
  },
  {
   "cell_type": "code",
   "execution_count": 56,
   "metadata": {},
   "outputs": [],
   "source": [
    "with open('ETC_MT_G5.pkl','wb') as f:\n",
    "    pickle.dump(model, f)"
   ]
  },
  {
   "cell_type": "code",
   "execution_count": 57,
   "metadata": {},
   "outputs": [
    {
     "name": "stdout",
     "output_type": "stream",
     "text": [
      "[91.18161635491515, 87.61079273460226, 82.36781609195401, 85.81178365065834, 62.64152030818697, 58.7742504409171, 76.44065327978582, 62.697674418604656, 63.167179487179496]\n",
      "Average accuracy of Extra Trees Classifier is = 74.52\n"
     ]
    }
   ],
   "source": [
    "print(accs)\n",
    "print('Average accuracy of Extra Trees Classifier is =',round(mean(accs),2))"
   ]
  },
  {
   "cell_type": "markdown",
   "metadata": {},
   "source": [
    "***\n",
    "\n",
    "## XGBOOST CLASSIFIER"
   ]
  },
  {
   "cell_type": "code",
   "execution_count": 58,
   "metadata": {},
   "outputs": [],
   "source": [
    "accs = []"
   ]
  },
  {
   "cell_type": "markdown",
   "metadata": {},
   "source": [
    "### PQ"
   ]
  },
  {
   "cell_type": "code",
   "execution_count": 203,
   "metadata": {},
   "outputs": [
    {
     "name": "stdout",
     "output_type": "stream",
     "text": [
      "[14:48:43] WARNING: C:/Users/Administrator/workspace/xgboost-win64_release_1.4.0/src/learner.cc:1095: Starting in XGBoost 1.3.0, the default evaluation metric used with the objective 'multi:softprob' was changed from 'merror' to 'mlogloss'. Explicitly set eval_metric if you'd like to restore the old behavior.\n",
      "<class 'numpy.ndarray'> (979, 70)\n",
      "[[0. 0. 0. ... 0. 0. 0.]\n",
      " [0. 1. 0. ... 0. 0. 0.]\n",
      " [0. 0. 0. ... 0. 0. 0.]\n",
      " ...\n",
      " [0. 0. 0. ... 0. 0. 0.]\n",
      " [1. 0. 1. ... 0. 0. 0.]\n",
      " [0. 0. 0. ... 0. 0. 0.]]\n",
      "Accuracy for PQ_G1 is 92.13\n",
      "[14:48:44] WARNING: C:/Users/Administrator/workspace/xgboost-win64_release_1.4.0/src/learner.cc:1095: Starting in XGBoost 1.3.0, the default evaluation metric used with the objective 'multi:softprob' was changed from 'merror' to 'mlogloss'. Explicitly set eval_metric if you'd like to restore the old behavior.\n"
     ]
    },
    {
     "data": {
      "text/plain": [
       "XGBClassifier(base_score=0.5, booster='gbtree', colsample_bylevel=1,\n",
       "              colsample_bynode=1, colsample_bytree=1, gamma=0, gpu_id=-1,\n",
       "              importance_type='gain', interaction_constraints='',\n",
       "              learning_rate=0.300000012, max_delta_step=0, max_depth=6,\n",
       "              min_child_weight=1, missing=nan, monotone_constraints='()',\n",
       "              n_estimators=100, n_jobs=8, num_parallel_tree=1,\n",
       "              objective='multi:softprob', random_state=0, reg_alpha=0,\n",
       "              reg_lambda=1, scale_pos_weight=None, subsample=1,\n",
       "              tree_method='exact', validate_parameters=1, verbosity=None)"
      ]
     },
     "execution_count": 203,
     "metadata": {},
     "output_type": "execute_result"
    }
   ],
   "source": [
    "dataframe = pd.read_csv('PQ_G1.csv')\n",
    "X = dataframe.drop(columns=['RECRUITMENT_CAT','PATNO','EVENT_ID','PAG_NAME_1','PAG_NAME_2','PAG_NAME_3','PAG_NAME_4'],axis=1) \n",
    "y = dataframe['RECRUITMENT_CAT']\n",
    "\n",
    "X = ordinal.fit_transform(X)\n",
    "y = label_encoder.fit_transform(y)\n",
    "    \n",
    "X_train, X_test, y_train, y_test = train_test_split(X, y, test_size=0.2, random_state=1)\n",
    "\n",
    "model = XGBClassifier(\"binary:logistic\")\n",
    "model.fit(X_train, y_train)\n",
    "\n",
    "print(type(X_test), X_test.shape)\n",
    "print(X_test)\n",
    "\n",
    "y_pred = model.predict(X_test)\n",
    "predictions = [round(value) for value in y_pred]\n",
    "    \n",
    "accuracy = accuracy_score(y_test, predictions)\n",
    "print('Accuracy for PQ_G1 is',round((100*accuracy),2))\n",
    "accs.append(accuracy)\n",
    "model.fit(X, y)"
   ]
  },
  {
   "cell_type": "code",
   "execution_count": 72,
   "metadata": {},
   "outputs": [],
   "source": [
    "with open('XGBC_PQ_G1.pkl','wb') as f:\n",
    "    pickle.dump(model, f)"
   ]
  },
  {
   "cell_type": "code",
   "execution_count": 9,
   "metadata": {},
   "outputs": [
    {
     "name": "stdout",
     "output_type": "stream",
     "text": [
      "[14:27:35] WARNING: C:/Users/Administrator/workspace/xgboost-win64_release_1.4.0/src/learner.cc:1095: Starting in XGBoost 1.3.0, the default evaluation metric used with the objective 'multi:softprob' was changed from 'merror' to 'mlogloss'. Explicitly set eval_metric if you'd like to restore the old behavior.\n",
      "Accuracy for PQ_G2 is 88.7\n",
      "[14:27:36] WARNING: C:/Users/Administrator/workspace/xgboost-win64_release_1.4.0/src/learner.cc:1095: Starting in XGBoost 1.3.0, the default evaluation metric used with the objective 'multi:softprob' was changed from 'merror' to 'mlogloss'. Explicitly set eval_metric if you'd like to restore the old behavior.\n"
     ]
    },
    {
     "data": {
      "text/plain": [
       "XGBClassifier(base_score=0.5, booster='gbtree', colsample_bylevel=1,\n",
       "              colsample_bynode=1, colsample_bytree=1, gamma=0, gpu_id=-1,\n",
       "              importance_type='gain', interaction_constraints='',\n",
       "              learning_rate=0.300000012, max_delta_step=0, max_depth=6,\n",
       "              min_child_weight=1, missing=nan, monotone_constraints='()',\n",
       "              n_estimators=100, n_jobs=8, num_parallel_tree=1,\n",
       "              objective='multi:softprob', random_state=0, reg_alpha=0,\n",
       "              reg_lambda=1, scale_pos_weight=None, subsample=1,\n",
       "              tree_method='exact', validate_parameters=1, verbosity=None)"
      ]
     },
     "execution_count": 9,
     "metadata": {},
     "output_type": "execute_result"
    }
   ],
   "source": [
    "dataframe = pd.read_csv('PQ_G2.csv')\n",
    "X = dataframe.drop(columns=['RECRUITMENT_CAT','PATNO','EVENT_ID','PAG_NAME_1','PAG_NAME_2'],axis=1) \n",
    "y = dataframe['RECRUITMENT_CAT']\n",
    "\n",
    "X = ordinal.fit_transform(X)\n",
    "y = label_encoder.fit_transform(y)\n",
    "    \n",
    "X_train, X_test, y_train, y_test = train_test_split(X, y, test_size=0.2, random_state=1)\n",
    " \n",
    "model = XGBClassifier(\"binary:logistic\")\n",
    "model.fit(X_train, y_train)\n",
    "\n",
    "y_pred = model.predict(X_test)\n",
    "predictions = [round(value) for value in y_pred]\n",
    "    \n",
    "accuracy = accuracy_score(y_test, predictions)\n",
    "print('Accuracy for PQ_G2 is',round((100*accuracy),2))\n",
    "accs.append(accuracy)\n",
    "model.fit(X, y)"
   ]
  },
  {
   "cell_type": "code",
   "execution_count": 10,
   "metadata": {},
   "outputs": [],
   "source": [
    "with open('XGBC_PQ_G2.pkl','wb') as f:\n",
    "    pickle.dump(model, f)"
   ]
  },
  {
   "cell_type": "code",
   "execution_count": 76,
   "metadata": {},
   "outputs": [
    {
     "name": "stdout",
     "output_type": "stream",
     "text": [
      "[14:11:52] WARNING: C:/Users/Administrator/workspace/xgboost-win64_release_1.4.0/src/learner.cc:1095: Starting in XGBoost 1.3.0, the default evaluation metric used with the objective 'multi:softprob' was changed from 'merror' to 'mlogloss'. Explicitly set eval_metric if you'd like to restore the old behavior.\n",
      "Accuracy for PQ_G3 is 80.23\n",
      "[14:11:52] WARNING: C:/Users/Administrator/workspace/xgboost-win64_release_1.4.0/src/learner.cc:1095: Starting in XGBoost 1.3.0, the default evaluation metric used with the objective 'multi:softprob' was changed from 'merror' to 'mlogloss'. Explicitly set eval_metric if you'd like to restore the old behavior.\n"
     ]
    },
    {
     "data": {
      "text/plain": [
       "XGBClassifier(base_score=0.5, booster='gbtree', colsample_bylevel=1,\n",
       "              colsample_bynode=1, colsample_bytree=1, gamma=0, gpu_id=-1,\n",
       "              importance_type='gain', interaction_constraints='',\n",
       "              learning_rate=0.300000012, max_delta_step=0, max_depth=6,\n",
       "              min_child_weight=1, missing=nan, monotone_constraints='()',\n",
       "              n_estimators=100, n_jobs=8, num_parallel_tree=1,\n",
       "              objective='multi:softprob', random_state=0, reg_alpha=0,\n",
       "              reg_lambda=1, scale_pos_weight=None, subsample=1,\n",
       "              tree_method='exact', validate_parameters=1, verbosity=None)"
      ]
     },
     "execution_count": 76,
     "metadata": {},
     "output_type": "execute_result"
    }
   ],
   "source": [
    "dataframe = pd.read_csv('PQ_G3.csv')\n",
    "X = dataframe.drop(columns=['RECRUITMENT_CAT','PATNO','EVENT_ID','PAG_NAME_1','PAG_NAME_2','PAG_NAME_3'],axis=1) \n",
    "y = dataframe['RECRUITMENT_CAT']\n",
    "\n",
    "X = ordinal.fit_transform(X)\n",
    "y = label_encoder.fit_transform(y)\n",
    "    \n",
    "X_train, X_test, y_train, y_test = train_test_split(X, y, test_size=0.2, random_state=1)\n",
    "\n",
    "model = XGBClassifier(\"binary:logistic\")\n",
    "model.fit(X_train, y_train)\n",
    "\n",
    "y_pred = model.predict(X_test)\n",
    "predictions = [round(value) for value in y_pred]\n",
    "    \n",
    "accuracy = accuracy_score(y_test, predictions)\n",
    "print('Accuracy for PQ_G3 is',round((100*accuracy),2))\n",
    "accs.append(accuracy)\n",
    "model.fit(X, y)"
   ]
  },
  {
   "cell_type": "code",
   "execution_count": 77,
   "metadata": {},
   "outputs": [],
   "source": [
    "with open('XGBC_PQ_G3.pkl','wb') as f:\n",
    "    pickle.dump(model, f)"
   ]
  },
  {
   "cell_type": "code",
   "execution_count": 78,
   "metadata": {},
   "outputs": [
    {
     "name": "stdout",
     "output_type": "stream",
     "text": [
      "[14:11:56] WARNING: C:/Users/Administrator/workspace/xgboost-win64_release_1.4.0/src/learner.cc:1095: Starting in XGBoost 1.3.0, the default evaluation metric used with the objective 'multi:softprob' was changed from 'merror' to 'mlogloss'. Explicitly set eval_metric if you'd like to restore the old behavior.\n",
      "Accuracy for PQ_G4 is 86.29\n",
      "[14:11:56] WARNING: C:/Users/Administrator/workspace/xgboost-win64_release_1.4.0/src/learner.cc:1095: Starting in XGBoost 1.3.0, the default evaluation metric used with the objective 'multi:softprob' was changed from 'merror' to 'mlogloss'. Explicitly set eval_metric if you'd like to restore the old behavior.\n"
     ]
    },
    {
     "data": {
      "text/plain": [
       "XGBClassifier(base_score=0.5, booster='gbtree', colsample_bylevel=1,\n",
       "              colsample_bynode=1, colsample_bytree=1, gamma=0, gpu_id=-1,\n",
       "              importance_type='gain', interaction_constraints='',\n",
       "              learning_rate=0.300000012, max_delta_step=0, max_depth=6,\n",
       "              min_child_weight=1, missing=nan, monotone_constraints='()',\n",
       "              n_estimators=100, n_jobs=8, num_parallel_tree=1,\n",
       "              objective='multi:softprob', random_state=0, reg_alpha=0,\n",
       "              reg_lambda=1, scale_pos_weight=None, subsample=1,\n",
       "              tree_method='exact', validate_parameters=1, verbosity=None)"
      ]
     },
     "execution_count": 78,
     "metadata": {},
     "output_type": "execute_result"
    }
   ],
   "source": [
    "dataframe = pd.read_csv('PQ_G4.csv')\n",
    "X = dataframe.drop(columns=['RECRUITMENT_CAT','PATNO','EVENT_ID','PAG_NAME'],axis=1) \n",
    "y = dataframe['RECRUITMENT_CAT']\n",
    "\n",
    "X = ordinal.fit_transform(X)\n",
    "y = label_encoder.fit_transform(y)\n",
    "    \n",
    "X_train, X_test, y_train, y_test = train_test_split(X, y, test_size=0.2, random_state=1)\n",
    "\n",
    "model = XGBClassifier(\"binary:logistic\")\n",
    "model.fit(X_train, y_train)\n",
    "\n",
    "y_pred = model.predict(X_test)\n",
    "predictions = [round(value) for value in y_pred]\n",
    "    \n",
    "accuracy = accuracy_score(y_test, predictions)\n",
    "print('Accuracy for PQ_G4 is',round((100*accuracy),2))\n",
    "accs.append(accuracy)\n",
    "model.fit(X, y)"
   ]
  },
  {
   "cell_type": "code",
   "execution_count": 79,
   "metadata": {},
   "outputs": [],
   "source": [
    "with open('XGBC_PQ_G4.pkl','wb') as f:\n",
    "    pickle.dump(model, f)"
   ]
  },
  {
   "cell_type": "markdown",
   "metadata": {},
   "source": [
    "***\n",
    "### MT"
   ]
  },
  {
   "cell_type": "code",
   "execution_count": 80,
   "metadata": {},
   "outputs": [
    {
     "name": "stdout",
     "output_type": "stream",
     "text": [
      "[14:12:02] WARNING: C:/Users/Administrator/workspace/xgboost-win64_release_1.4.0/src/learner.cc:1095: Starting in XGBoost 1.3.0, the default evaluation metric used with the objective 'multi:softprob' was changed from 'merror' to 'mlogloss'. Explicitly set eval_metric if you'd like to restore the old behavior.\n",
      "Accuracy for MT_G1 is 61.19\n",
      "[14:12:02] WARNING: C:/Users/Administrator/workspace/xgboost-win64_release_1.4.0/src/learner.cc:1095: Starting in XGBoost 1.3.0, the default evaluation metric used with the objective 'multi:softprob' was changed from 'merror' to 'mlogloss'. Explicitly set eval_metric if you'd like to restore the old behavior.\n"
     ]
    },
    {
     "data": {
      "text/plain": [
       "XGBClassifier(base_score=0.5, booster='gbtree', colsample_bylevel=1,\n",
       "              colsample_bynode=1, colsample_bytree=1, gamma=0, gpu_id=-1,\n",
       "              importance_type='gain', interaction_constraints='',\n",
       "              learning_rate=0.300000012, max_delta_step=0, max_depth=6,\n",
       "              min_child_weight=1, missing=nan, monotone_constraints='()',\n",
       "              n_estimators=100, n_jobs=8, num_parallel_tree=1,\n",
       "              objective='multi:softprob', random_state=0, reg_alpha=0,\n",
       "              reg_lambda=1, scale_pos_weight=None, subsample=1,\n",
       "              tree_method='exact', validate_parameters=1, verbosity=None)"
      ]
     },
     "execution_count": 80,
     "metadata": {},
     "output_type": "execute_result"
    }
   ],
   "source": [
    "dataframe = pd.read_csv('MT_G1.csv')\n",
    "X = dataframe.drop(columns=['RECRUITMENT_CAT','PATNO','EVENT_ID','PAG_NAME_1','PAG_NAME_2'],axis=1) \n",
    "y = dataframe['RECRUITMENT_CAT']\n",
    "\n",
    "X = ordinal.fit_transform(X)\n",
    "y = label_encoder.fit_transform(y)\n",
    "    \n",
    "X_train, X_test, y_train, y_test = train_test_split(X, y, test_size=0.2, random_state=1)\n",
    "\n",
    "model = XGBClassifier(\"binary:logistic\")\n",
    "model.fit(X_train, y_train)\n",
    "\n",
    "y_pred = model.predict(X_test)\n",
    "predictions = [round(value) for value in y_pred]\n",
    "    \n",
    "accuracy = accuracy_score(y_test, predictions)\n",
    "print('Accuracy for MT_G1 is',round((100*accuracy),2))\n",
    "accs.append(accuracy)\n",
    "model.fit(X, y)"
   ]
  },
  {
   "cell_type": "code",
   "execution_count": 81,
   "metadata": {},
   "outputs": [],
   "source": [
    "with open('XGBC_MT_G1.pkl','wb') as f:\n",
    "    pickle.dump(model, f)"
   ]
  },
  {
   "cell_type": "code",
   "execution_count": 82,
   "metadata": {},
   "outputs": [
    {
     "name": "stdout",
     "output_type": "stream",
     "text": [
      "[14:12:08] WARNING: C:/Users/Administrator/workspace/xgboost-win64_release_1.4.0/src/learner.cc:1095: Starting in XGBoost 1.3.0, the default evaluation metric used with the objective 'multi:softprob' was changed from 'merror' to 'mlogloss'. Explicitly set eval_metric if you'd like to restore the old behavior.\n",
      "Accuracy for MT_G2 is 59.04\n",
      "[14:12:08] WARNING: C:/Users/Administrator/workspace/xgboost-win64_release_1.4.0/src/learner.cc:1095: Starting in XGBoost 1.3.0, the default evaluation metric used with the objective 'multi:softprob' was changed from 'merror' to 'mlogloss'. Explicitly set eval_metric if you'd like to restore the old behavior.\n"
     ]
    },
    {
     "data": {
      "text/plain": [
       "XGBClassifier(base_score=0.5, booster='gbtree', colsample_bylevel=1,\n",
       "              colsample_bynode=1, colsample_bytree=1, gamma=0, gpu_id=-1,\n",
       "              importance_type='gain', interaction_constraints='',\n",
       "              learning_rate=0.300000012, max_delta_step=0, max_depth=6,\n",
       "              min_child_weight=1, missing=nan, monotone_constraints='()',\n",
       "              n_estimators=100, n_jobs=8, num_parallel_tree=1,\n",
       "              objective='multi:softprob', random_state=0, reg_alpha=0,\n",
       "              reg_lambda=1, scale_pos_weight=None, subsample=1,\n",
       "              tree_method='exact', validate_parameters=1, verbosity=None)"
      ]
     },
     "execution_count": 82,
     "metadata": {},
     "output_type": "execute_result"
    }
   ],
   "source": [
    "dataframe = pd.read_csv('MT_G2.csv')\n",
    "X = dataframe.drop(columns=['RECRUITMENT_CAT','PATNO','EVENT_ID','PAG_NAME_1','PAG_NAME_2'],axis=1) \n",
    "y = dataframe['RECRUITMENT_CAT']\n",
    "\n",
    "X = ordinal.fit_transform(X)\n",
    "y = label_encoder.fit_transform(y)\n",
    "    \n",
    "X_train, X_test, y_train, y_test = train_test_split(X, y, test_size=0.2, random_state=1)\n",
    "    \n",
    "\n",
    "model = XGBClassifier(\"binary:logistic\")\n",
    "model.fit(X_train, y_train)\n",
    "\n",
    "y_pred = model.predict(X_test)\n",
    "predictions = [round(value) for value in y_pred]\n",
    "    \n",
    "accuracy = accuracy_score(y_test, predictions)\n",
    "print('Accuracy for MT_G2 is',round((100*accuracy),2))\n",
    "accs.append(accuracy)\n",
    "model.fit(X, y)"
   ]
  },
  {
   "cell_type": "code",
   "execution_count": 83,
   "metadata": {},
   "outputs": [],
   "source": [
    "with open('XGBC_MT_G2.pkl','wb') as f:\n",
    "    pickle.dump(model, f)"
   ]
  },
  {
   "cell_type": "code",
   "execution_count": 84,
   "metadata": {},
   "outputs": [
    {
     "name": "stdout",
     "output_type": "stream",
     "text": [
      "[14:12:11] WARNING: C:/Users/Administrator/workspace/xgboost-win64_release_1.4.0/src/learner.cc:1095: Starting in XGBoost 1.3.0, the default evaluation metric used with the objective 'multi:softprob' was changed from 'merror' to 'mlogloss'. Explicitly set eval_metric if you'd like to restore the old behavior.\n",
      "Accuracy for MT_G3 is 80.27\n",
      "[14:12:11] WARNING: C:/Users/Administrator/workspace/xgboost-win64_release_1.4.0/src/learner.cc:1095: Starting in XGBoost 1.3.0, the default evaluation metric used with the objective 'multi:softprob' was changed from 'merror' to 'mlogloss'. Explicitly set eval_metric if you'd like to restore the old behavior.\n"
     ]
    },
    {
     "data": {
      "text/plain": [
       "XGBClassifier(base_score=0.5, booster='gbtree', colsample_bylevel=1,\n",
       "              colsample_bynode=1, colsample_bytree=1, gamma=0, gpu_id=-1,\n",
       "              importance_type='gain', interaction_constraints='',\n",
       "              learning_rate=0.300000012, max_delta_step=0, max_depth=6,\n",
       "              min_child_weight=1, missing=nan, monotone_constraints='()',\n",
       "              n_estimators=100, n_jobs=8, num_parallel_tree=1,\n",
       "              objective='multi:softprob', random_state=0, reg_alpha=0,\n",
       "              reg_lambda=1, scale_pos_weight=None, subsample=1,\n",
       "              tree_method='exact', validate_parameters=1, verbosity=None)"
      ]
     },
     "execution_count": 84,
     "metadata": {},
     "output_type": "execute_result"
    }
   ],
   "source": [
    "dataframe = pd.read_csv('MT_G3.csv')\n",
    "X = dataframe.drop(columns=['RECRUITMENT_CAT','PATNO','EVENT_ID','PAG_NAME_1','PAG_NAME_2'],axis=1) \n",
    "y = dataframe['RECRUITMENT_CAT']\n",
    "\n",
    "X = ordinal.fit_transform(X)\n",
    "y = label_encoder.fit_transform(y)\n",
    "    \n",
    "X_train, X_test, y_train, y_test = train_test_split(X, y, test_size=0.2, random_state=1)\n",
    "    \n",
    "\n",
    "model = XGBClassifier(\"binary:logistic\")\n",
    "model.fit(X_train, y_train)\n",
    "\n",
    "y_pred = model.predict(X_test)\n",
    "predictions = [round(value) for value in y_pred]\n",
    "    \n",
    "accuracy = accuracy_score(y_test, predictions)\n",
    "print('Accuracy for MT_G3 is',round((100*accuracy),2))\n",
    "accs.append(accuracy)\n",
    "model.fit(X, y)"
   ]
  },
  {
   "cell_type": "code",
   "execution_count": 85,
   "metadata": {},
   "outputs": [],
   "source": [
    "with open('XGBC_MT_G3.pkl','wb') as f:\n",
    "    pickle.dump(model, f)"
   ]
  },
  {
   "cell_type": "code",
   "execution_count": 86,
   "metadata": {},
   "outputs": [
    {
     "name": "stdout",
     "output_type": "stream",
     "text": [
      "[14:12:15] WARNING: C:/Users/Administrator/workspace/xgboost-win64_release_1.4.0/src/learner.cc:1095: Starting in XGBoost 1.3.0, the default evaluation metric used with the objective 'multi:softprob' was changed from 'merror' to 'mlogloss'. Explicitly set eval_metric if you'd like to restore the old behavior.\n",
      "Accuracy for MT_G4 is 53.49\n",
      "[14:12:15] WARNING: C:/Users/Administrator/workspace/xgboost-win64_release_1.4.0/src/learner.cc:1095: Starting in XGBoost 1.3.0, the default evaluation metric used with the objective 'multi:softprob' was changed from 'merror' to 'mlogloss'. Explicitly set eval_metric if you'd like to restore the old behavior.\n"
     ]
    },
    {
     "data": {
      "text/plain": [
       "XGBClassifier(base_score=0.5, booster='gbtree', colsample_bylevel=1,\n",
       "              colsample_bynode=1, colsample_bytree=1, gamma=0, gpu_id=-1,\n",
       "              importance_type='gain', interaction_constraints='',\n",
       "              learning_rate=0.300000012, max_delta_step=0, max_depth=6,\n",
       "              min_child_weight=1, missing=nan, monotone_constraints='()',\n",
       "              n_estimators=100, n_jobs=8, num_parallel_tree=1,\n",
       "              objective='multi:softprob', random_state=0, reg_alpha=0,\n",
       "              reg_lambda=1, scale_pos_weight=None, subsample=1,\n",
       "              tree_method='exact', validate_parameters=1, verbosity=None)"
      ]
     },
     "execution_count": 86,
     "metadata": {},
     "output_type": "execute_result"
    }
   ],
   "source": [
    "dataframe = pd.read_csv('MT_G4.csv')\n",
    "X = dataframe.drop(columns=['RECRUITMENT_CAT','PATNO','EVENT_ID','PAG_NAME_1','PAG_NAME_2'],axis=1) \n",
    "y = dataframe['RECRUITMENT_CAT']\n",
    "\n",
    "datax = X.values\n",
    "datay = y.values\n",
    "\n",
    "X = datax.astype(str)\n",
    "y = datay.astype(str)\n",
    "\n",
    "X = ordinal.fit_transform(X)\n",
    "y = label_encoder.fit_transform(y)\n",
    "    \n",
    "X_train, X_test, y_train, y_test = train_test_split(X, y, test_size=0.2, random_state=1)\n",
    "\n",
    "model = XGBClassifier(\"binary:logistic\")\n",
    "model.fit(X_train, y_train)\n",
    "\n",
    "y_pred = model.predict(X_test)\n",
    "predictions = [round(value) for value in y_pred]\n",
    "    \n",
    "accuracy = accuracy_score(y_test, predictions)\n",
    "print('Accuracy for MT_G4 is',round((100*accuracy),2))\n",
    "accs.append(accuracy)\n",
    "model.fit(X, y)"
   ]
  },
  {
   "cell_type": "code",
   "execution_count": 87,
   "metadata": {},
   "outputs": [],
   "source": [
    "with open('XGBC_MT_G4.pkl','wb') as f:\n",
    "    pickle.dump(model, f)"
   ]
  },
  {
   "cell_type": "code",
   "execution_count": 88,
   "metadata": {},
   "outputs": [
    {
     "name": "stdout",
     "output_type": "stream",
     "text": [
      "[14:12:19] WARNING: C:/Users/Administrator/workspace/xgboost-win64_release_1.4.0/src/learner.cc:1095: Starting in XGBoost 1.3.0, the default evaluation metric used with the objective 'multi:softprob' was changed from 'merror' to 'mlogloss'. Explicitly set eval_metric if you'd like to restore the old behavior.\n",
      "Accuracy for MT_G5 is 62.34\n",
      "[14:12:19] WARNING: C:/Users/Administrator/workspace/xgboost-win64_release_1.4.0/src/learner.cc:1095: Starting in XGBoost 1.3.0, the default evaluation metric used with the objective 'multi:softprob' was changed from 'merror' to 'mlogloss'. Explicitly set eval_metric if you'd like to restore the old behavior.\n"
     ]
    },
    {
     "data": {
      "text/plain": [
       "XGBClassifier(base_score=0.5, booster='gbtree', colsample_bylevel=1,\n",
       "              colsample_bynode=1, colsample_bytree=1, gamma=0, gpu_id=-1,\n",
       "              importance_type='gain', interaction_constraints='',\n",
       "              learning_rate=0.300000012, max_delta_step=0, max_depth=6,\n",
       "              min_child_weight=1, missing=nan, monotone_constraints='()',\n",
       "              n_estimators=100, n_jobs=8, num_parallel_tree=1,\n",
       "              objective='multi:softprob', random_state=0, reg_alpha=0,\n",
       "              reg_lambda=1, scale_pos_weight=None, subsample=1,\n",
       "              tree_method='exact', validate_parameters=1, verbosity=None)"
      ]
     },
     "execution_count": 88,
     "metadata": {},
     "output_type": "execute_result"
    }
   ],
   "source": [
    "dataframe = pd.read_csv('MT_G5.csv')\n",
    "X = dataframe.drop(columns=['RECRUITMENT_CAT','PATNO','EVENT_ID','PAG_NAME'],axis=1) \n",
    "y = dataframe['RECRUITMENT_CAT']\n",
    "\n",
    "datax = X.values\n",
    "datay = y.values\n",
    "\n",
    "X = datax.astype(str)\n",
    "y = datay.astype(str)\n",
    "\n",
    "X = ordinal.fit_transform(X)\n",
    "y = label_encoder.fit_transform(y)\n",
    "    \n",
    "X_train, X_test, y_train, y_test = train_test_split(X, y, test_size=0.2, random_state=1)\n",
    "\n",
    "model = XGBClassifier(\"binary:logistic\")\n",
    "model.fit(X_train, y_train)\n",
    "\n",
    "y_pred = model.predict(X_test)\n",
    "predictions = [round(value) for value in y_pred]\n",
    "    \n",
    "accuracy = accuracy_score(y_test, predictions)\n",
    "print('Accuracy for MT_G5 is',round((100*accuracy),2))\n",
    "accs.append(accuracy)\n",
    "model.fit(X, y)"
   ]
  },
  {
   "cell_type": "code",
   "execution_count": 89,
   "metadata": {},
   "outputs": [],
   "source": [
    "with open('XGBC_MT_G5.pkl','wb') as f:\n",
    "    pickle.dump(model, f)"
   ]
  },
  {
   "cell_type": "code",
   "execution_count": 90,
   "metadata": {},
   "outputs": [
    {
     "name": "stdout",
     "output_type": "stream",
     "text": [
      "[0.9213483146067416, 0.8876543209876543, 0.8023255813953488, 0.8629441624365483, 0.9213483146067416, 0.9213483146067416, 0.8023255813953488, 0.9213483146067416, 0.8876543209876543, 0.8023255813953488, 0.8023255813953488, 0.8629441624365483, 0.6119235095613048, 0.5903614457831325, 0.8026666666666666, 0.5348837209302325, 0.6233766233766234] \n",
      "\n",
      "Average accuracy of XGBClassifier is = 79.76\n"
     ]
    }
   ],
   "source": [
    "print(accs,\"\\n\")\n",
    "print('Average accuracy of XGBClassifier is =',round(100*mean(accs),2))"
   ]
  },
  {
   "cell_type": "markdown",
   "metadata": {},
   "source": [
    "***\n",
    "## RANDOM FOREST CLASSIFIER"
   ]
  },
  {
   "cell_type": "code",
   "execution_count": 91,
   "metadata": {},
   "outputs": [],
   "source": [
    "accs = []"
   ]
  },
  {
   "cell_type": "markdown",
   "metadata": {},
   "source": [
    "### PQ"
   ]
  },
  {
   "cell_type": "code",
   "execution_count": 92,
   "metadata": {},
   "outputs": [
    {
     "name": "stdout",
     "output_type": "stream",
     "text": [
      "Accuracy for PQ_G1 is 90.34\n"
     ]
    },
    {
     "data": {
      "text/plain": [
       "RandomForestClassifier()"
      ]
     },
     "execution_count": 92,
     "metadata": {},
     "output_type": "execute_result"
    }
   ],
   "source": [
    "dataframe = pd.read_csv('PQ_G1.csv')\n",
    "X = dataframe.drop(columns=['RECRUITMENT_CAT','PATNO','EVENT_ID','PAG_NAME_1','PAG_NAME_2','PAG_NAME_3','PAG_NAME_4'],axis=1) \n",
    "y = dataframe['RECRUITMENT_CAT']\n",
    "\n",
    "X = ordinal.fit_transform(X)\n",
    "y = label_encoder.fit_transform(y)\n",
    "\n",
    "model = RandomForestClassifier()\n",
    "cv = RepeatedStratifiedKFold(n_splits=10, n_repeats=3, random_state=1)\n",
    "n_scores = cross_val_score(model, X, y, scoring='accuracy', cv=cv, n_jobs=-1, error_score='raise')\n",
    "\n",
    "print('Accuracy for PQ_G1 is',round((100*mean(n_scores)),2))\n",
    "accs.append(100*mean(n_scores))\n",
    "model.fit(X, y)"
   ]
  },
  {
   "cell_type": "code",
   "execution_count": 93,
   "metadata": {},
   "outputs": [],
   "source": [
    "with open('RFC_PQ_G1.pkl','wb') as f:\n",
    "    pickle.dump(model, f)"
   ]
  },
  {
   "cell_type": "code",
   "execution_count": 11,
   "metadata": {},
   "outputs": [
    {
     "name": "stdout",
     "output_type": "stream",
     "text": [
      "Accuracy for PQ_G2 is 86.99\n"
     ]
    },
    {
     "data": {
      "text/plain": [
       "RandomForestClassifier()"
      ]
     },
     "execution_count": 11,
     "metadata": {},
     "output_type": "execute_result"
    }
   ],
   "source": [
    "dataframe = pd.read_csv('PQ_G2.csv')\n",
    "X = dataframe.drop(columns=['RECRUITMENT_CAT','PATNO','EVENT_ID','PAG_NAME_1','PAG_NAME_2'],axis=1) \n",
    "y = dataframe['RECRUITMENT_CAT']\n",
    "\n",
    "X = ordinal.fit_transform(X)\n",
    "y = label_encoder.fit_transform(y)\n",
    "\n",
    "model = RandomForestClassifier()\n",
    "cv = RepeatedStratifiedKFold(n_splits=10, n_repeats=3, random_state=1)\n",
    "n_scores = cross_val_score(model, X, y, scoring='accuracy', cv=cv, n_jobs=-1, error_score='raise')\n",
    "\n",
    "print('Accuracy for PQ_G2 is',round((100*mean(n_scores)),2))\n",
    "accs.append(100*mean(n_scores))\n",
    "model.fit(X, y)"
   ]
  },
  {
   "cell_type": "code",
   "execution_count": 12,
   "metadata": {},
   "outputs": [],
   "source": [
    "with open('RFC_PQ_G2.pkl','wb') as f:\n",
    "    pickle.dump(model, f)"
   ]
  },
  {
   "cell_type": "code",
   "execution_count": 96,
   "metadata": {},
   "outputs": [
    {
     "name": "stdout",
     "output_type": "stream",
     "text": [
      "Accuracy for PQ_G3 is 82.48\n"
     ]
    },
    {
     "data": {
      "text/plain": [
       "RandomForestClassifier()"
      ]
     },
     "execution_count": 96,
     "metadata": {},
     "output_type": "execute_result"
    }
   ],
   "source": [
    "dataframe = pd.read_csv('PQ_G3.csv')\n",
    "X = dataframe.drop(columns=['RECRUITMENT_CAT','PATNO','EVENT_ID','PAG_NAME_1','PAG_NAME_2','PAG_NAME_3'],axis=1) \n",
    "y = dataframe['RECRUITMENT_CAT']\n",
    "\n",
    "X = ordinal.fit_transform(X)\n",
    "y = label_encoder.fit_transform(y)\n",
    "\n",
    "model = RandomForestClassifier()\n",
    "cv = RepeatedStratifiedKFold(n_splits=10, n_repeats=3, random_state=1)\n",
    "n_scores = cross_val_score(model, X, y, scoring='accuracy', cv=cv, n_jobs=-1, error_score='raise')\n",
    "\n",
    "print('Accuracy for PQ_G3 is',round((100*mean(n_scores)),2))\n",
    "accs.append(100*mean(n_scores))\n",
    "model.fit(X, y)"
   ]
  },
  {
   "cell_type": "code",
   "execution_count": 97,
   "metadata": {},
   "outputs": [],
   "source": [
    "with open('RFC_PQ_G3.pkl','wb') as f:\n",
    "    pickle.dump(model, f)"
   ]
  },
  {
   "cell_type": "code",
   "execution_count": 98,
   "metadata": {},
   "outputs": [
    {
     "name": "stdout",
     "output_type": "stream",
     "text": [
      "Accuracy for PQ_G4 is 85.81\n"
     ]
    },
    {
     "data": {
      "text/plain": [
       "RandomForestClassifier()"
      ]
     },
     "execution_count": 98,
     "metadata": {},
     "output_type": "execute_result"
    }
   ],
   "source": [
    "dataframe = pd.read_csv('PQ_G4.csv')\n",
    "X = dataframe.drop(columns=['RECRUITMENT_CAT','PATNO','EVENT_ID','PAG_NAME'],axis=1) \n",
    "y = dataframe['RECRUITMENT_CAT']\n",
    "\n",
    "X = ordinal.fit_transform(X)\n",
    "y = label_encoder.fit_transform(y)\n",
    "\n",
    "model = RandomForestClassifier()\n",
    "cv = RepeatedStratifiedKFold(n_splits=10, n_repeats=3, random_state=1)\n",
    "n_scores = cross_val_score(model, X, y, scoring='accuracy', cv=cv, n_jobs=-1, error_score='raise')\n",
    "\n",
    "print('Accuracy for PQ_G4 is',round((100*mean(n_scores)),2))\n",
    "accs.append(100*mean(n_scores))\n",
    "model.fit(X, y)"
   ]
  },
  {
   "cell_type": "code",
   "execution_count": 99,
   "metadata": {},
   "outputs": [],
   "source": [
    "with open('RFC_PQ_G4.pkl','wb') as f:\n",
    "    pickle.dump(model, f)"
   ]
  },
  {
   "cell_type": "markdown",
   "metadata": {},
   "source": [
    "***\n",
    "### MT"
   ]
  },
  {
   "cell_type": "code",
   "execution_count": 100,
   "metadata": {},
   "outputs": [
    {
     "name": "stdout",
     "output_type": "stream",
     "text": [
      "Accuracy for MT_G1 is 63.25\n"
     ]
    },
    {
     "data": {
      "text/plain": [
       "RandomForestClassifier()"
      ]
     },
     "execution_count": 100,
     "metadata": {},
     "output_type": "execute_result"
    }
   ],
   "source": [
    "dataframe = pd.read_csv('MT_G1.csv')\n",
    "X = dataframe.drop(columns=['RECRUITMENT_CAT','PATNO','EVENT_ID','PAG_NAME_1','PAG_NAME_2'],axis=1) \n",
    "y = dataframe['RECRUITMENT_CAT']\n",
    "    \n",
    "datax = X.values\n",
    "datay = y.values\n",
    "X = datax.astype(str)\n",
    "y = datay.astype(str)\n",
    "\n",
    "X = ordinal.fit_transform(X)\n",
    "y = label_encoder.fit_transform(y)\n",
    "\n",
    "model = RandomForestClassifier()\n",
    "cv = RepeatedStratifiedKFold(n_splits=10, n_repeats=3, random_state=1)\n",
    "n_scores = cross_val_score(model, X, y, scoring='accuracy', cv=cv, n_jobs=-1, error_score='raise')\n",
    "print('Accuracy for MT_G1 is',round((100*mean(n_scores)),2))\n",
    "accs.append(100*mean(n_scores))\n",
    "model.fit(X, y)"
   ]
  },
  {
   "cell_type": "code",
   "execution_count": 101,
   "metadata": {},
   "outputs": [],
   "source": [
    "with open('RFC_MT_G1.pkl','wb') as f:\n",
    "    pickle.dump(model, f)"
   ]
  },
  {
   "cell_type": "code",
   "execution_count": 102,
   "metadata": {},
   "outputs": [
    {
     "name": "stdout",
     "output_type": "stream",
     "text": [
      "Accuracy for MT_G2 is 62.61\n"
     ]
    },
    {
     "data": {
      "text/plain": [
       "RandomForestClassifier()"
      ]
     },
     "execution_count": 102,
     "metadata": {},
     "output_type": "execute_result"
    }
   ],
   "source": [
    "dataframe = pd.read_csv('MT_G2.csv')\n",
    "X = dataframe.drop(columns=['RECRUITMENT_CAT','PATNO','EVENT_ID','PAG_NAME_1','PAG_NAME_2'],axis=1) \n",
    "y = dataframe['RECRUITMENT_CAT']\n",
    "    \n",
    "datax = X.values\n",
    "datay = y.values\n",
    "X = datax.astype(str)\n",
    "y = datay.astype(str)\n",
    "\n",
    "X = ordinal.fit_transform(X)\n",
    "y = label_encoder.fit_transform(y)\n",
    "\n",
    "model = RandomForestClassifier()\n",
    "cv = RepeatedStratifiedKFold(n_splits=10, n_repeats=3, random_state=1)\n",
    "n_scores = cross_val_score(model, X, y, scoring='accuracy', cv=cv, n_jobs=-1, error_score='raise')\n",
    "print('Accuracy for MT_G2 is',round((100*mean(n_scores)),2))\n",
    "accs.append(100*mean(n_scores))\n",
    "model.fit(X, y)"
   ]
  },
  {
   "cell_type": "code",
   "execution_count": 103,
   "metadata": {},
   "outputs": [],
   "source": [
    "with open('RFC_MT_G2.pkl','wb') as f:\n",
    "    pickle.dump(model, f)"
   ]
  },
  {
   "cell_type": "code",
   "execution_count": 104,
   "metadata": {},
   "outputs": [
    {
     "name": "stdout",
     "output_type": "stream",
     "text": [
      "Accuracy for MT_G3 is 77.48\n"
     ]
    },
    {
     "data": {
      "text/plain": [
       "RandomForestClassifier()"
      ]
     },
     "execution_count": 104,
     "metadata": {},
     "output_type": "execute_result"
    }
   ],
   "source": [
    "dataframe = pd.read_csv('MT_G3.csv')\n",
    "X = dataframe.drop(columns=['RECRUITMENT_CAT','PATNO','EVENT_ID','PAG_NAME_1','PAG_NAME_2'],axis=1) \n",
    "y = dataframe['RECRUITMENT_CAT']\n",
    "    \n",
    "datax = X.values\n",
    "datay = y.values\n",
    "X = datax.astype(str)\n",
    "y = datay.astype(str)\n",
    "\n",
    "X = ordinal.fit_transform(X)\n",
    "y = label_encoder.fit_transform(y)\n",
    "\n",
    "model = RandomForestClassifier()\n",
    "cv = RepeatedStratifiedKFold(n_splits=10, n_repeats=3, random_state=1)\n",
    "n_scores = cross_val_score(model, X, y, scoring='accuracy', cv=cv, n_jobs=-1, error_score='raise')\n",
    "print('Accuracy for MT_G3 is',round((100*mean(n_scores)),2))\n",
    "accs.append(100*mean(n_scores))\n",
    "model.fit(X, y)"
   ]
  },
  {
   "cell_type": "code",
   "execution_count": 105,
   "metadata": {},
   "outputs": [],
   "source": [
    "with open('RFC_MT_G3.pkl','wb') as f:\n",
    "    pickle.dump(model, f)"
   ]
  },
  {
   "cell_type": "code",
   "execution_count": 106,
   "metadata": {},
   "outputs": [
    {
     "name": "stdout",
     "output_type": "stream",
     "text": [
      "Accuracy for MT_G4 is 64.6\n"
     ]
    },
    {
     "data": {
      "text/plain": [
       "RandomForestClassifier()"
      ]
     },
     "execution_count": 106,
     "metadata": {},
     "output_type": "execute_result"
    }
   ],
   "source": [
    "dataframe = pd.read_csv('MT_G4.csv')\n",
    "X = dataframe.drop(columns=['RECRUITMENT_CAT','PATNO','EVENT_ID','PAG_NAME_1','PAG_NAME_2'],axis=1) \n",
    "y = dataframe['RECRUITMENT_CAT']\n",
    "    \n",
    "datax = X.values\n",
    "datay = y.values\n",
    "X = datax.astype(str)\n",
    "y = datay.astype(str)\n",
    "\n",
    "X = ordinal.fit_transform(X)\n",
    "y = label_encoder.fit_transform(y)\n",
    "\n",
    "model = RandomForestClassifier()\n",
    "cv = RepeatedStratifiedKFold(n_splits=10, n_repeats=3, random_state=1)\n",
    "n_scores = cross_val_score(model, X, y, scoring='accuracy', cv=cv, n_jobs=-1, error_score='raise')\n",
    "print('Accuracy for MT_G4 is',round((100*mean(n_scores)),2))\n",
    "accs.append(100*mean(n_scores))\n",
    "model.fit(X, y)"
   ]
  },
  {
   "cell_type": "code",
   "execution_count": 107,
   "metadata": {},
   "outputs": [],
   "source": [
    "with open('RFC_MT_G4.pkl','wb') as f:\n",
    "    pickle.dump(model, f)"
   ]
  },
  {
   "cell_type": "code",
   "execution_count": 108,
   "metadata": {},
   "outputs": [
    {
     "name": "stdout",
     "output_type": "stream",
     "text": [
      "Accuracy for MT_G5 is 64.78\n"
     ]
    },
    {
     "data": {
      "text/plain": [
       "RandomForestClassifier()"
      ]
     },
     "execution_count": 108,
     "metadata": {},
     "output_type": "execute_result"
    }
   ],
   "source": [
    "dataframe = pd.read_csv('MT_G5.csv')\n",
    "X = dataframe.drop(columns=['RECRUITMENT_CAT','PATNO','EVENT_ID','PAG_NAME'],axis=1) \n",
    "y = dataframe['RECRUITMENT_CAT']\n",
    "\n",
    "X = ordinal.fit_transform(X)\n",
    "y = label_encoder.fit_transform(y)\n",
    "\n",
    "model = RandomForestClassifier()\n",
    "cv = RepeatedStratifiedKFold(n_splits=10, n_repeats=3, random_state=1)\n",
    "n_scores = cross_val_score(model, X, y, scoring='accuracy', cv=cv, n_jobs=-1, error_score='raise')\n",
    "\n",
    "print('Accuracy for MT_G5 is',round((100*mean(n_scores)),2))\n",
    "accs.append(100*mean(n_scores))\n",
    "model.fit(X, y)"
   ]
  },
  {
   "cell_type": "code",
   "execution_count": 109,
   "metadata": {},
   "outputs": [],
   "source": [
    "with open('RFC_MT_G5.pkl','wb') as f:\n",
    "    pickle.dump(model, f)"
   ]
  },
  {
   "cell_type": "code",
   "execution_count": 110,
   "metadata": {},
   "outputs": [
    {
     "name": "stdout",
     "output_type": "stream",
     "text": [
      "[90.34219495569185, 87.59508004089793, 82.48246585455888, 85.8117624787026, 63.246448695886905, 62.61324041811849, 77.48080808080807, 64.59535256410257, 64.77732793522267] \n",
      "\n",
      "Average accuracy of Random Forest Classifier is = 75.44\n"
     ]
    }
   ],
   "source": [
    "print(accs,\"\\n\")\n",
    "print('Average accuracy of Random Forest Classifier is =',round(mean(accs),2))"
   ]
  },
  {
   "cell_type": "markdown",
   "metadata": {},
   "source": [
    "***\n",
    "\n",
    "## LOGISTIC REGRESSION"
   ]
  },
  {
   "cell_type": "code",
   "execution_count": 156,
   "metadata": {},
   "outputs": [],
   "source": [
    "accs = []"
   ]
  },
  {
   "cell_type": "markdown",
   "metadata": {},
   "source": [
    "### PQ"
   ]
  },
  {
   "cell_type": "code",
   "execution_count": 157,
   "metadata": {},
   "outputs": [
    {
     "name": "stdout",
     "output_type": "stream",
     "text": [
      "Accuracy for PQ_G1 is 90.4\n"
     ]
    },
    {
     "data": {
      "text/plain": [
       "LogisticRegression()"
      ]
     },
     "execution_count": 157,
     "metadata": {},
     "output_type": "execute_result"
    }
   ],
   "source": [
    "dataframe = pd.read_csv('PQ_G1.csv')\n",
    "X = dataframe.drop(columns=['RECRUITMENT_CAT','PATNO','EVENT_ID','PAG_NAME_1','PAG_NAME_2','PAG_NAME_3','PAG_NAME_4'],axis=1) \n",
    "y = dataframe['RECRUITMENT_CAT']\n",
    "\n",
    "# datax = X.values\n",
    "# datay = y.values\n",
    "\n",
    "# X = datax.astype(str)\n",
    "# y = datay.astype(str)\n",
    "\n",
    "X = ordinal.fit_transform(X)\n",
    "y = label_encoder.fit_transform(y)\n",
    "\n",
    "X_train, X_test, y_train, y_test = train_test_split(X, y, test_size=0.2, random_state=1)\n",
    "\n",
    "model = LogisticRegression()\n",
    "model.fit(X_train, y_train)\n",
    "yhat = model.predict(X_test)\n",
    "\n",
    "accuracy = accuracy_score(y_test, yhat)\n",
    "print('Accuracy for PQ_G1 is',round((100*accuracy),2))\n",
    "accs.append(accuracy)\n",
    "model.fit(X, y)"
   ]
  },
  {
   "cell_type": "code",
   "execution_count": 158,
   "metadata": {},
   "outputs": [],
   "source": [
    "with open('LR_PQ_G1.pkl','wb') as f:\n",
    "    pickle.dump(model, f)"
   ]
  },
  {
   "cell_type": "code",
   "execution_count": 13,
   "metadata": {},
   "outputs": [
    {
     "name": "stdout",
     "output_type": "stream",
     "text": [
      "Accuracy for PQ_G2 is 87.04\n"
     ]
    },
    {
     "data": {
      "text/plain": [
       "LogisticRegression()"
      ]
     },
     "execution_count": 13,
     "metadata": {},
     "output_type": "execute_result"
    }
   ],
   "source": [
    "dataframe = pd.read_csv('PQ_G2.csv')\n",
    "X = dataframe.drop(columns=['RECRUITMENT_CAT','PATNO','EVENT_ID','PAG_NAME_1','PAG_NAME_2'],axis=1) \n",
    "y = dataframe['RECRUITMENT_CAT']\n",
    "\n",
    "X = ordinal.fit_transform(X)\n",
    "y = label_encoder.fit_transform(y)\n",
    "\n",
    "X_train, X_test, y_train, y_test = train_test_split(X, y, test_size=0.2, random_state=1)\n",
    "\n",
    "model = LogisticRegression()\n",
    "model.fit(X_train, y_train)\n",
    "yhat = model.predict(X_test)\n",
    "\n",
    "accuracy = accuracy_score(y_test, yhat)\n",
    "print('Accuracy for PQ_G2 is',round((100*accuracy),2))\n",
    "accs.append(accuracy)\n",
    "model.fit(X, y)"
   ]
  },
  {
   "cell_type": "code",
   "execution_count": 14,
   "metadata": {},
   "outputs": [],
   "source": [
    "with open('LR_PQ_G2.pkl','wb') as f:\n",
    "    pickle.dump(model, f)"
   ]
  },
  {
   "cell_type": "code",
   "execution_count": 161,
   "metadata": {},
   "outputs": [
    {
     "name": "stdout",
     "output_type": "stream",
     "text": [
      "Accuracy for PQ_G3 is 77.91\n"
     ]
    },
    {
     "data": {
      "text/plain": [
       "LogisticRegression()"
      ]
     },
     "execution_count": 161,
     "metadata": {},
     "output_type": "execute_result"
    }
   ],
   "source": [
    "dataframe = pd.read_csv('PQ_G3.csv')\n",
    "X = dataframe.drop(columns=['RECRUITMENT_CAT','PATNO','EVENT_ID','PAG_NAME_1','PAG_NAME_2','PAG_NAME_3'],axis=1) \n",
    "y = dataframe['RECRUITMENT_CAT']\n",
    "\n",
    "X = ordinal.fit_transform(X)\n",
    "y = label_encoder.fit_transform(y)\n",
    "\n",
    "X_train, X_test, y_train, y_test = train_test_split(X, y, test_size=0.2, random_state=1)\n",
    "\n",
    "model = LogisticRegression()\n",
    "model.fit(X_train, y_train)\n",
    "yhat = model.predict(X_test)\n",
    "\n",
    "accuracy = accuracy_score(y_test, yhat)\n",
    "print('Accuracy for PQ_G3 is',round((100*accuracy),2))\n",
    "accs.append(accuracy)\n",
    "model.fit(X, y)"
   ]
  },
  {
   "cell_type": "code",
   "execution_count": 162,
   "metadata": {},
   "outputs": [],
   "source": [
    "with open('LR_PQ_G3.pkl','wb') as f:\n",
    "    pickle.dump(model, f)"
   ]
  },
  {
   "cell_type": "code",
   "execution_count": 163,
   "metadata": {},
   "outputs": [
    {
     "name": "stdout",
     "output_type": "stream",
     "text": [
      "Accuracy for PQ_G4 is 86.29\n"
     ]
    },
    {
     "data": {
      "text/plain": [
       "LogisticRegression()"
      ]
     },
     "execution_count": 163,
     "metadata": {},
     "output_type": "execute_result"
    }
   ],
   "source": [
    "dataframe = pd.read_csv('PQ_G4.csv')\n",
    "X = dataframe.drop(columns=['RECRUITMENT_CAT','PATNO','EVENT_ID','PAG_NAME'],axis=1) \n",
    "y = dataframe['RECRUITMENT_CAT']\n",
    "\n",
    "X = ordinal.fit_transform(X)\n",
    "y = label_encoder.fit_transform(y)\n",
    "\n",
    "X_train, X_test, y_train, y_test = train_test_split(X, y, test_size=0.2, random_state=1)\n",
    "\n",
    "model = LogisticRegression()\n",
    "model.fit(X_train, y_train)\n",
    "yhat = model.predict(X_test)\n",
    "\n",
    "accuracy = accuracy_score(y_test, yhat)\n",
    "print('Accuracy for PQ_G4 is',round((100*accuracy),2))\n",
    "accs.append(accuracy)\n",
    "model.fit(X, y)"
   ]
  },
  {
   "cell_type": "code",
   "execution_count": 164,
   "metadata": {},
   "outputs": [],
   "source": [
    "with open('LR_PQ_G4.pkl','wb') as f:\n",
    "    pickle.dump(model, f)"
   ]
  },
  {
   "cell_type": "markdown",
   "metadata": {},
   "source": [
    "***\n",
    "### MT"
   ]
  },
  {
   "cell_type": "code",
   "execution_count": 165,
   "metadata": {},
   "outputs": [
    {
     "name": "stdout",
     "output_type": "stream",
     "text": [
      "Accuracy for MT_G1 is 61.98\n"
     ]
    },
    {
     "data": {
      "text/plain": [
       "LogisticRegression()"
      ]
     },
     "execution_count": 165,
     "metadata": {},
     "output_type": "execute_result"
    }
   ],
   "source": [
    "dataframe = pd.read_csv('MT_G1.csv')\n",
    "X = dataframe.drop(columns=['RECRUITMENT_CAT','PATNO','EVENT_ID','PAG_NAME_1','PAG_NAME_2'],axis=1) \n",
    "y = dataframe['RECRUITMENT_CAT']\n",
    "\n",
    "X = ordinal.fit_transform(X)\n",
    "y = label_encoder.fit_transform(y)\n",
    "\n",
    "X_train, X_test, y_train, y_test = train_test_split(X, y, test_size=0.2, random_state=1)\n",
    "\n",
    "model = LogisticRegression()\n",
    "model.fit(X_train, y_train)\n",
    "yhat = model.predict(X_test)\n",
    "\n",
    "accuracy = accuracy_score(y_test, yhat)\n",
    "print('Accuracy for MT_G1 is',round((100*accuracy),2))\n",
    "accs.append(accuracy)\n",
    "model.fit(X, y)"
   ]
  },
  {
   "cell_type": "code",
   "execution_count": 166,
   "metadata": {},
   "outputs": [],
   "source": [
    "with open('LR_MT_G1.pkl','wb') as f:\n",
    "    pickle.dump(model, f)"
   ]
  },
  {
   "cell_type": "code",
   "execution_count": 167,
   "metadata": {},
   "outputs": [
    {
     "name": "stdout",
     "output_type": "stream",
     "text": [
      "Accuracy for MT_G2 is 62.65\n"
     ]
    },
    {
     "data": {
      "text/plain": [
       "LogisticRegression()"
      ]
     },
     "execution_count": 167,
     "metadata": {},
     "output_type": "execute_result"
    }
   ],
   "source": [
    "dataframe = pd.read_csv('MT_G2.csv')\n",
    "X = dataframe.drop(columns=['RECRUITMENT_CAT','PATNO','EVENT_ID','PAG_NAME_1','PAG_NAME_2'],axis=1) \n",
    "y = dataframe['RECRUITMENT_CAT']\n",
    "\n",
    "X = ordinal.fit_transform(X)\n",
    "y = label_encoder.fit_transform(y)\n",
    "\n",
    "X_train, X_test, y_train, y_test = train_test_split(X, y, test_size=0.2, random_state=1)\n",
    "\n",
    "model = LogisticRegression()\n",
    "model.fit(X_train, y_train)\n",
    "yhat = model.predict(X_test)\n",
    "\n",
    "accuracy = accuracy_score(y_test, yhat)\n",
    "print('Accuracy for MT_G2 is',round((100*accuracy),2))\n",
    "accs.append(accuracy)\n",
    "model.fit(X, y)"
   ]
  },
  {
   "cell_type": "code",
   "execution_count": 168,
   "metadata": {},
   "outputs": [],
   "source": [
    "with open('LR_MT_G2.pkl','wb') as f:\n",
    "    pickle.dump(model, f)"
   ]
  },
  {
   "cell_type": "code",
   "execution_count": 169,
   "metadata": {},
   "outputs": [
    {
     "name": "stdout",
     "output_type": "stream",
     "text": [
      "Accuracy for MT_G3 is 80.8\n"
     ]
    },
    {
     "data": {
      "text/plain": [
       "LogisticRegression()"
      ]
     },
     "execution_count": 169,
     "metadata": {},
     "output_type": "execute_result"
    }
   ],
   "source": [
    "dataframe = pd.read_csv('MT_G3.csv')\n",
    "X = dataframe.drop(columns=['RECRUITMENT_CAT','PATNO','EVENT_ID','PAG_NAME_1','PAG_NAME_2'],axis=1) \n",
    "y = dataframe['RECRUITMENT_CAT']\n",
    "\n",
    "X = ordinal.fit_transform(X)\n",
    "y = label_encoder.fit_transform(y)\n",
    "\n",
    "X_train, X_test, y_train, y_test = train_test_split(X, y, test_size=0.2, random_state=1)\n",
    "\n",
    "model = LogisticRegression()\n",
    "model.fit(X_train, y_train)\n",
    "yhat = model.predict(X_test)\n",
    "\n",
    "accuracy = accuracy_score(y_test, yhat)\n",
    "print('Accuracy for MT_G3 is',round((100*accuracy),2))\n",
    "accs.append(accuracy)\n",
    "model.fit(X, y)"
   ]
  },
  {
   "cell_type": "code",
   "execution_count": 170,
   "metadata": {},
   "outputs": [],
   "source": [
    "with open('LR_MT_G3.pkl','wb') as f:\n",
    "    pickle.dump(model, f)"
   ]
  },
  {
   "cell_type": "code",
   "execution_count": 171,
   "metadata": {},
   "outputs": [
    {
     "name": "stdout",
     "output_type": "stream",
     "text": [
      "Accuracy for MT_G4 is 62.79\n"
     ]
    },
    {
     "data": {
      "text/plain": [
       "LogisticRegression()"
      ]
     },
     "execution_count": 171,
     "metadata": {},
     "output_type": "execute_result"
    }
   ],
   "source": [
    "dataframe = pd.read_csv('MT_G4.csv')\n",
    "X = dataframe.drop(columns=['RECRUITMENT_CAT','PATNO','EVENT_ID','PAG_NAME_1','PAG_NAME_2'],axis=1) \n",
    "y = dataframe['RECRUITMENT_CAT']\n",
    "\n",
    "datax = X.values\n",
    "datay = y.values\n",
    "X = datax.astype(str)\n",
    "y = datay.astype(str)\n",
    "    \n",
    "X = ordinal.fit_transform(X)\n",
    "y = label_encoder.fit_transform(y)\n",
    "\n",
    "X_train, X_test, y_train, y_test = train_test_split(X, y, test_size=0.2, random_state=1)\n",
    "\n",
    "model = LogisticRegression()\n",
    "model.fit(X_train, y_train)\n",
    "yhat = model.predict(X_test)\n",
    "\n",
    "accuracy = accuracy_score(y_test, yhat)\n",
    "print('Accuracy for MT_G4 is',round((100*accuracy),2))\n",
    "accs.append(accuracy)\n",
    "model.fit(X, y)"
   ]
  },
  {
   "cell_type": "code",
   "execution_count": 172,
   "metadata": {},
   "outputs": [],
   "source": [
    "with open('LR_MT_G4.pkl','wb') as f:\n",
    "    pickle.dump(model, f)"
   ]
  },
  {
   "cell_type": "code",
   "execution_count": 173,
   "metadata": {},
   "outputs": [
    {
     "name": "stdout",
     "output_type": "stream",
     "text": [
      "Accuracy for MT_G5 is 70.13\n"
     ]
    },
    {
     "data": {
      "text/plain": [
       "LogisticRegression()"
      ]
     },
     "execution_count": 173,
     "metadata": {},
     "output_type": "execute_result"
    }
   ],
   "source": [
    "dataframe = pd.read_csv('MT_G5.csv')\n",
    "X = dataframe.drop(columns=['RECRUITMENT_CAT','PATNO','EVENT_ID','PAG_NAME'],axis=1) \n",
    "y = dataframe['RECRUITMENT_CAT']\n",
    "\n",
    "X = ordinal.fit_transform(X)\n",
    "y = label_encoder.fit_transform(y)\n",
    "\n",
    "X_train, X_test, y_train, y_test = train_test_split(X, y, test_size=0.2, random_state=1)\n",
    "\n",
    "model = LogisticRegression()\n",
    "model.fit(X_train, y_train)\n",
    "yhat = model.predict(X_test)\n",
    "\n",
    "accuracy = accuracy_score(y_test, yhat)\n",
    "print('Accuracy for MT_G5 is',round((100*accuracy),2))\n",
    "accs.append(accuracy)\n",
    "model.fit(X, y)"
   ]
  },
  {
   "cell_type": "code",
   "execution_count": 174,
   "metadata": {},
   "outputs": [],
   "source": [
    "with open('LR_MT_G5.pkl','wb') as f:\n",
    "    pickle.dump(model, f)"
   ]
  },
  {
   "cell_type": "code",
   "execution_count": 175,
   "metadata": {},
   "outputs": [
    {
     "name": "stdout",
     "output_type": "stream",
     "text": [
      "[0.9039836567926456, 0.8765432098765432, 0.7790697674418605, 0.8629441624365483, 0.6197975253093363, 0.6265060240963856, 0.808, 0.627906976744186, 0.7012987012987013] \n",
      "\n",
      "Average accuracy of Logistic Regression is = 75.62\n"
     ]
    }
   ],
   "source": [
    "print(accs,\"\\n\")\n",
    "print('Average accuracy of Logistic Regression is =',round(100*mean(accs),2))"
   ]
  },
  {
   "cell_type": "markdown",
   "metadata": {},
   "source": [
    "***\n",
    "\n",
    "## LIGHTGBM CLASSIFIER"
   ]
  },
  {
   "cell_type": "code",
   "execution_count": 177,
   "metadata": {},
   "outputs": [],
   "source": [
    "accs = []"
   ]
  },
  {
   "cell_type": "markdown",
   "metadata": {},
   "source": [
    "### PQ"
   ]
  },
  {
   "cell_type": "code",
   "execution_count": 178,
   "metadata": {},
   "outputs": [
    {
     "name": "stdout",
     "output_type": "stream",
     "text": [
      "Accuracy for PQ_G1 is 91.3\n"
     ]
    },
    {
     "data": {
      "text/plain": [
       "LGBMClassifier()"
      ]
     },
     "execution_count": 178,
     "metadata": {},
     "output_type": "execute_result"
    }
   ],
   "source": [
    "dataframe = pd.read_csv('PQ_G1.csv')\n",
    "X = dataframe.drop(columns=['RECRUITMENT_CAT','PATNO','EVENT_ID','PAG_NAME_1','PAG_NAME_2','PAG_NAME_3','PAG_NAME_4'],axis=1) \n",
    "y = dataframe['RECRUITMENT_CAT']\n",
    "    \n",
    "X = ordinal.fit_transform(X)\n",
    "y = label_encoder.fit_transform(y)\n",
    "\n",
    "model = LGBMClassifier()\n",
    "cv = RepeatedStratifiedKFold(n_splits=10, n_repeats=3, random_state=1)\n",
    "n_scores = cross_val_score(model, X, y, scoring='accuracy', cv=cv, n_jobs=-1, error_score='raise')\n",
    "    \n",
    "print('Accuracy for PQ_G1 is',round((100*mean(n_scores)),2))\n",
    "accs.append(mean(n_scores))\n",
    "model.fit(X, y)"
   ]
  },
  {
   "cell_type": "code",
   "execution_count": 179,
   "metadata": {},
   "outputs": [],
   "source": [
    "with open('LGBMC_PQ_G1.pkl','wb') as f:\n",
    "    pickle.dump(model, f)"
   ]
  },
  {
   "cell_type": "code",
   "execution_count": 15,
   "metadata": {},
   "outputs": [
    {
     "name": "stdout",
     "output_type": "stream",
     "text": [
      "Accuracy for PQ_G2 is 87.89\n"
     ]
    },
    {
     "data": {
      "text/plain": [
       "LGBMClassifier()"
      ]
     },
     "execution_count": 15,
     "metadata": {},
     "output_type": "execute_result"
    }
   ],
   "source": [
    "dataframe = pd.read_csv('PQ_G2.csv')\n",
    "X = dataframe.drop(columns=['RECRUITMENT_CAT','PATNO','EVENT_ID','PAG_NAME_1','PAG_NAME_2'],axis=1) \n",
    "y = dataframe['RECRUITMENT_CAT']\n",
    "\n",
    "X = ordinal.fit_transform(X)\n",
    "y = label_encoder.fit_transform(y)\n",
    "\n",
    "model = LGBMClassifier()\n",
    "cv = RepeatedStratifiedKFold(n_splits=10, n_repeats=3, random_state=1)\n",
    "n_scores = cross_val_score(model, X, y, scoring='accuracy', cv=cv, n_jobs=-1, error_score='raise')\n",
    "    \n",
    "print('Accuracy for PQ_G2 is',round((100*mean(n_scores)),2))\n",
    "accs.append(mean(n_scores))\n",
    "model.fit(X, y)"
   ]
  },
  {
   "cell_type": "code",
   "execution_count": 16,
   "metadata": {},
   "outputs": [],
   "source": [
    "with open('LGBMC_PQ_G2.pkl','wb') as f:\n",
    "    pickle.dump(model, f)"
   ]
  },
  {
   "cell_type": "code",
   "execution_count": 182,
   "metadata": {},
   "outputs": [
    {
     "name": "stdout",
     "output_type": "stream",
     "text": [
      "Accuracy for PQ_G3 is 83.49\n"
     ]
    },
    {
     "data": {
      "text/plain": [
       "LGBMClassifier()"
      ]
     },
     "execution_count": 182,
     "metadata": {},
     "output_type": "execute_result"
    }
   ],
   "source": [
    "dataframe = pd.read_csv('PQ_G3.csv')\n",
    "X = dataframe.drop(columns=['RECRUITMENT_CAT','PATNO','EVENT_ID','PAG_NAME_1','PAG_NAME_2','PAG_NAME_3'],axis=1) \n",
    "y = dataframe['RECRUITMENT_CAT']\n",
    "\n",
    "X = ordinal.fit_transform(X)\n",
    "y = label_encoder.fit_transform(y)\n",
    "\n",
    "model = LGBMClassifier()\n",
    "cv = RepeatedStratifiedKFold(n_splits=10, n_repeats=3, random_state=1)\n",
    "n_scores = cross_val_score(model, X, y, scoring='accuracy', cv=cv, n_jobs=-1, error_score='raise')\n",
    "    \n",
    "print('Accuracy for PQ_G3 is',round((100*mean(n_scores)),2))\n",
    "accs.append(mean(n_scores))\n",
    "model.fit(X, y)"
   ]
  },
  {
   "cell_type": "code",
   "execution_count": 183,
   "metadata": {},
   "outputs": [],
   "source": [
    "with open('LGBMC_PQ_G3.pkl','wb') as f:\n",
    "    pickle.dump(model, f)"
   ]
  },
  {
   "cell_type": "code",
   "execution_count": 184,
   "metadata": {},
   "outputs": [
    {
     "name": "stdout",
     "output_type": "stream",
     "text": [
      "Accuracy for PQ_G4 is 85.81\n"
     ]
    },
    {
     "data": {
      "text/plain": [
       "LGBMClassifier()"
      ]
     },
     "execution_count": 184,
     "metadata": {},
     "output_type": "execute_result"
    }
   ],
   "source": [
    "dataframe = pd.read_csv('PQ_G4.csv')\n",
    "X = dataframe.drop(columns=['RECRUITMENT_CAT','PATNO','EVENT_ID','PAG_NAME'],axis=1) \n",
    "y = dataframe['RECRUITMENT_CAT']\n",
    "\n",
    "X = ordinal.fit_transform(X)\n",
    "y = label_encoder.fit_transform(y)\n",
    "\n",
    "model = LGBMClassifier()\n",
    "cv = RepeatedStratifiedKFold(n_splits=10, n_repeats=3, random_state=1)\n",
    "n_scores = cross_val_score(model, X, y, scoring='accuracy', cv=cv, n_jobs=-1, error_score='raise')\n",
    "    \n",
    "print('Accuracy for PQ_G4 is',round((100*mean(n_scores)),2))\n",
    "accs.append(mean(n_scores))\n",
    "model.fit(X, y)"
   ]
  },
  {
   "cell_type": "code",
   "execution_count": 185,
   "metadata": {},
   "outputs": [],
   "source": [
    "with open('LGBMC_PQ_G4.pkl','wb') as f:\n",
    "    pickle.dump(model, f)"
   ]
  },
  {
   "cell_type": "markdown",
   "metadata": {},
   "source": [
    "***\n",
    "### MT"
   ]
  },
  {
   "cell_type": "code",
   "execution_count": 186,
   "metadata": {},
   "outputs": [
    {
     "name": "stdout",
     "output_type": "stream",
     "text": [
      "Accuracy for MT_G1 is 64.06\n"
     ]
    },
    {
     "data": {
      "text/plain": [
       "LGBMClassifier()"
      ]
     },
     "execution_count": 186,
     "metadata": {},
     "output_type": "execute_result"
    }
   ],
   "source": [
    "dataframe = pd.read_csv('MT_G1.csv')\n",
    "X = dataframe.drop(columns=['RECRUITMENT_CAT','PATNO','EVENT_ID','PAG_NAME_1','PAG_NAME_2'],axis=1) \n",
    "y = dataframe['RECRUITMENT_CAT']\n",
    "\n",
    "X = ordinal.fit_transform(X)\n",
    "y = label_encoder.fit_transform(y)\n",
    "\n",
    "model = LGBMClassifier()\n",
    "cv = RepeatedStratifiedKFold(n_splits=10, n_repeats=3, random_state=1)\n",
    "n_scores = cross_val_score(model, X, y, scoring='accuracy', cv=cv, n_jobs=-1, error_score='raise')\n",
    "    \n",
    "print('Accuracy for MT_G1 is',round((100*mean(n_scores)),2))\n",
    "accs.append(mean(n_scores))\n",
    "model.fit(X, y)"
   ]
  },
  {
   "cell_type": "code",
   "execution_count": 187,
   "metadata": {},
   "outputs": [],
   "source": [
    "with open('LGBMC_MT_G1.pkl','wb') as f:\n",
    "    pickle.dump(model, f)"
   ]
  },
  {
   "cell_type": "code",
   "execution_count": 188,
   "metadata": {},
   "outputs": [
    {
     "name": "stdout",
     "output_type": "stream",
     "text": [
      "Accuracy for MT_G2 is 57.7\n"
     ]
    },
    {
     "data": {
      "text/plain": [
       "LGBMClassifier()"
      ]
     },
     "execution_count": 188,
     "metadata": {},
     "output_type": "execute_result"
    }
   ],
   "source": [
    "dataframe = pd.read_csv('MT_G2.csv')\n",
    "X = dataframe.drop(columns=['RECRUITMENT_CAT','PATNO','EVENT_ID','PAG_NAME_1','PAG_NAME_2'],axis=1) \n",
    "y = dataframe['RECRUITMENT_CAT']\n",
    "\n",
    "X = ordinal.fit_transform(X)\n",
    "y = label_encoder.fit_transform(y)\n",
    "\n",
    "model = LGBMClassifier()\n",
    "cv = RepeatedStratifiedKFold(n_splits=10, n_repeats=3, random_state=1)\n",
    "n_scores = cross_val_score(model, X, y, scoring='accuracy', cv=cv, n_jobs=-1, error_score='raise')\n",
    "    \n",
    "print('Accuracy for MT_G2 is',round((100*mean(n_scores)),2))\n",
    "accs.append(mean(n_scores))\n",
    "model.fit(X, y)"
   ]
  },
  {
   "cell_type": "code",
   "execution_count": 189,
   "metadata": {},
   "outputs": [],
   "source": [
    "with open('LGBMC_MT_G2.pkl','wb') as f:\n",
    "    pickle.dump(model, f)"
   ]
  },
  {
   "cell_type": "code",
   "execution_count": 190,
   "metadata": {},
   "outputs": [
    {
     "name": "stdout",
     "output_type": "stream",
     "text": [
      "Accuracy for MT_G3 is 79.28\n"
     ]
    },
    {
     "data": {
      "text/plain": [
       "LGBMClassifier()"
      ]
     },
     "execution_count": 190,
     "metadata": {},
     "output_type": "execute_result"
    }
   ],
   "source": [
    "dataframe = pd.read_csv('MT_G3.csv')\n",
    "X = dataframe.drop(columns=['RECRUITMENT_CAT','PATNO','EVENT_ID','PAG_NAME_1','PAG_NAME_2'],axis=1) \n",
    "y = dataframe['RECRUITMENT_CAT']\n",
    "\n",
    "X = ordinal.fit_transform(X)\n",
    "y = label_encoder.fit_transform(y)\n",
    "\n",
    "model = LGBMClassifier()\n",
    "cv = RepeatedStratifiedKFold(n_splits=10, n_repeats=3, random_state=1)\n",
    "n_scores = cross_val_score(model, X, y, scoring='accuracy', cv=cv, n_jobs=-1, error_score='raise')\n",
    "    \n",
    "print('Accuracy for MT_G3 is',round((100*mean(n_scores)),2))\n",
    "accs.append(mean(n_scores))\n",
    "model.fit(X, y)"
   ]
  },
  {
   "cell_type": "code",
   "execution_count": 191,
   "metadata": {},
   "outputs": [],
   "source": [
    "with open('LGBMC_MT_G3.pkl','wb') as f:\n",
    "    pickle.dump(model, f)"
   ]
  },
  {
   "cell_type": "code",
   "execution_count": 195,
   "metadata": {},
   "outputs": [
    {
     "name": "stdout",
     "output_type": "stream",
     "text": [
      "Accuracy for MT_G4 is 62.64\n"
     ]
    },
    {
     "data": {
      "text/plain": [
       "LGBMClassifier()"
      ]
     },
     "execution_count": 195,
     "metadata": {},
     "output_type": "execute_result"
    }
   ],
   "source": [
    "dataframe = pd.read_csv('MT_G4.csv')\n",
    "X = dataframe.drop(columns=['RECRUITMENT_CAT','PATNO','EVENT_ID','PAG_NAME_1','PAG_NAME_2'],axis=1) \n",
    "y = dataframe['RECRUITMENT_CAT']\n",
    "\n",
    "datax = X.values\n",
    "datay = y.values\n",
    "\n",
    "X = datax.astype(str)\n",
    "y = datay.astype(str)\n",
    "\n",
    "X = ordinal.fit_transform(X)\n",
    "y = label_encoder.fit_transform(y)\n",
    "\n",
    "model = LGBMClassifier()\n",
    "cv = RepeatedStratifiedKFold(n_splits=10, n_repeats=3, random_state=1)\n",
    "n_scores = cross_val_score(model, X, y, scoring='accuracy', cv=cv, n_jobs=-1, error_score='raise')\n",
    "    \n",
    "print('Accuracy for MT_G4 is',round((100*mean(n_scores)),2))\n",
    "accs.append(mean(n_scores))\n",
    "model.fit(X, y)"
   ]
  },
  {
   "cell_type": "code",
   "execution_count": 196,
   "metadata": {},
   "outputs": [],
   "source": [
    "with open('LGBMC_MT_G4.pkl','wb') as f:\n",
    "    pickle.dump(model, f)"
   ]
  },
  {
   "cell_type": "code",
   "execution_count": 197,
   "metadata": {},
   "outputs": [
    {
     "name": "stdout",
     "output_type": "stream",
     "text": [
      "Accuracy for MT_G5 is 62.38\n"
     ]
    },
    {
     "data": {
      "text/plain": [
       "LGBMClassifier()"
      ]
     },
     "execution_count": 197,
     "metadata": {},
     "output_type": "execute_result"
    }
   ],
   "source": [
    "dataframe = pd.read_csv('MT_G5.csv')\n",
    "X = dataframe.drop(columns=['RECRUITMENT_CAT','PATNO','EVENT_ID','PAG_NAME'],axis=1) \n",
    "y = dataframe['RECRUITMENT_CAT']\n",
    "\n",
    "X = ordinal.fit_transform(X)\n",
    "y = label_encoder.fit_transform(y)\n",
    "\n",
    "model = LGBMClassifier()\n",
    "cv = RepeatedStratifiedKFold(n_splits=10, n_repeats=3, random_state=1)\n",
    "n_scores = cross_val_score(model, X, y, scoring='accuracy', cv=cv, n_jobs=-1, error_score='raise')\n",
    "    \n",
    "print('Accuracy for MT_G5 is',round((100*mean(n_scores)),2))\n",
    "accs.append(mean(n_scores))\n",
    "model.fit(X, y)"
   ]
  },
  {
   "cell_type": "code",
   "execution_count": 198,
   "metadata": {},
   "outputs": [],
   "source": [
    "with open('LGBMC_MT_G5.pkl','wb') as f:\n",
    "    pickle.dump(model, f)"
   ]
  },
  {
   "cell_type": "code",
   "execution_count": 199,
   "metadata": {},
   "outputs": [
    {
     "name": "stdout",
     "output_type": "stream",
     "text": [
      "[0.9130210202690482, 0.8838532558104046, 0.834939091915836, 0.858117624787026, 0.6405623038769105, 0.5770034843205575, 0.792774569221628, 0.6263621794871795, 0.623774179037337] \n",
      "\n",
      "Average accuracy of LGBMClassifier is = 75.0\n"
     ]
    }
   ],
   "source": [
    "print(accs,\"\\n\")\n",
    "print('Average accuracy of LGBMClassifier is =',round(100*mean(accs),2))"
   ]
  },
  {
   "cell_type": "markdown",
   "metadata": {},
   "source": [
    "***"
   ]
  }
 ],
 "metadata": {
  "kernelspec": {
   "display_name": "Python 3",
   "language": "python",
   "name": "python3"
  },
  "language_info": {
   "codemirror_mode": {
    "name": "ipython",
    "version": 3
   },
   "file_extension": ".py",
   "mimetype": "text/x-python",
   "name": "python",
   "nbconvert_exporter": "python",
   "pygments_lexer": "ipython3",
   "version": "3.8.8"
  }
 },
 "nbformat": 4,
 "nbformat_minor": 4
}
