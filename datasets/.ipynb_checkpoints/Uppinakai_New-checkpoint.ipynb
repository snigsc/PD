{
 "cells": [
  {
   "cell_type": "markdown",
   "metadata": {},
   "source": [
    "### OLD SUMMARY (before removing Unnamed: 0 column):\n",
    "\n",
    "- Average accuracy of **XGBClassifier** is = 87.42%\n",
    "- Average accuracy of **LGBMClassifier** is = 86.45%\n",
    "- Average accuracy of **Random Forest Classifier** is = 84.9%\n",
    "- Average accuracy of **Extra Trees Classifier** is =  84.25%\n",
    "- Average accuracy of **Logistic Regression** is = 79.96%\n",
    "\n",
    "#### AVERAGE ACCURACY OF OUR ENSEMBLE MODEL = 84.6%\n",
    "\n",
    "\n",
    "### NEW SUMMARY:\n",
    "\n",
    "- Average accuracy of **XGBClassifier** is = 73.75%\n",
    "- Average accuracy of **LGBMClassifier** is = 75%\n",
    "- Average accuracy of **Random Forest Classifier** is = 75.44%\n",
    "- Average accuracy of **Extra Trees Classifier** is =  74.52%\n",
    "- Average accuracy of **Logistic Regression** is = 75.62%\n",
    "\n",
    "#### AVERAGE ACCURACY OF OUR ENSEMBLE MODEL = 74.86%"
   ]
  },
  {
   "cell_type": "code",
   "execution_count": 2,
   "metadata": {},
   "outputs": [],
   "source": [
    "from sklearn.feature_selection import RFE\n",
    "from sklearn.pipeline import Pipeline\n",
    "from sklearn import preprocessing\n",
    "\n",
    "from sklearn.preprocessing import OneHotEncoder\n",
    "from sklearn.preprocessing import LabelEncoder\n",
    "from sklearn.preprocessing import OrdinalEncoder\n",
    "\n",
    "from numpy import mean\n",
    "from sklearn.model_selection import cross_val_score\n",
    "from sklearn.model_selection import RepeatedStratifiedKFold\n",
    "from sklearn.model_selection import RepeatedKFold\n",
    "from sklearn.metrics import accuracy_score\n",
    "from sklearn.metrics import f1_score\n",
    "\n",
    "from sklearn.tree import DecisionTreeClassifier\n",
    "from sklearn.ensemble import ExtraTreesClassifier\n",
    "from lightgbm import LGBMClassifier\n",
    "from xgboost import XGBClassifier\n",
    "from sklearn.ensemble import RandomForestClassifier\n",
    "\n",
    "import pickle\n",
    "\n",
    "import warnings\n",
    "warnings.filterwarnings('ignore')\n",
    "\n",
    "import pandas as pd\n",
    "from sklearn.model_selection import train_test_split\n",
    "from sklearn.linear_model import LogisticRegression\n",
    "\n",
    "from statistics import mean"
   ]
  },
  {
   "cell_type": "code",
   "execution_count": 5,
   "metadata": {},
   "outputs": [],
   "source": [
    "onehot_encoder = OneHotEncoder()\n",
    "label_encoder = LabelEncoder()\n",
    "ordinal = OrdinalEncoder()"
   ]
  },
  {
   "cell_type": "markdown",
   "metadata": {},
   "source": [
    "***\n",
    "## EXTRA TREES CLASSIFIER"
   ]
  },
  {
   "cell_type": "code",
   "execution_count": 3,
   "metadata": {},
   "outputs": [],
   "source": [
    "accs = []"
   ]
  },
  {
   "cell_type": "code",
   "execution_count": 4,
   "metadata": {},
   "outputs": [],
   "source": [
    "# model.fit(X, y)\n",
    "# #X_heroku = ordinal.fit_transform(pd.DataFrame([[1,1,1,1,1,1]])) #[5,5,5,5,5,5,5,5,5,5,5,5,5,5,5,5,5,5,5,5,5]\n",
    "# model.predict_proba([[5,5,5,5,5,5,5,5,5,5,5,5,5,5,5,5,5,5,5,5,5]]) "
   ]
  },
  {
   "cell_type": "markdown",
   "metadata": {},
   "source": [
    "### PQ"
   ]
  },
  {
   "cell_type": "code",
   "execution_count": 71,
   "metadata": {},
   "outputs": [
    {
     "name": "stdout",
     "output_type": "stream",
     "text": [
      "Accuracy for PQ_G1 is 90.98\n"
     ]
    },
    {
     "data": {
      "text/plain": [
       "ExtraTreesClassifier()"
      ]
     },
     "execution_count": 71,
     "metadata": {},
     "output_type": "execute_result"
    }
   ],
   "source": [
    "dataframe = pd.read_csv('PQ_G1.csv')\n",
    "X = dataframe.drop(columns=['RECRUITMENT_CAT','PATNO','EVENT_ID','PAG_NAME_1','PAG_NAME_2','PAG_NAME_3','PAG_NAME_4'],axis=1) \n",
    "y = dataframe['RECRUITMENT_CAT']\n",
    "\n",
    "X = ordinal.fit_transform(X)\n",
    "y = label_encoder.fit_transform(y)\n",
    "\n",
    "model = ExtraTreesClassifier()\n",
    "cv = RepeatedStratifiedKFold(n_splits=15, n_repeats=5, random_state=1)\n",
    "n_scores = cross_val_score(model, X, y, scoring='accuracy', cv=cv, n_jobs=-1, error_score='raise')\n",
    "    \n",
    "print('Accuracy for PQ_G1 is',round((100*mean(n_scores)),2))\n",
    "# accs.append(100*mean(n_scores))\n",
    "model.fit(X, y)"
   ]
  },
  {
   "cell_type": "code",
   "execution_count": 72,
   "metadata": {},
   "outputs": [],
   "source": [
    "with open('ETC_PQ_G1.pkl','wb') as f:\n",
    "    pickle.dump(model, f)"
   ]
  },
  {
   "cell_type": "code",
   "execution_count": 27,
   "metadata": {},
   "outputs": [
    {
     "name": "stdout",
     "output_type": "stream",
     "text": [
      "Accuracy for PQ_G1 is 91.1976\n",
      "F1 score for PQ_G1 is 90.58626666666667\n"
     ]
    }
   ],
   "source": [
    "# F1 SCORE\n",
    "\n",
    "dataframe = pd.read_csv('PQ_G1.csv')\n",
    "X = dataframe.drop(columns=['RECRUITMENT_CAT','PATNO','EVENT_ID','PAG_NAME_1','PAG_NAME_2','PAG_NAME_3','PAG_NAME_4'],axis=1) \n",
    "y = dataframe['RECRUITMENT_CAT']\n",
    "\n",
    "X = ordinal.fit_transform(X)\n",
    "y = label_encoder.fit_transform(y)\n",
    "\n",
    "cv_accs = []\n",
    "cv_f1 = []\n",
    "\n",
    "cv = RepeatedStratifiedKFold(n_splits=15, n_repeats=5, random_state=1)\n",
    "for train_index, test_index in cv.split(X, y):\n",
    "#     print(\"TRAIN:\", train_index, \"TEST:\", test_index)\n",
    "    X_train, X_test = X[train_index], X[test_index]\n",
    "    y_train, y_test = y[train_index], y[test_index]\n",
    "    model = ExtraTreesClassifier()\n",
    "    model.fit(X_train, y_train)\n",
    "    yhat = model.predict(X_test)\n",
    "\n",
    "    accuracy = accuracy_score(y_test, yhat)\n",
    "    cv_accs.append(accuracy)\n",
    "    \n",
    "    f1 = f1_score(y_test, yhat,average='weighted')\n",
    "    cv_f1.append(f1)\n",
    "\n",
    "print('Accuracy for PQ_G1 is',round(mean(cv_accs),2))\n",
    "print('F1 score for PQ_G1 is',round(mean(cv_f1),2))"
   ]
  },
  {
   "cell_type": "code",
   "execution_count": null,
   "metadata": {},
   "outputs": [],
   "source": [
    "print('Accuracy for PQ_G1 is',mean(cv_accs))\n",
    "print('F1 score for PQ_G1 is',mean(cv_f1))"
   ]
  },
  {
   "cell_type": "code",
   "execution_count": null,
   "metadata": {},
   "outputs": [],
   "source": []
  },
  {
   "cell_type": "code",
   "execution_count": 7,
   "metadata": {},
   "outputs": [
    {
     "name": "stdout",
     "output_type": "stream",
     "text": [
      "Accuracy for PQ_G2 is 86.92\n"
     ]
    },
    {
     "data": {
      "text/plain": [
       "ExtraTreesClassifier()"
      ]
     },
     "execution_count": 7,
     "metadata": {},
     "output_type": "execute_result"
    }
   ],
   "source": [
    "dataframe = pd.read_csv('PQ_G2.csv')\n",
    "X = dataframe.drop(columns=['RECRUITMENT_CAT','PATNO','EVENT_ID','PAG_NAME_1','PAG_NAME_2'],axis=1) \n",
    "y = dataframe['RECRUITMENT_CAT']\n",
    "\n",
    "X = ordinal.fit_transform(X)\n",
    "y = label_encoder.fit_transform(y)\n",
    "\n",
    "model = ExtraTreesClassifier()\n",
    "cv = RepeatedStratifiedKFold(n_splits=15, n_repeats=5, random_state=1)\n",
    "n_scores = cross_val_score(model, X, y, scoring='accuracy', cv=cv, n_jobs=-1, error_score='raise')\n",
    "    \n",
    "print('Accuracy for PQ_G2 is',round((100*mean(n_scores)),2))\n",
    "accs.append(100*mean(n_scores))\n",
    "model.fit(X, y)"
   ]
  },
  {
   "cell_type": "code",
   "execution_count": 8,
   "metadata": {},
   "outputs": [],
   "source": [
    "with open('ETC_PQ_G2.pkl','wb') as f:\n",
    "    pickle.dump(model, f)"
   ]
  },
  {
   "cell_type": "code",
   "execution_count": 9,
   "metadata": {},
   "outputs": [
    {
     "name": "stdout",
     "output_type": "stream",
     "text": [
      "Accuracy for PQ_G3 is 82.08\n"
     ]
    },
    {
     "ename": "NameError",
     "evalue": "name 'accs' is not defined",
     "output_type": "error",
     "traceback": [
      "\u001b[1;31m---------------------------------------------------------------------------\u001b[0m",
      "\u001b[1;31mNameError\u001b[0m                                 Traceback (most recent call last)",
      "\u001b[1;32m<ipython-input-9-2d1db84973d0>\u001b[0m in \u001b[0;36m<module>\u001b[1;34m\u001b[0m\n\u001b[0;32m     11\u001b[0m \u001b[1;33m\u001b[0m\u001b[0m\n\u001b[0;32m     12\u001b[0m \u001b[0mprint\u001b[0m\u001b[1;33m(\u001b[0m\u001b[1;34m'Accuracy for PQ_G3 is'\u001b[0m\u001b[1;33m,\u001b[0m\u001b[0mround\u001b[0m\u001b[1;33m(\u001b[0m\u001b[1;33m(\u001b[0m\u001b[1;36m100\u001b[0m\u001b[1;33m*\u001b[0m\u001b[0mmean\u001b[0m\u001b[1;33m(\u001b[0m\u001b[0mn_scores\u001b[0m\u001b[1;33m)\u001b[0m\u001b[1;33m)\u001b[0m\u001b[1;33m,\u001b[0m\u001b[1;36m2\u001b[0m\u001b[1;33m)\u001b[0m\u001b[1;33m)\u001b[0m\u001b[1;33m\u001b[0m\u001b[1;33m\u001b[0m\u001b[0m\n\u001b[1;32m---> 13\u001b[1;33m \u001b[0maccs\u001b[0m\u001b[1;33m.\u001b[0m\u001b[0mappend\u001b[0m\u001b[1;33m(\u001b[0m\u001b[1;36m100\u001b[0m\u001b[1;33m*\u001b[0m\u001b[0mmean\u001b[0m\u001b[1;33m(\u001b[0m\u001b[0mn_scores\u001b[0m\u001b[1;33m)\u001b[0m\u001b[1;33m)\u001b[0m\u001b[1;33m\u001b[0m\u001b[1;33m\u001b[0m\u001b[0m\n\u001b[0m\u001b[0;32m     14\u001b[0m \u001b[0mmodel\u001b[0m\u001b[1;33m.\u001b[0m\u001b[0mfit\u001b[0m\u001b[1;33m(\u001b[0m\u001b[0mX\u001b[0m\u001b[1;33m,\u001b[0m \u001b[0my\u001b[0m\u001b[1;33m)\u001b[0m\u001b[1;33m\u001b[0m\u001b[1;33m\u001b[0m\u001b[0m\n",
      "\u001b[1;31mNameError\u001b[0m: name 'accs' is not defined"
     ]
    }
   ],
   "source": [
    "dataframe = pd.read_csv('PQ_G3.csv')\n",
    "X = dataframe.drop(columns=['RECRUITMENT_CAT','PATNO','EVENT_ID','PAG_NAME_1','PAG_NAME_2','PAG_NAME_3'],axis=1) \n",
    "y = dataframe['RECRUITMENT_CAT']\n",
    "\n",
    "X = ordinal.fit_transform(X)\n",
    "y = label_encoder.fit_transform(y)\n",
    "\n",
    "model = ExtraTreesClassifier()\n",
    "cv = RepeatedStratifiedKFold(n_splits=15, n_repeats=5, random_state=1)\n",
    "n_scores = cross_val_score(model, X, y, scoring='accuracy', cv=cv, n_jobs=-1, error_score='raise')\n",
    "    \n",
    "print('Accuracy for PQ_G3 is',round((100*mean(n_scores)),2))\n",
    "accs.append(100*mean(n_scores))\n",
    "model.fit(X, y)"
   ]
  },
  {
   "cell_type": "code",
   "execution_count": 44,
   "metadata": {},
   "outputs": [],
   "source": [
    "with open('ETC_PQ_G3.pkl','wb') as f:\n",
    "    pickle.dump(model, f)"
   ]
  },
  {
   "cell_type": "code",
   "execution_count": 10,
   "metadata": {},
   "outputs": [
    {
     "name": "stdout",
     "output_type": "stream",
     "text": [
      "Accuracy for PQ_G3 is 77.66\n"
     ]
    },
    {
     "ename": "NameError",
     "evalue": "name 'accs' is not defined",
     "output_type": "error",
     "traceback": [
      "\u001b[1;31m---------------------------------------------------------------------------\u001b[0m",
      "\u001b[1;31mNameError\u001b[0m                                 Traceback (most recent call last)",
      "\u001b[1;32m<ipython-input-10-d23ac1a50683>\u001b[0m in \u001b[0;36m<module>\u001b[1;34m\u001b[0m\n\u001b[0;32m     11\u001b[0m \u001b[1;33m\u001b[0m\u001b[0m\n\u001b[0;32m     12\u001b[0m \u001b[0mprint\u001b[0m\u001b[1;33m(\u001b[0m\u001b[1;34m'Accuracy for PQ_G3 is'\u001b[0m\u001b[1;33m,\u001b[0m\u001b[0mround\u001b[0m\u001b[1;33m(\u001b[0m\u001b[1;33m(\u001b[0m\u001b[1;36m100\u001b[0m\u001b[1;33m*\u001b[0m\u001b[0mmean\u001b[0m\u001b[1;33m(\u001b[0m\u001b[0mn_scores\u001b[0m\u001b[1;33m)\u001b[0m\u001b[1;33m)\u001b[0m\u001b[1;33m,\u001b[0m\u001b[1;36m2\u001b[0m\u001b[1;33m)\u001b[0m\u001b[1;33m)\u001b[0m\u001b[1;33m\u001b[0m\u001b[1;33m\u001b[0m\u001b[0m\n\u001b[1;32m---> 13\u001b[1;33m \u001b[0maccs\u001b[0m\u001b[1;33m.\u001b[0m\u001b[0mappend\u001b[0m\u001b[1;33m(\u001b[0m\u001b[1;36m100\u001b[0m\u001b[1;33m*\u001b[0m\u001b[0mmean\u001b[0m\u001b[1;33m(\u001b[0m\u001b[0mn_scores\u001b[0m\u001b[1;33m)\u001b[0m\u001b[1;33m)\u001b[0m\u001b[1;33m\u001b[0m\u001b[1;33m\u001b[0m\u001b[0m\n\u001b[0m\u001b[0;32m     14\u001b[0m \u001b[0mmodel\u001b[0m\u001b[1;33m.\u001b[0m\u001b[0mfit\u001b[0m\u001b[1;33m(\u001b[0m\u001b[0mX\u001b[0m\u001b[1;33m,\u001b[0m \u001b[0my\u001b[0m\u001b[1;33m)\u001b[0m\u001b[1;33m\u001b[0m\u001b[1;33m\u001b[0m\u001b[0m\n",
      "\u001b[1;31mNameError\u001b[0m: name 'accs' is not defined"
     ]
    }
   ],
   "source": [
    "# WITHOUT UEF\n",
    "\n",
    "dataframe = pd.read_csv('PQ_G3_without_UEF.csv')\n",
    "X = dataframe.drop(columns=['RECRUITMENT_CAT','PATNO','EVENT_ID','PAG_NAME_1','PAG_NAME_2'],axis=1) \n",
    "y = dataframe['RECRUITMENT_CAT']\n",
    "\n",
    "X = ordinal.fit_transform(X)\n",
    "y = label_encoder.fit_transform(y)\n",
    "\n",
    "model = ExtraTreesClassifier()\n",
    "cv = RepeatedStratifiedKFold(n_splits=15, n_repeats=5, random_state=1)\n",
    "n_scores = cross_val_score(model, X, y, scoring='accuracy', cv=cv, n_jobs=-1, error_score='raise')\n",
    "    \n",
    "print('Accuracy for PQ_G3 is',round((100*mean(n_scores)),2))\n",
    "accs.append(100*mean(n_scores))\n",
    "model.fit(X, y)"
   ]
  },
  {
   "cell_type": "code",
   "execution_count": 45,
   "metadata": {},
   "outputs": [
    {
     "name": "stdout",
     "output_type": "stream",
     "text": [
      "Accuracy for PQ_G4 is 85.81\n"
     ]
    },
    {
     "data": {
      "text/plain": [
       "ExtraTreesClassifier()"
      ]
     },
     "execution_count": 45,
     "metadata": {},
     "output_type": "execute_result"
    }
   ],
   "source": [
    "dataframe = pd.read_csv('PQ_G4.csv')\n",
    "X = dataframe.drop(columns=['RECRUITMENT_CAT','PATNO','EVENT_ID','PAG_NAME'],axis=1) \n",
    "y = dataframe['RECRUITMENT_CAT']\n",
    "\n",
    "X = ordinal.fit_transform(X)\n",
    "y = label_encoder.fit_transform(y)\n",
    "\n",
    "model = ExtraTreesClassifier()\n",
    "cv = RepeatedStratifiedKFold(n_splits=15, n_repeats=5, random_state=1)\n",
    "n_scores = cross_val_score(model, X, y, scoring='accuracy', cv=cv, n_jobs=-1, error_score='raise')\n",
    "    \n",
    "print('Accuracy for PQ_G4 is',round((100*mean(n_scores)),2))\n",
    "accs.append(100*mean(n_scores))\n",
    "model.fit(X, y)"
   ]
  },
  {
   "cell_type": "code",
   "execution_count": 46,
   "metadata": {},
   "outputs": [],
   "source": [
    "with open('ETC_PQ_G4.pkl','wb') as f:\n",
    "    pickle.dump(model, f)"
   ]
  },
  {
   "cell_type": "markdown",
   "metadata": {},
   "source": [
    "***\n",
    "### MT"
   ]
  },
  {
   "cell_type": "code",
   "execution_count": 47,
   "metadata": {},
   "outputs": [
    {
     "name": "stdout",
     "output_type": "stream",
     "text": [
      "Accuracy for MT_G1 is 62.64\n"
     ]
    },
    {
     "data": {
      "text/plain": [
       "ExtraTreesClassifier()"
      ]
     },
     "execution_count": 47,
     "metadata": {},
     "output_type": "execute_result"
    }
   ],
   "source": [
    "dataframe = pd.read_csv('MT_G1.csv')\n",
    "X = dataframe.drop(columns=['RECRUITMENT_CAT','PATNO','EVENT_ID','PAG_NAME_1','PAG_NAME_2'],axis=1) \n",
    "y = dataframe['RECRUITMENT_CAT']\n",
    "\n",
    "X = ordinal.fit_transform(X)\n",
    "y = label_encoder.fit_transform(y)\n",
    "\n",
    "model = ExtraTreesClassifier()\n",
    "cv = RepeatedStratifiedKFold(n_splits=15, n_repeats=5, random_state=1)\n",
    "n_scores = cross_val_score(model, X, y, scoring='accuracy', cv=cv, n_jobs=-1, error_score='raise')\n",
    "    \n",
    "print('Accuracy for MT_G1 is',round((100*mean(n_scores)),2))\n",
    "accs.append(100*mean(n_scores))\n",
    "model.fit(X, y)"
   ]
  },
  {
   "cell_type": "code",
   "execution_count": 48,
   "metadata": {},
   "outputs": [],
   "source": [
    "with open('ETC_MT_G1.pkl','wb') as f:\n",
    "    pickle.dump(model, f)"
   ]
  },
  {
   "cell_type": "code",
   "execution_count": 49,
   "metadata": {},
   "outputs": [
    {
     "name": "stdout",
     "output_type": "stream",
     "text": [
      "Accuracy for MT_G2 is 58.77\n"
     ]
    },
    {
     "data": {
      "text/plain": [
       "ExtraTreesClassifier()"
      ]
     },
     "execution_count": 49,
     "metadata": {},
     "output_type": "execute_result"
    }
   ],
   "source": [
    "dataframe = pd.read_csv('MT_G2.csv')\n",
    "X = dataframe.drop(columns=['RECRUITMENT_CAT','PATNO','EVENT_ID','PAG_NAME_1','PAG_NAME_2'],axis=1) \n",
    "y = dataframe['RECRUITMENT_CAT']\n",
    "\n",
    "X = ordinal.fit_transform(X)\n",
    "y = label_encoder.fit_transform(y)\n",
    "\n",
    "model = ExtraTreesClassifier()\n",
    "cv = RepeatedStratifiedKFold(n_splits=15, n_repeats=5, random_state=1)\n",
    "n_scores = cross_val_score(model, X, y, scoring='accuracy', cv=cv, n_jobs=-1, error_score='raise')\n",
    "    \n",
    "print('Accuracy for MT_G2 is',round((100*mean(n_scores)),2))\n",
    "accs.append(100*mean(n_scores))\n",
    "model.fit(X, y)"
   ]
  },
  {
   "cell_type": "code",
   "execution_count": 50,
   "metadata": {},
   "outputs": [],
   "source": [
    "with open('ETC_MT_G2.pkl','wb') as f:\n",
    "    pickle.dump(model, f)"
   ]
  },
  {
   "cell_type": "code",
   "execution_count": 51,
   "metadata": {},
   "outputs": [
    {
     "name": "stdout",
     "output_type": "stream",
     "text": [
      "Accuracy for MT_G3 is 76.44\n"
     ]
    },
    {
     "data": {
      "text/plain": [
       "ExtraTreesClassifier()"
      ]
     },
     "execution_count": 51,
     "metadata": {},
     "output_type": "execute_result"
    }
   ],
   "source": [
    "dataframe = pd.read_csv('MT_G3.csv')\n",
    "X = dataframe.drop(columns=['RECRUITMENT_CAT','PATNO','EVENT_ID','PAG_NAME_1','PAG_NAME_2'],axis=1) \n",
    "y = dataframe['RECRUITMENT_CAT']\n",
    "\n",
    "X = ordinal.fit_transform(X)\n",
    "y = label_encoder.fit_transform(y)\n",
    "\n",
    "model = ExtraTreesClassifier()\n",
    "cv = RepeatedStratifiedKFold(n_splits=15, n_repeats=5, random_state=1)\n",
    "n_scores = cross_val_score(model, X, y, scoring='accuracy', cv=cv, n_jobs=-1, error_score='raise')\n",
    "    \n",
    "print('Accuracy for MT_G3 is',round((100*mean(n_scores)),2))\n",
    "accs.append(100*mean(n_scores))\n",
    "model.fit(X, y)"
   ]
  },
  {
   "cell_type": "code",
   "execution_count": 52,
   "metadata": {},
   "outputs": [],
   "source": [
    "with open('ETC_MT_G3.pkl','wb') as f:\n",
    "    pickle.dump(model, f)"
   ]
  },
  {
   "cell_type": "code",
   "execution_count": 14,
   "metadata": {},
   "outputs": [
    {
     "name": "stdout",
     "output_type": "stream",
     "text": [
      "Accuracy for MT_G3 is 78.41\n"
     ]
    },
    {
     "ename": "NameError",
     "evalue": "name 'accs' is not defined",
     "output_type": "error",
     "traceback": [
      "\u001b[1;31m---------------------------------------------------------------------------\u001b[0m",
      "\u001b[1;31mNameError\u001b[0m                                 Traceback (most recent call last)",
      "\u001b[1;32m<ipython-input-14-0bb929712967>\u001b[0m in \u001b[0;36m<module>\u001b[1;34m\u001b[0m\n\u001b[0;32m     11\u001b[0m \u001b[1;33m\u001b[0m\u001b[0m\n\u001b[0;32m     12\u001b[0m \u001b[0mprint\u001b[0m\u001b[1;33m(\u001b[0m\u001b[1;34m'Accuracy for MT_G3 is'\u001b[0m\u001b[1;33m,\u001b[0m\u001b[0mround\u001b[0m\u001b[1;33m(\u001b[0m\u001b[1;33m(\u001b[0m\u001b[1;36m100\u001b[0m\u001b[1;33m*\u001b[0m\u001b[0mmean\u001b[0m\u001b[1;33m(\u001b[0m\u001b[0mn_scores\u001b[0m\u001b[1;33m)\u001b[0m\u001b[1;33m)\u001b[0m\u001b[1;33m,\u001b[0m\u001b[1;36m2\u001b[0m\u001b[1;33m)\u001b[0m\u001b[1;33m)\u001b[0m\u001b[1;33m\u001b[0m\u001b[1;33m\u001b[0m\u001b[0m\n\u001b[1;32m---> 13\u001b[1;33m \u001b[0maccs\u001b[0m\u001b[1;33m.\u001b[0m\u001b[0mappend\u001b[0m\u001b[1;33m(\u001b[0m\u001b[1;36m100\u001b[0m\u001b[1;33m*\u001b[0m\u001b[0mmean\u001b[0m\u001b[1;33m(\u001b[0m\u001b[0mn_scores\u001b[0m\u001b[1;33m)\u001b[0m\u001b[1;33m)\u001b[0m\u001b[1;33m\u001b[0m\u001b[1;33m\u001b[0m\u001b[0m\n\u001b[0m\u001b[0;32m     14\u001b[0m \u001b[0mmodel\u001b[0m\u001b[1;33m.\u001b[0m\u001b[0mfit\u001b[0m\u001b[1;33m(\u001b[0m\u001b[0mX\u001b[0m\u001b[1;33m,\u001b[0m \u001b[0my\u001b[0m\u001b[1;33m)\u001b[0m\u001b[1;33m\u001b[0m\u001b[1;33m\u001b[0m\u001b[0m\n",
      "\u001b[1;31mNameError\u001b[0m: name 'accs' is not defined"
     ]
    }
   ],
   "source": [
    "dataframe = pd.read_csv('MT_G3_without_MOCA.csv')\n",
    "X = dataframe.drop(columns=['RECRUITMENT_CAT','PATNO','EVENT_ID','PAG_NAME_1'],axis=1) \n",
    "y = dataframe['RECRUITMENT_CAT']\n",
    "\n",
    "X = ordinal.fit_transform(X)\n",
    "y = label_encoder.fit_transform(y)\n",
    "\n",
    "model = ExtraTreesClassifier()\n",
    "cv = RepeatedStratifiedKFold(n_splits=15, n_repeats=5, random_state=1)\n",
    "n_scores = cross_val_score(model, X, y, scoring='accuracy', cv=cv, n_jobs=-1, error_score='raise')\n",
    "    \n",
    "print('Accuracy for MT_G3 is',round((100*mean(n_scores)),2))\n",
    "accs.append(100*mean(n_scores))\n",
    "model.fit(X, y)"
   ]
  },
  {
   "cell_type": "code",
   "execution_count": 53,
   "metadata": {},
   "outputs": [
    {
     "name": "stdout",
     "output_type": "stream",
     "text": [
      "Accuracy for MT_G4 is 62.7\n"
     ]
    },
    {
     "data": {
      "text/plain": [
       "ExtraTreesClassifier()"
      ]
     },
     "execution_count": 53,
     "metadata": {},
     "output_type": "execute_result"
    }
   ],
   "source": [
    "dataframe = pd.read_csv('MT_G4.csv')\n",
    "X = dataframe.drop(columns=['RECRUITMENT_CAT','PATNO','EVENT_ID','PAG_NAME_1','PAG_NAME_2'],axis=1) \n",
    "y = dataframe['RECRUITMENT_CAT']\n",
    "\n",
    "datax = X.values\n",
    "datay = y.values\n",
    "\n",
    "X = datax.astype(str)\n",
    "y = datay.astype(str)\n",
    "\n",
    "X = ordinal.fit_transform(X)\n",
    "y = label_encoder.fit_transform(y)\n",
    "\n",
    "model = ExtraTreesClassifier()\n",
    "cv = RepeatedStratifiedKFold(n_splits=15, n_repeats=5, random_state=1)\n",
    "n_scores = cross_val_score(model, X, y, scoring='accuracy', cv=cv, n_jobs=-1, error_score='raise')\n",
    "    \n",
    "print('Accuracy for MT_G4 is',round((100*mean(n_scores)),2))\n",
    "accs.append(100*mean(n_scores))\n",
    "model.fit(X, y)"
   ]
  },
  {
   "cell_type": "code",
   "execution_count": 54,
   "metadata": {},
   "outputs": [],
   "source": [
    "with open('ETC_MT_G4.pkl','wb') as f:\n",
    "    pickle.dump(model, f)"
   ]
  },
  {
   "cell_type": "code",
   "execution_count": 55,
   "metadata": {},
   "outputs": [
    {
     "name": "stdout",
     "output_type": "stream",
     "text": [
      "Accuracy for MT_G5 is 63.17\n"
     ]
    },
    {
     "data": {
      "text/plain": [
       "ExtraTreesClassifier()"
      ]
     },
     "execution_count": 55,
     "metadata": {},
     "output_type": "execute_result"
    }
   ],
   "source": [
    "dataframe = pd.read_csv('MT_G5.csv')\n",
    "X = dataframe.drop(columns=['RECRUITMENT_CAT','PATNO','EVENT_ID','PAG_NAME'],axis=1) \n",
    "y = dataframe['RECRUITMENT_CAT']\n",
    "\n",
    "X = ordinal.fit_transform(X)\n",
    "y = label_encoder.fit_transform(y)\n",
    "\n",
    "model = ExtraTreesClassifier()\n",
    "cv = RepeatedStratifiedKFold(n_splits=15, n_repeats=5, random_state=1)\n",
    "n_scores = cross_val_score(model, X, y, scoring='accuracy', cv=cv, n_jobs=-1, error_score='raise')\n",
    "    \n",
    "print('Accuracy for MT_G5 is',round((100*mean(n_scores)),2))\n",
    "accs.append(100*mean(n_scores))\n",
    "model.fit(X, y)"
   ]
  },
  {
   "cell_type": "code",
   "execution_count": 56,
   "metadata": {},
   "outputs": [],
   "source": [
    "with open('ETC_MT_G5.pkl','wb') as f:\n",
    "    pickle.dump(model, f)"
   ]
  },
  {
   "cell_type": "code",
   "execution_count": 57,
   "metadata": {},
   "outputs": [
    {
     "name": "stdout",
     "output_type": "stream",
     "text": [
      "[91.18161635491515, 87.61079273460226, 82.36781609195401, 85.81178365065834, 62.64152030818697, 58.7742504409171, 76.44065327978582, 62.697674418604656, 63.167179487179496]\n",
      "Average accuracy of Extra Trees Classifier is = 74.52\n"
     ]
    }
   ],
   "source": [
    "print(accs)\n",
    "print('Average accuracy of Extra Trees Classifier is =',round(mean(accs),2))"
   ]
  },
  {
   "cell_type": "markdown",
   "metadata": {},
   "source": [
    "***\n",
    "\n",
    "## XGBOOST CLASSIFIER"
   ]
  },
  {
   "cell_type": "code",
   "execution_count": 58,
   "metadata": {},
   "outputs": [],
   "source": [
    "accs = []"
   ]
  },
  {
   "cell_type": "markdown",
   "metadata": {},
   "source": [
    "### PQ"
   ]
  },
  {
   "cell_type": "code",
   "execution_count": 73,
   "metadata": {},
   "outputs": [
    {
     "name": "stdout",
     "output_type": "stream",
     "text": [
      "[12:50:29] WARNING: C:/Users/Administrator/workspace/xgboost-win64_release_1.4.0/src/learner.cc:1095: Starting in XGBoost 1.3.0, the default evaluation metric used with the objective 'multi:softprob' was changed from 'merror' to 'mlogloss'. Explicitly set eval_metric if you'd like to restore the old behavior.\n",
      "<class 'numpy.ndarray'> (979, 69)\n",
      "[[0. 0. 0. ... 0. 0. 0.]\n",
      " [0. 1. 0. ... 0. 0. 0.]\n",
      " [0. 0. 0. ... 0. 0. 0.]\n",
      " ...\n",
      " [0. 0. 0. ... 0. 0. 0.]\n",
      " [1. 0. 1. ... 0. 0. 0.]\n",
      " [0. 0. 0. ... 0. 0. 0.]]\n",
      "Accuracy for PQ_G1 is 91.93\n",
      "[12:50:32] WARNING: C:/Users/Administrator/workspace/xgboost-win64_release_1.4.0/src/learner.cc:1095: Starting in XGBoost 1.3.0, the default evaluation metric used with the objective 'multi:softprob' was changed from 'merror' to 'mlogloss'. Explicitly set eval_metric if you'd like to restore the old behavior.\n"
     ]
    },
    {
     "data": {
      "text/plain": [
       "XGBClassifier(base_score=0.5, booster='gbtree', colsample_bylevel=1,\n",
       "              colsample_bynode=1, colsample_bytree=1, gamma=0, gpu_id=-1,\n",
       "              importance_type='gain', interaction_constraints='',\n",
       "              learning_rate=0.300000012, max_delta_step=0, max_depth=6,\n",
       "              min_child_weight=1, missing=nan, monotone_constraints='()',\n",
       "              n_estimators=100, n_jobs=8, num_parallel_tree=1,\n",
       "              objective='multi:softprob', random_state=0, reg_alpha=0,\n",
       "              reg_lambda=1, scale_pos_weight=None, subsample=1,\n",
       "              tree_method='exact', validate_parameters=1, verbosity=None)"
      ]
     },
     "execution_count": 73,
     "metadata": {},
     "output_type": "execute_result"
    }
   ],
   "source": [
    "dataframe = pd.read_csv('PQ_G1.csv')\n",
    "X = dataframe.drop(columns=['RECRUITMENT_CAT','PATNO','EVENT_ID','PAG_NAME_1','PAG_NAME_2','PAG_NAME_3','PAG_NAME_4'],axis=1) \n",
    "y = dataframe['RECRUITMENT_CAT']\n",
    "\n",
    "X = ordinal.fit_transform(X)\n",
    "y = label_encoder.fit_transform(y)\n",
    "    \n",
    "X_train, X_test, y_train, y_test = train_test_split(X, y, test_size=0.2, random_state=1)\n",
    "\n",
    "model = XGBClassifier(\"binary:logistic\")\n",
    "model.fit(X_train, y_train)\n",
    "\n",
    "print(type(X_test), X_test.shape)\n",
    "print(X_test)\n",
    "\n",
    "y_pred = model.predict(X_test)\n",
    "predictions = [round(value) for value in y_pred]\n",
    "    \n",
    "accuracy = accuracy_score(y_test, predictions)\n",
    "print('Accuracy for PQ_G1 is',round((100*accuracy),2))\n",
    "# accs.append(accuracy)\n",
    "model.fit(X, y)"
   ]
  },
  {
   "cell_type": "code",
   "execution_count": 74,
   "metadata": {},
   "outputs": [],
   "source": [
    "with open('XGBC_PQ_G1.pkl','wb') as f:\n",
    "    pickle.dump(model, f)"
   ]
  },
  {
   "cell_type": "code",
   "execution_count": 9,
   "metadata": {},
   "outputs": [
    {
     "name": "stdout",
     "output_type": "stream",
     "text": [
      "[14:27:35] WARNING: C:/Users/Administrator/workspace/xgboost-win64_release_1.4.0/src/learner.cc:1095: Starting in XGBoost 1.3.0, the default evaluation metric used with the objective 'multi:softprob' was changed from 'merror' to 'mlogloss'. Explicitly set eval_metric if you'd like to restore the old behavior.\n",
      "Accuracy for PQ_G2 is 88.7\n",
      "[14:27:36] WARNING: C:/Users/Administrator/workspace/xgboost-win64_release_1.4.0/src/learner.cc:1095: Starting in XGBoost 1.3.0, the default evaluation metric used with the objective 'multi:softprob' was changed from 'merror' to 'mlogloss'. Explicitly set eval_metric if you'd like to restore the old behavior.\n"
     ]
    },
    {
     "data": {
      "text/plain": [
       "XGBClassifier(base_score=0.5, booster='gbtree', colsample_bylevel=1,\n",
       "              colsample_bynode=1, colsample_bytree=1, gamma=0, gpu_id=-1,\n",
       "              importance_type='gain', interaction_constraints='',\n",
       "              learning_rate=0.300000012, max_delta_step=0, max_depth=6,\n",
       "              min_child_weight=1, missing=nan, monotone_constraints='()',\n",
       "              n_estimators=100, n_jobs=8, num_parallel_tree=1,\n",
       "              objective='multi:softprob', random_state=0, reg_alpha=0,\n",
       "              reg_lambda=1, scale_pos_weight=None, subsample=1,\n",
       "              tree_method='exact', validate_parameters=1, verbosity=None)"
      ]
     },
     "execution_count": 9,
     "metadata": {},
     "output_type": "execute_result"
    }
   ],
   "source": [
    "dataframe = pd.read_csv('PQ_G2.csv')\n",
    "X = dataframe.drop(columns=['RECRUITMENT_CAT','PATNO','EVENT_ID','PAG_NAME_1','PAG_NAME_2'],axis=1) \n",
    "y = dataframe['RECRUITMENT_CAT']\n",
    "\n",
    "X = ordinal.fit_transform(X)\n",
    "y = label_encoder.fit_transform(y)\n",
    "    \n",
    "X_train, X_test, y_train, y_test = train_test_split(X, y, test_size=0.2, random_state=1)\n",
    " \n",
    "model = XGBClassifier(\"binary:logistic\")\n",
    "model.fit(X_train, y_train)\n",
    "\n",
    "y_pred = model.predict(X_test)\n",
    "predictions = [round(value) for value in y_pred]\n",
    "    \n",
    "accuracy = accuracy_score(y_test, predictions)\n",
    "print('Accuracy for PQ_G2 is',round((100*accuracy),2))\n",
    "accs.append(accuracy)\n",
    "model.fit(X, y)"
   ]
  },
  {
   "cell_type": "code",
   "execution_count": 10,
   "metadata": {},
   "outputs": [],
   "source": [
    "with open('XGBC_PQ_G2.pkl','wb') as f:\n",
    "    pickle.dump(model, f)"
   ]
  },
  {
   "cell_type": "code",
   "execution_count": 76,
   "metadata": {},
   "outputs": [
    {
     "name": "stdout",
     "output_type": "stream",
     "text": [
      "[14:11:52] WARNING: C:/Users/Administrator/workspace/xgboost-win64_release_1.4.0/src/learner.cc:1095: Starting in XGBoost 1.3.0, the default evaluation metric used with the objective 'multi:softprob' was changed from 'merror' to 'mlogloss'. Explicitly set eval_metric if you'd like to restore the old behavior.\n",
      "Accuracy for PQ_G3 is 80.23\n",
      "[14:11:52] WARNING: C:/Users/Administrator/workspace/xgboost-win64_release_1.4.0/src/learner.cc:1095: Starting in XGBoost 1.3.0, the default evaluation metric used with the objective 'multi:softprob' was changed from 'merror' to 'mlogloss'. Explicitly set eval_metric if you'd like to restore the old behavior.\n"
     ]
    },
    {
     "data": {
      "text/plain": [
       "XGBClassifier(base_score=0.5, booster='gbtree', colsample_bylevel=1,\n",
       "              colsample_bynode=1, colsample_bytree=1, gamma=0, gpu_id=-1,\n",
       "              importance_type='gain', interaction_constraints='',\n",
       "              learning_rate=0.300000012, max_delta_step=0, max_depth=6,\n",
       "              min_child_weight=1, missing=nan, monotone_constraints='()',\n",
       "              n_estimators=100, n_jobs=8, num_parallel_tree=1,\n",
       "              objective='multi:softprob', random_state=0, reg_alpha=0,\n",
       "              reg_lambda=1, scale_pos_weight=None, subsample=1,\n",
       "              tree_method='exact', validate_parameters=1, verbosity=None)"
      ]
     },
     "execution_count": 76,
     "metadata": {},
     "output_type": "execute_result"
    }
   ],
   "source": [
    "dataframe = pd.read_csv('PQ_G3.csv')\n",
    "X = dataframe.drop(columns=['RECRUITMENT_CAT','PATNO','EVENT_ID','PAG_NAME_1','PAG_NAME_2','PAG_NAME_3'],axis=1) \n",
    "y = dataframe['RECRUITMENT_CAT']\n",
    "\n",
    "X = ordinal.fit_transform(X)\n",
    "y = label_encoder.fit_transform(y)\n",
    "    \n",
    "X_train, X_test, y_train, y_test = train_test_split(X, y, test_size=0.2, random_state=1)\n",
    "\n",
    "model = XGBClassifier(\"binary:logistic\")\n",
    "model.fit(X_train, y_train)\n",
    "\n",
    "y_pred = model.predict(X_test)\n",
    "predictions = [round(value) for value in y_pred]\n",
    "    \n",
    "accuracy = accuracy_score(y_test, predictions)\n",
    "print('Accuracy for PQ_G3 is',round((100*accuracy),2))\n",
    "accs.append(accuracy)\n",
    "model.fit(X, y)"
   ]
  },
  {
   "cell_type": "code",
   "execution_count": 77,
   "metadata": {},
   "outputs": [],
   "source": [
    "with open('XGBC_PQ_G3.pkl','wb') as f:\n",
    "    pickle.dump(model, f)"
   ]
  },
  {
   "cell_type": "code",
   "execution_count": 12,
   "metadata": {},
   "outputs": [
    {
     "name": "stdout",
     "output_type": "stream",
     "text": [
      "[11:12:40] WARNING: C:/Users/Administrator/workspace/xgboost-win64_release_1.4.0/src/learner.cc:1095: Starting in XGBoost 1.3.0, the default evaluation metric used with the objective 'multi:softprob' was changed from 'merror' to 'mlogloss'. Explicitly set eval_metric if you'd like to restore the old behavior.\n",
      "Accuracy for PQ_G3 is 75.58\n"
     ]
    },
    {
     "ename": "NameError",
     "evalue": "name 'accs' is not defined",
     "output_type": "error",
     "traceback": [
      "\u001b[1;31m---------------------------------------------------------------------------\u001b[0m",
      "\u001b[1;31mNameError\u001b[0m                                 Traceback (most recent call last)",
      "\u001b[1;32m<ipython-input-12-7c0ac46c9665>\u001b[0m in \u001b[0;36m<module>\u001b[1;34m\u001b[0m\n\u001b[0;32m     16\u001b[0m \u001b[0maccuracy\u001b[0m \u001b[1;33m=\u001b[0m \u001b[0maccuracy_score\u001b[0m\u001b[1;33m(\u001b[0m\u001b[0my_test\u001b[0m\u001b[1;33m,\u001b[0m \u001b[0mpredictions\u001b[0m\u001b[1;33m)\u001b[0m\u001b[1;33m\u001b[0m\u001b[1;33m\u001b[0m\u001b[0m\n\u001b[0;32m     17\u001b[0m \u001b[0mprint\u001b[0m\u001b[1;33m(\u001b[0m\u001b[1;34m'Accuracy for PQ_G3 is'\u001b[0m\u001b[1;33m,\u001b[0m\u001b[0mround\u001b[0m\u001b[1;33m(\u001b[0m\u001b[1;33m(\u001b[0m\u001b[1;36m100\u001b[0m\u001b[1;33m*\u001b[0m\u001b[0maccuracy\u001b[0m\u001b[1;33m)\u001b[0m\u001b[1;33m,\u001b[0m\u001b[1;36m2\u001b[0m\u001b[1;33m)\u001b[0m\u001b[1;33m)\u001b[0m\u001b[1;33m\u001b[0m\u001b[1;33m\u001b[0m\u001b[0m\n\u001b[1;32m---> 18\u001b[1;33m \u001b[0maccs\u001b[0m\u001b[1;33m.\u001b[0m\u001b[0mappend\u001b[0m\u001b[1;33m(\u001b[0m\u001b[0maccuracy\u001b[0m\u001b[1;33m)\u001b[0m\u001b[1;33m\u001b[0m\u001b[1;33m\u001b[0m\u001b[0m\n\u001b[0m\u001b[0;32m     19\u001b[0m \u001b[0mmodel\u001b[0m\u001b[1;33m.\u001b[0m\u001b[0mfit\u001b[0m\u001b[1;33m(\u001b[0m\u001b[0mX\u001b[0m\u001b[1;33m,\u001b[0m \u001b[0my\u001b[0m\u001b[1;33m)\u001b[0m\u001b[1;33m\u001b[0m\u001b[1;33m\u001b[0m\u001b[0m\n",
      "\u001b[1;31mNameError\u001b[0m: name 'accs' is not defined"
     ]
    }
   ],
   "source": [
    "dataframe = pd.read_csv('PQ_G3_without_UEF.csv')\n",
    "X = dataframe.drop(columns=['RECRUITMENT_CAT','PATNO','EVENT_ID','PAG_NAME_1','PAG_NAME_2'],axis=1) \n",
    "y = dataframe['RECRUITMENT_CAT']\n",
    "\n",
    "X = ordinal.fit_transform(X)\n",
    "y = label_encoder.fit_transform(y)\n",
    "    \n",
    "X_train, X_test, y_train, y_test = train_test_split(X, y, test_size=0.2, random_state=1)\n",
    "\n",
    "model = XGBClassifier(\"binary:logistic\")\n",
    "model.fit(X_train, y_train)\n",
    "\n",
    "y_pred = model.predict(X_test)\n",
    "predictions = [round(value) for value in y_pred]\n",
    "    \n",
    "accuracy = accuracy_score(y_test, predictions)\n",
    "print('Accuracy for PQ_G3 is',round((100*accuracy),2))\n",
    "accs.append(accuracy)\n",
    "model.fit(X, y)"
   ]
  },
  {
   "cell_type": "code",
   "execution_count": 78,
   "metadata": {},
   "outputs": [
    {
     "name": "stdout",
     "output_type": "stream",
     "text": [
      "[14:11:56] WARNING: C:/Users/Administrator/workspace/xgboost-win64_release_1.4.0/src/learner.cc:1095: Starting in XGBoost 1.3.0, the default evaluation metric used with the objective 'multi:softprob' was changed from 'merror' to 'mlogloss'. Explicitly set eval_metric if you'd like to restore the old behavior.\n",
      "Accuracy for PQ_G4 is 86.29\n",
      "[14:11:56] WARNING: C:/Users/Administrator/workspace/xgboost-win64_release_1.4.0/src/learner.cc:1095: Starting in XGBoost 1.3.0, the default evaluation metric used with the objective 'multi:softprob' was changed from 'merror' to 'mlogloss'. Explicitly set eval_metric if you'd like to restore the old behavior.\n"
     ]
    },
    {
     "data": {
      "text/plain": [
       "XGBClassifier(base_score=0.5, booster='gbtree', colsample_bylevel=1,\n",
       "              colsample_bynode=1, colsample_bytree=1, gamma=0, gpu_id=-1,\n",
       "              importance_type='gain', interaction_constraints='',\n",
       "              learning_rate=0.300000012, max_delta_step=0, max_depth=6,\n",
       "              min_child_weight=1, missing=nan, monotone_constraints='()',\n",
       "              n_estimators=100, n_jobs=8, num_parallel_tree=1,\n",
       "              objective='multi:softprob', random_state=0, reg_alpha=0,\n",
       "              reg_lambda=1, scale_pos_weight=None, subsample=1,\n",
       "              tree_method='exact', validate_parameters=1, verbosity=None)"
      ]
     },
     "execution_count": 78,
     "metadata": {},
     "output_type": "execute_result"
    }
   ],
   "source": [
    "dataframe = pd.read_csv('PQ_G4.csv')\n",
    "X = dataframe.drop(columns=['RECRUITMENT_CAT','PATNO','EVENT_ID','PAG_NAME'],axis=1) \n",
    "y = dataframe['RECRUITMENT_CAT']\n",
    "\n",
    "X = ordinal.fit_transform(X)\n",
    "y = label_encoder.fit_transform(y)\n",
    "    \n",
    "X_train, X_test, y_train, y_test = train_test_split(X, y, test_size=0.2, random_state=1)\n",
    "\n",
    "model = XGBClassifier(\"binary:logistic\")\n",
    "model.fit(X_train, y_train)\n",
    "\n",
    "y_pred = model.predict(X_test)\n",
    "predictions = [round(value) for value in y_pred]\n",
    "    \n",
    "accuracy = accuracy_score(y_test, predictions)\n",
    "print('Accuracy for PQ_G4 is',round((100*accuracy),2))\n",
    "accs.append(accuracy)\n",
    "model.fit(X, y)"
   ]
  },
  {
   "cell_type": "code",
   "execution_count": 79,
   "metadata": {},
   "outputs": [],
   "source": [
    "with open('XGBC_PQ_G4.pkl','wb') as f:\n",
    "    pickle.dump(model, f)"
   ]
  },
  {
   "cell_type": "markdown",
   "metadata": {},
   "source": [
    "***\n",
    "### MT"
   ]
  },
  {
   "cell_type": "code",
   "execution_count": 80,
   "metadata": {},
   "outputs": [
    {
     "name": "stdout",
     "output_type": "stream",
     "text": [
      "[14:12:02] WARNING: C:/Users/Administrator/workspace/xgboost-win64_release_1.4.0/src/learner.cc:1095: Starting in XGBoost 1.3.0, the default evaluation metric used with the objective 'multi:softprob' was changed from 'merror' to 'mlogloss'. Explicitly set eval_metric if you'd like to restore the old behavior.\n",
      "Accuracy for MT_G1 is 61.19\n",
      "[14:12:02] WARNING: C:/Users/Administrator/workspace/xgboost-win64_release_1.4.0/src/learner.cc:1095: Starting in XGBoost 1.3.0, the default evaluation metric used with the objective 'multi:softprob' was changed from 'merror' to 'mlogloss'. Explicitly set eval_metric if you'd like to restore the old behavior.\n"
     ]
    },
    {
     "data": {
      "text/plain": [
       "XGBClassifier(base_score=0.5, booster='gbtree', colsample_bylevel=1,\n",
       "              colsample_bynode=1, colsample_bytree=1, gamma=0, gpu_id=-1,\n",
       "              importance_type='gain', interaction_constraints='',\n",
       "              learning_rate=0.300000012, max_delta_step=0, max_depth=6,\n",
       "              min_child_weight=1, missing=nan, monotone_constraints='()',\n",
       "              n_estimators=100, n_jobs=8, num_parallel_tree=1,\n",
       "              objective='multi:softprob', random_state=0, reg_alpha=0,\n",
       "              reg_lambda=1, scale_pos_weight=None, subsample=1,\n",
       "              tree_method='exact', validate_parameters=1, verbosity=None)"
      ]
     },
     "execution_count": 80,
     "metadata": {},
     "output_type": "execute_result"
    }
   ],
   "source": [
    "dataframe = pd.read_csv('MT_G1.csv')\n",
    "X = dataframe.drop(columns=['RECRUITMENT_CAT','PATNO','EVENT_ID','PAG_NAME_1','PAG_NAME_2'],axis=1) \n",
    "y = dataframe['RECRUITMENT_CAT']\n",
    "\n",
    "X = ordinal.fit_transform(X)\n",
    "y = label_encoder.fit_transform(y)\n",
    "    \n",
    "X_train, X_test, y_train, y_test = train_test_split(X, y, test_size=0.2, random_state=1)\n",
    "\n",
    "model = XGBClassifier(\"binary:logistic\")\n",
    "model.fit(X_train, y_train)\n",
    "\n",
    "y_pred = model.predict(X_test)\n",
    "predictions = [round(value) for value in y_pred]\n",
    "    \n",
    "accuracy = accuracy_score(y_test, predictions)\n",
    "print('Accuracy for MT_G1 is',round((100*accuracy),2))\n",
    "accs.append(accuracy)\n",
    "model.fit(X, y)"
   ]
  },
  {
   "cell_type": "code",
   "execution_count": 81,
   "metadata": {},
   "outputs": [],
   "source": [
    "with open('XGBC_MT_G1.pkl','wb') as f:\n",
    "    pickle.dump(model, f)"
   ]
  },
  {
   "cell_type": "code",
   "execution_count": 82,
   "metadata": {},
   "outputs": [
    {
     "name": "stdout",
     "output_type": "stream",
     "text": [
      "[14:12:08] WARNING: C:/Users/Administrator/workspace/xgboost-win64_release_1.4.0/src/learner.cc:1095: Starting in XGBoost 1.3.0, the default evaluation metric used with the objective 'multi:softprob' was changed from 'merror' to 'mlogloss'. Explicitly set eval_metric if you'd like to restore the old behavior.\n",
      "Accuracy for MT_G2 is 59.04\n",
      "[14:12:08] WARNING: C:/Users/Administrator/workspace/xgboost-win64_release_1.4.0/src/learner.cc:1095: Starting in XGBoost 1.3.0, the default evaluation metric used with the objective 'multi:softprob' was changed from 'merror' to 'mlogloss'. Explicitly set eval_metric if you'd like to restore the old behavior.\n"
     ]
    },
    {
     "data": {
      "text/plain": [
       "XGBClassifier(base_score=0.5, booster='gbtree', colsample_bylevel=1,\n",
       "              colsample_bynode=1, colsample_bytree=1, gamma=0, gpu_id=-1,\n",
       "              importance_type='gain', interaction_constraints='',\n",
       "              learning_rate=0.300000012, max_delta_step=0, max_depth=6,\n",
       "              min_child_weight=1, missing=nan, monotone_constraints='()',\n",
       "              n_estimators=100, n_jobs=8, num_parallel_tree=1,\n",
       "              objective='multi:softprob', random_state=0, reg_alpha=0,\n",
       "              reg_lambda=1, scale_pos_weight=None, subsample=1,\n",
       "              tree_method='exact', validate_parameters=1, verbosity=None)"
      ]
     },
     "execution_count": 82,
     "metadata": {},
     "output_type": "execute_result"
    }
   ],
   "source": [
    "dataframe = pd.read_csv('MT_G2.csv')\n",
    "X = dataframe.drop(columns=['RECRUITMENT_CAT','PATNO','EVENT_ID','PAG_NAME_1','PAG_NAME_2'],axis=1) \n",
    "y = dataframe['RECRUITMENT_CAT']\n",
    "\n",
    "X = ordinal.fit_transform(X)\n",
    "y = label_encoder.fit_transform(y)\n",
    "    \n",
    "X_train, X_test, y_train, y_test = train_test_split(X, y, test_size=0.2, random_state=1)\n",
    "    \n",
    "\n",
    "model = XGBClassifier(\"binary:logistic\")\n",
    "model.fit(X_train, y_train)\n",
    "\n",
    "y_pred = model.predict(X_test)\n",
    "predictions = [round(value) for value in y_pred]\n",
    "    \n",
    "accuracy = accuracy_score(y_test, predictions)\n",
    "print('Accuracy for MT_G2 is',round((100*accuracy),2))\n",
    "accs.append(accuracy)\n",
    "model.fit(X, y)"
   ]
  },
  {
   "cell_type": "code",
   "execution_count": 83,
   "metadata": {},
   "outputs": [],
   "source": [
    "with open('XGBC_MT_G2.pkl','wb') as f:\n",
    "    pickle.dump(model, f)"
   ]
  },
  {
   "cell_type": "code",
   "execution_count": 84,
   "metadata": {},
   "outputs": [
    {
     "name": "stdout",
     "output_type": "stream",
     "text": [
      "[14:12:11] WARNING: C:/Users/Administrator/workspace/xgboost-win64_release_1.4.0/src/learner.cc:1095: Starting in XGBoost 1.3.0, the default evaluation metric used with the objective 'multi:softprob' was changed from 'merror' to 'mlogloss'. Explicitly set eval_metric if you'd like to restore the old behavior.\n",
      "Accuracy for MT_G3 is 80.27\n",
      "[14:12:11] WARNING: C:/Users/Administrator/workspace/xgboost-win64_release_1.4.0/src/learner.cc:1095: Starting in XGBoost 1.3.0, the default evaluation metric used with the objective 'multi:softprob' was changed from 'merror' to 'mlogloss'. Explicitly set eval_metric if you'd like to restore the old behavior.\n"
     ]
    },
    {
     "data": {
      "text/plain": [
       "XGBClassifier(base_score=0.5, booster='gbtree', colsample_bylevel=1,\n",
       "              colsample_bynode=1, colsample_bytree=1, gamma=0, gpu_id=-1,\n",
       "              importance_type='gain', interaction_constraints='',\n",
       "              learning_rate=0.300000012, max_delta_step=0, max_depth=6,\n",
       "              min_child_weight=1, missing=nan, monotone_constraints='()',\n",
       "              n_estimators=100, n_jobs=8, num_parallel_tree=1,\n",
       "              objective='multi:softprob', random_state=0, reg_alpha=0,\n",
       "              reg_lambda=1, scale_pos_weight=None, subsample=1,\n",
       "              tree_method='exact', validate_parameters=1, verbosity=None)"
      ]
     },
     "execution_count": 84,
     "metadata": {},
     "output_type": "execute_result"
    }
   ],
   "source": [
    "dataframe = pd.read_csv('MT_G3.csv')\n",
    "X = dataframe.drop(columns=['RECRUITMENT_CAT','PATNO','EVENT_ID','PAG_NAME_1','PAG_NAME_2'],axis=1) \n",
    "y = dataframe['RECRUITMENT_CAT']\n",
    "\n",
    "X = ordinal.fit_transform(X)\n",
    "y = label_encoder.fit_transform(y)\n",
    "    \n",
    "X_train, X_test, y_train, y_test = train_test_split(X, y, test_size=0.2, random_state=1)\n",
    "    \n",
    "\n",
    "model = XGBClassifier(\"binary:logistic\")\n",
    "model.fit(X_train, y_train)\n",
    "\n",
    "y_pred = model.predict(X_test)\n",
    "predictions = [round(value) for value in y_pred]\n",
    "    \n",
    "accuracy = accuracy_score(y_test, predictions)\n",
    "print('Accuracy for MT_G3 is',round((100*accuracy),2))\n",
    "accs.append(accuracy)\n",
    "model.fit(X, y)"
   ]
  },
  {
   "cell_type": "code",
   "execution_count": 85,
   "metadata": {},
   "outputs": [],
   "source": [
    "with open('XGBC_MT_G3.pkl','wb') as f:\n",
    "    pickle.dump(model, f)"
   ]
  },
  {
   "cell_type": "code",
   "execution_count": 15,
   "metadata": {},
   "outputs": [
    {
     "name": "stdout",
     "output_type": "stream",
     "text": [
      "[11:14:38] WARNING: C:/Users/Administrator/workspace/xgboost-win64_release_1.4.0/src/learner.cc:1095: Starting in XGBoost 1.3.0, the default evaluation metric used with the objective 'multi:softprob' was changed from 'merror' to 'mlogloss'. Explicitly set eval_metric if you'd like to restore the old behavior.\n",
      "Accuracy for MT_G3 is 79.73\n"
     ]
    },
    {
     "ename": "NameError",
     "evalue": "name 'accs' is not defined",
     "output_type": "error",
     "traceback": [
      "\u001b[1;31m---------------------------------------------------------------------------\u001b[0m",
      "\u001b[1;31mNameError\u001b[0m                                 Traceback (most recent call last)",
      "\u001b[1;32m<ipython-input-15-f600196435a0>\u001b[0m in \u001b[0;36m<module>\u001b[1;34m\u001b[0m\n\u001b[0;32m     17\u001b[0m \u001b[0maccuracy\u001b[0m \u001b[1;33m=\u001b[0m \u001b[0maccuracy_score\u001b[0m\u001b[1;33m(\u001b[0m\u001b[0my_test\u001b[0m\u001b[1;33m,\u001b[0m \u001b[0mpredictions\u001b[0m\u001b[1;33m)\u001b[0m\u001b[1;33m\u001b[0m\u001b[1;33m\u001b[0m\u001b[0m\n\u001b[0;32m     18\u001b[0m \u001b[0mprint\u001b[0m\u001b[1;33m(\u001b[0m\u001b[1;34m'Accuracy for MT_G3 is'\u001b[0m\u001b[1;33m,\u001b[0m\u001b[0mround\u001b[0m\u001b[1;33m(\u001b[0m\u001b[1;33m(\u001b[0m\u001b[1;36m100\u001b[0m\u001b[1;33m*\u001b[0m\u001b[0maccuracy\u001b[0m\u001b[1;33m)\u001b[0m\u001b[1;33m,\u001b[0m\u001b[1;36m2\u001b[0m\u001b[1;33m)\u001b[0m\u001b[1;33m)\u001b[0m\u001b[1;33m\u001b[0m\u001b[1;33m\u001b[0m\u001b[0m\n\u001b[1;32m---> 19\u001b[1;33m \u001b[0maccs\u001b[0m\u001b[1;33m.\u001b[0m\u001b[0mappend\u001b[0m\u001b[1;33m(\u001b[0m\u001b[0maccuracy\u001b[0m\u001b[1;33m)\u001b[0m\u001b[1;33m\u001b[0m\u001b[1;33m\u001b[0m\u001b[0m\n\u001b[0m\u001b[0;32m     20\u001b[0m \u001b[0mmodel\u001b[0m\u001b[1;33m.\u001b[0m\u001b[0mfit\u001b[0m\u001b[1;33m(\u001b[0m\u001b[0mX\u001b[0m\u001b[1;33m,\u001b[0m \u001b[0my\u001b[0m\u001b[1;33m)\u001b[0m\u001b[1;33m\u001b[0m\u001b[1;33m\u001b[0m\u001b[0m\n",
      "\u001b[1;31mNameError\u001b[0m: name 'accs' is not defined"
     ]
    }
   ],
   "source": [
    "dataframe = pd.read_csv('MT_G3_without_MOCA.csv')\n",
    "X = dataframe.drop(columns=['RECRUITMENT_CAT','PATNO','EVENT_ID','PAG_NAME_1'],axis=1) \n",
    "y = dataframe['RECRUITMENT_CAT']\n",
    "\n",
    "X = ordinal.fit_transform(X)\n",
    "y = label_encoder.fit_transform(y)\n",
    "    \n",
    "X_train, X_test, y_train, y_test = train_test_split(X, y, test_size=0.2, random_state=1)\n",
    "    \n",
    "\n",
    "model = XGBClassifier(\"binary:logistic\")\n",
    "model.fit(X_train, y_train)\n",
    "\n",
    "y_pred = model.predict(X_test)\n",
    "predictions = [round(value) for value in y_pred]\n",
    "    \n",
    "accuracy = accuracy_score(y_test, predictions)\n",
    "print('Accuracy for MT_G3 is',round((100*accuracy),2))\n",
    "accs.append(accuracy)\n",
    "model.fit(X, y)"
   ]
  },
  {
   "cell_type": "code",
   "execution_count": 86,
   "metadata": {},
   "outputs": [
    {
     "name": "stdout",
     "output_type": "stream",
     "text": [
      "[14:12:15] WARNING: C:/Users/Administrator/workspace/xgboost-win64_release_1.4.0/src/learner.cc:1095: Starting in XGBoost 1.3.0, the default evaluation metric used with the objective 'multi:softprob' was changed from 'merror' to 'mlogloss'. Explicitly set eval_metric if you'd like to restore the old behavior.\n",
      "Accuracy for MT_G4 is 53.49\n",
      "[14:12:15] WARNING: C:/Users/Administrator/workspace/xgboost-win64_release_1.4.0/src/learner.cc:1095: Starting in XGBoost 1.3.0, the default evaluation metric used with the objective 'multi:softprob' was changed from 'merror' to 'mlogloss'. Explicitly set eval_metric if you'd like to restore the old behavior.\n"
     ]
    },
    {
     "data": {
      "text/plain": [
       "XGBClassifier(base_score=0.5, booster='gbtree', colsample_bylevel=1,\n",
       "              colsample_bynode=1, colsample_bytree=1, gamma=0, gpu_id=-1,\n",
       "              importance_type='gain', interaction_constraints='',\n",
       "              learning_rate=0.300000012, max_delta_step=0, max_depth=6,\n",
       "              min_child_weight=1, missing=nan, monotone_constraints='()',\n",
       "              n_estimators=100, n_jobs=8, num_parallel_tree=1,\n",
       "              objective='multi:softprob', random_state=0, reg_alpha=0,\n",
       "              reg_lambda=1, scale_pos_weight=None, subsample=1,\n",
       "              tree_method='exact', validate_parameters=1, verbosity=None)"
      ]
     },
     "execution_count": 86,
     "metadata": {},
     "output_type": "execute_result"
    }
   ],
   "source": [
    "dataframe = pd.read_csv('MT_G4.csv')\n",
    "X = dataframe.drop(columns=['RECRUITMENT_CAT','PATNO','EVENT_ID','PAG_NAME_1','PAG_NAME_2'],axis=1) \n",
    "y = dataframe['RECRUITMENT_CAT']\n",
    "\n",
    "datax = X.values\n",
    "datay = y.values\n",
    "\n",
    "X = datax.astype(str)\n",
    "y = datay.astype(str)\n",
    "\n",
    "X = ordinal.fit_transform(X)\n",
    "y = label_encoder.fit_transform(y)\n",
    "    \n",
    "X_train, X_test, y_train, y_test = train_test_split(X, y, test_size=0.2, random_state=1)\n",
    "\n",
    "model = XGBClassifier(\"binary:logistic\")\n",
    "model.fit(X_train, y_train)\n",
    "\n",
    "y_pred = model.predict(X_test)\n",
    "predictions = [round(value) for value in y_pred]\n",
    "    \n",
    "accuracy = accuracy_score(y_test, predictions)\n",
    "print('Accuracy for MT_G4 is',round((100*accuracy),2))\n",
    "accs.append(accuracy)\n",
    "model.fit(X, y)"
   ]
  },
  {
   "cell_type": "code",
   "execution_count": 87,
   "metadata": {},
   "outputs": [],
   "source": [
    "with open('XGBC_MT_G4.pkl','wb') as f:\n",
    "    pickle.dump(model, f)"
   ]
  },
  {
   "cell_type": "code",
   "execution_count": 88,
   "metadata": {},
   "outputs": [
    {
     "name": "stdout",
     "output_type": "stream",
     "text": [
      "[14:12:19] WARNING: C:/Users/Administrator/workspace/xgboost-win64_release_1.4.0/src/learner.cc:1095: Starting in XGBoost 1.3.0, the default evaluation metric used with the objective 'multi:softprob' was changed from 'merror' to 'mlogloss'. Explicitly set eval_metric if you'd like to restore the old behavior.\n",
      "Accuracy for MT_G5 is 62.34\n",
      "[14:12:19] WARNING: C:/Users/Administrator/workspace/xgboost-win64_release_1.4.0/src/learner.cc:1095: Starting in XGBoost 1.3.0, the default evaluation metric used with the objective 'multi:softprob' was changed from 'merror' to 'mlogloss'. Explicitly set eval_metric if you'd like to restore the old behavior.\n"
     ]
    },
    {
     "data": {
      "text/plain": [
       "XGBClassifier(base_score=0.5, booster='gbtree', colsample_bylevel=1,\n",
       "              colsample_bynode=1, colsample_bytree=1, gamma=0, gpu_id=-1,\n",
       "              importance_type='gain', interaction_constraints='',\n",
       "              learning_rate=0.300000012, max_delta_step=0, max_depth=6,\n",
       "              min_child_weight=1, missing=nan, monotone_constraints='()',\n",
       "              n_estimators=100, n_jobs=8, num_parallel_tree=1,\n",
       "              objective='multi:softprob', random_state=0, reg_alpha=0,\n",
       "              reg_lambda=1, scale_pos_weight=None, subsample=1,\n",
       "              tree_method='exact', validate_parameters=1, verbosity=None)"
      ]
     },
     "execution_count": 88,
     "metadata": {},
     "output_type": "execute_result"
    }
   ],
   "source": [
    "dataframe = pd.read_csv('MT_G5.csv')\n",
    "X = dataframe.drop(columns=['RECRUITMENT_CAT','PATNO','EVENT_ID','PAG_NAME'],axis=1) \n",
    "y = dataframe['RECRUITMENT_CAT']\n",
    "\n",
    "datax = X.values\n",
    "datay = y.values\n",
    "\n",
    "X = datax.astype(str)\n",
    "y = datay.astype(str)\n",
    "\n",
    "X = ordinal.fit_transform(X)\n",
    "y = label_encoder.fit_transform(y)\n",
    "    \n",
    "X_train, X_test, y_train, y_test = train_test_split(X, y, test_size=0.2, random_state=1)\n",
    "\n",
    "model = XGBClassifier(\"binary:logistic\")\n",
    "model.fit(X_train, y_train)\n",
    "\n",
    "y_pred = model.predict(X_test)\n",
    "predictions = [round(value) for value in y_pred]\n",
    "    \n",
    "accuracy = accuracy_score(y_test, predictions)\n",
    "print('Accuracy for MT_G5 is',round((100*accuracy),2))\n",
    "accs.append(accuracy)\n",
    "model.fit(X, y)"
   ]
  },
  {
   "cell_type": "code",
   "execution_count": 89,
   "metadata": {},
   "outputs": [],
   "source": [
    "with open('XGBC_MT_G5.pkl','wb') as f:\n",
    "    pickle.dump(model, f)"
   ]
  },
  {
   "cell_type": "code",
   "execution_count": 90,
   "metadata": {},
   "outputs": [
    {
     "name": "stdout",
     "output_type": "stream",
     "text": [
      "[0.9213483146067416, 0.8876543209876543, 0.8023255813953488, 0.8629441624365483, 0.9213483146067416, 0.9213483146067416, 0.8023255813953488, 0.9213483146067416, 0.8876543209876543, 0.8023255813953488, 0.8023255813953488, 0.8629441624365483, 0.6119235095613048, 0.5903614457831325, 0.8026666666666666, 0.5348837209302325, 0.6233766233766234] \n",
      "\n",
      "Average accuracy of XGBClassifier is = 79.76\n"
     ]
    }
   ],
   "source": [
    "print(accs,\"\\n\")\n",
    "print('Average accuracy of XGBClassifier is =',round(100*mean(accs),2))"
   ]
  },
  {
   "cell_type": "markdown",
   "metadata": {},
   "source": [
    "***\n",
    "## RANDOM FOREST CLASSIFIER"
   ]
  },
  {
   "cell_type": "code",
   "execution_count": 91,
   "metadata": {},
   "outputs": [],
   "source": [
    "accs = []"
   ]
  },
  {
   "cell_type": "markdown",
   "metadata": {},
   "source": [
    "### PQ"
   ]
  },
  {
   "cell_type": "code",
   "execution_count": 75,
   "metadata": {},
   "outputs": [
    {
     "name": "stdout",
     "output_type": "stream",
     "text": [
      "Accuracy for PQ_G1 is 90.08\n"
     ]
    },
    {
     "data": {
      "text/plain": [
       "RandomForestClassifier()"
      ]
     },
     "execution_count": 75,
     "metadata": {},
     "output_type": "execute_result"
    }
   ],
   "source": [
    "dataframe = pd.read_csv('PQ_G1.csv')\n",
    "X = dataframe.drop(columns=['RECRUITMENT_CAT','PATNO','EVENT_ID','PAG_NAME_1','PAG_NAME_2','PAG_NAME_3','PAG_NAME_4'],axis=1) \n",
    "y = dataframe['RECRUITMENT_CAT']\n",
    "\n",
    "X = ordinal.fit_transform(X)\n",
    "y = label_encoder.fit_transform(y)\n",
    "\n",
    "model = RandomForestClassifier()\n",
    "cv = RepeatedStratifiedKFold(n_splits=10, n_repeats=3, random_state=1)\n",
    "n_scores = cross_val_score(model, X, y, scoring='accuracy', cv=cv, n_jobs=-1, error_score='raise')\n",
    "\n",
    "print('Accuracy for PQ_G1 is',round((100*mean(n_scores)),2))\n",
    "# accs.append(100*mean(n_scores))\n",
    "model.fit(X, y)"
   ]
  },
  {
   "cell_type": "code",
   "execution_count": 76,
   "metadata": {},
   "outputs": [],
   "source": [
    "with open('RFC_PQ_G1.pkl','wb') as f:\n",
    "    pickle.dump(model, f)"
   ]
  },
  {
   "cell_type": "code",
   "execution_count": 11,
   "metadata": {},
   "outputs": [
    {
     "name": "stdout",
     "output_type": "stream",
     "text": [
      "Accuracy for PQ_G2 is 86.99\n"
     ]
    },
    {
     "data": {
      "text/plain": [
       "RandomForestClassifier()"
      ]
     },
     "execution_count": 11,
     "metadata": {},
     "output_type": "execute_result"
    }
   ],
   "source": [
    "dataframe = pd.read_csv('PQ_G2.csv')\n",
    "X = dataframe.drop(columns=['RECRUITMENT_CAT','PATNO','EVENT_ID','PAG_NAME_1','PAG_NAME_2'],axis=1) \n",
    "y = dataframe['RECRUITMENT_CAT']\n",
    "\n",
    "X = ordinal.fit_transform(X)\n",
    "y = label_encoder.fit_transform(y)\n",
    "\n",
    "model = RandomForestClassifier()\n",
    "cv = RepeatedStratifiedKFold(n_splits=10, n_repeats=3, random_state=1)\n",
    "n_scores = cross_val_score(model, X, y, scoring='accuracy', cv=cv, n_jobs=-1, error_score='raise')\n",
    "\n",
    "print('Accuracy for PQ_G2 is',round((100*mean(n_scores)),2))\n",
    "accs.append(100*mean(n_scores))\n",
    "model.fit(X, y)"
   ]
  },
  {
   "cell_type": "code",
   "execution_count": 12,
   "metadata": {},
   "outputs": [],
   "source": [
    "with open('RFC_PQ_G2.pkl','wb') as f:\n",
    "    pickle.dump(model, f)"
   ]
  },
  {
   "cell_type": "code",
   "execution_count": 96,
   "metadata": {},
   "outputs": [
    {
     "name": "stdout",
     "output_type": "stream",
     "text": [
      "Accuracy for PQ_G3 is 82.48\n"
     ]
    },
    {
     "data": {
      "text/plain": [
       "RandomForestClassifier()"
      ]
     },
     "execution_count": 96,
     "metadata": {},
     "output_type": "execute_result"
    }
   ],
   "source": [
    "dataframe = pd.read_csv('PQ_G3.csv')\n",
    "X = dataframe.drop(columns=['RECRUITMENT_CAT','PATNO','EVENT_ID','PAG_NAME_1','PAG_NAME_2','PAG_NAME_3'],axis=1) \n",
    "y = dataframe['RECRUITMENT_CAT']\n",
    "\n",
    "X = ordinal.fit_transform(X)\n",
    "y = label_encoder.fit_transform(y)\n",
    "\n",
    "model = RandomForestClassifier()\n",
    "cv = RepeatedStratifiedKFold(n_splits=10, n_repeats=3, random_state=1)\n",
    "n_scores = cross_val_score(model, X, y, scoring='accuracy', cv=cv, n_jobs=-1, error_score='raise')\n",
    "\n",
    "print('Accuracy for PQ_G3 is',round((100*mean(n_scores)),2))\n",
    "accs.append(100*mean(n_scores))\n",
    "model.fit(X, y)"
   ]
  },
  {
   "cell_type": "code",
   "execution_count": 97,
   "metadata": {},
   "outputs": [],
   "source": [
    "with open('RFC_PQ_G3.pkl','wb') as f:\n",
    "    pickle.dump(model, f)"
   ]
  },
  {
   "cell_type": "code",
   "execution_count": 98,
   "metadata": {},
   "outputs": [
    {
     "name": "stdout",
     "output_type": "stream",
     "text": [
      "Accuracy for PQ_G4 is 85.81\n"
     ]
    },
    {
     "data": {
      "text/plain": [
       "RandomForestClassifier()"
      ]
     },
     "execution_count": 98,
     "metadata": {},
     "output_type": "execute_result"
    }
   ],
   "source": [
    "dataframe = pd.read_csv('PQ_G4.csv')\n",
    "X = dataframe.drop(columns=['RECRUITMENT_CAT','PATNO','EVENT_ID','PAG_NAME'],axis=1) \n",
    "y = dataframe['RECRUITMENT_CAT']\n",
    "\n",
    "X = ordinal.fit_transform(X)\n",
    "y = label_encoder.fit_transform(y)\n",
    "\n",
    "model = RandomForestClassifier()\n",
    "cv = RepeatedStratifiedKFold(n_splits=10, n_repeats=3, random_state=1)\n",
    "n_scores = cross_val_score(model, X, y, scoring='accuracy', cv=cv, n_jobs=-1, error_score='raise')\n",
    "\n",
    "print('Accuracy for PQ_G4 is',round((100*mean(n_scores)),2))\n",
    "accs.append(100*mean(n_scores))\n",
    "model.fit(X, y)"
   ]
  },
  {
   "cell_type": "code",
   "execution_count": 99,
   "metadata": {},
   "outputs": [],
   "source": [
    "with open('RFC_PQ_G4.pkl','wb') as f:\n",
    "    pickle.dump(model, f)"
   ]
  },
  {
   "cell_type": "markdown",
   "metadata": {},
   "source": [
    "***\n",
    "### MT"
   ]
  },
  {
   "cell_type": "code",
   "execution_count": 100,
   "metadata": {},
   "outputs": [
    {
     "name": "stdout",
     "output_type": "stream",
     "text": [
      "Accuracy for MT_G1 is 63.25\n"
     ]
    },
    {
     "data": {
      "text/plain": [
       "RandomForestClassifier()"
      ]
     },
     "execution_count": 100,
     "metadata": {},
     "output_type": "execute_result"
    }
   ],
   "source": [
    "dataframe = pd.read_csv('MT_G1.csv')\n",
    "X = dataframe.drop(columns=['RECRUITMENT_CAT','PATNO','EVENT_ID','PAG_NAME_1','PAG_NAME_2'],axis=1) \n",
    "y = dataframe['RECRUITMENT_CAT']\n",
    "    \n",
    "datax = X.values\n",
    "datay = y.values\n",
    "X = datax.astype(str)\n",
    "y = datay.astype(str)\n",
    "\n",
    "X = ordinal.fit_transform(X)\n",
    "y = label_encoder.fit_transform(y)\n",
    "\n",
    "model = RandomForestClassifier()\n",
    "cv = RepeatedStratifiedKFold(n_splits=10, n_repeats=3, random_state=1)\n",
    "n_scores = cross_val_score(model, X, y, scoring='accuracy', cv=cv, n_jobs=-1, error_score='raise')\n",
    "print('Accuracy for MT_G1 is',round((100*mean(n_scores)),2))\n",
    "accs.append(100*mean(n_scores))\n",
    "model.fit(X, y)"
   ]
  },
  {
   "cell_type": "code",
   "execution_count": 101,
   "metadata": {},
   "outputs": [],
   "source": [
    "with open('RFC_MT_G1.pkl','wb') as f:\n",
    "    pickle.dump(model, f)"
   ]
  },
  {
   "cell_type": "code",
   "execution_count": 102,
   "metadata": {},
   "outputs": [
    {
     "name": "stdout",
     "output_type": "stream",
     "text": [
      "Accuracy for MT_G2 is 62.61\n"
     ]
    },
    {
     "data": {
      "text/plain": [
       "RandomForestClassifier()"
      ]
     },
     "execution_count": 102,
     "metadata": {},
     "output_type": "execute_result"
    }
   ],
   "source": [
    "dataframe = pd.read_csv('MT_G2.csv')\n",
    "X = dataframe.drop(columns=['RECRUITMENT_CAT','PATNO','EVENT_ID','PAG_NAME_1','PAG_NAME_2'],axis=1) \n",
    "y = dataframe['RECRUITMENT_CAT']\n",
    "    \n",
    "datax = X.values\n",
    "datay = y.values\n",
    "X = datax.astype(str)\n",
    "y = datay.astype(str)\n",
    "\n",
    "X = ordinal.fit_transform(X)\n",
    "y = label_encoder.fit_transform(y)\n",
    "\n",
    "model = RandomForestClassifier()\n",
    "cv = RepeatedStratifiedKFold(n_splits=10, n_repeats=3, random_state=1)\n",
    "n_scores = cross_val_score(model, X, y, scoring='accuracy', cv=cv, n_jobs=-1, error_score='raise')\n",
    "print('Accuracy for MT_G2 is',round((100*mean(n_scores)),2))\n",
    "accs.append(100*mean(n_scores))\n",
    "model.fit(X, y)"
   ]
  },
  {
   "cell_type": "code",
   "execution_count": 103,
   "metadata": {},
   "outputs": [],
   "source": [
    "with open('RFC_MT_G2.pkl','wb') as f:\n",
    "    pickle.dump(model, f)"
   ]
  },
  {
   "cell_type": "code",
   "execution_count": 104,
   "metadata": {},
   "outputs": [
    {
     "name": "stdout",
     "output_type": "stream",
     "text": [
      "Accuracy for MT_G3 is 77.48\n"
     ]
    },
    {
     "data": {
      "text/plain": [
       "RandomForestClassifier()"
      ]
     },
     "execution_count": 104,
     "metadata": {},
     "output_type": "execute_result"
    }
   ],
   "source": [
    "dataframe = pd.read_csv('MT_G3.csv')\n",
    "X = dataframe.drop(columns=['RECRUITMENT_CAT','PATNO','EVENT_ID','PAG_NAME_1','PAG_NAME_2'],axis=1) \n",
    "y = dataframe['RECRUITMENT_CAT']\n",
    "    \n",
    "datax = X.values\n",
    "datay = y.values\n",
    "X = datax.astype(str)\n",
    "y = datay.astype(str)\n",
    "\n",
    "X = ordinal.fit_transform(X)\n",
    "y = label_encoder.fit_transform(y)\n",
    "\n",
    "model = RandomForestClassifier()\n",
    "cv = RepeatedStratifiedKFold(n_splits=10, n_repeats=3, random_state=1)\n",
    "n_scores = cross_val_score(model, X, y, scoring='accuracy', cv=cv, n_jobs=-1, error_score='raise')\n",
    "print('Accuracy for MT_G3 is',round((100*mean(n_scores)),2))\n",
    "accs.append(100*mean(n_scores))\n",
    "model.fit(X, y)"
   ]
  },
  {
   "cell_type": "code",
   "execution_count": 105,
   "metadata": {},
   "outputs": [],
   "source": [
    "with open('RFC_MT_G3.pkl','wb') as f:\n",
    "    pickle.dump(model, f)"
   ]
  },
  {
   "cell_type": "code",
   "execution_count": 16,
   "metadata": {},
   "outputs": [
    {
     "name": "stdout",
     "output_type": "stream",
     "text": [
      "Accuracy for MT_G3 is 78.4\n"
     ]
    },
    {
     "ename": "NameError",
     "evalue": "name 'accs' is not defined",
     "output_type": "error",
     "traceback": [
      "\u001b[1;31m---------------------------------------------------------------------------\u001b[0m",
      "\u001b[1;31mNameError\u001b[0m                                 Traceback (most recent call last)",
      "\u001b[1;32m<ipython-input-16-4a5511e82da1>\u001b[0m in \u001b[0;36m<module>\u001b[1;34m\u001b[0m\n\u001b[0;32m     15\u001b[0m \u001b[0mn_scores\u001b[0m \u001b[1;33m=\u001b[0m \u001b[0mcross_val_score\u001b[0m\u001b[1;33m(\u001b[0m\u001b[0mmodel\u001b[0m\u001b[1;33m,\u001b[0m \u001b[0mX\u001b[0m\u001b[1;33m,\u001b[0m \u001b[0my\u001b[0m\u001b[1;33m,\u001b[0m \u001b[0mscoring\u001b[0m\u001b[1;33m=\u001b[0m\u001b[1;34m'accuracy'\u001b[0m\u001b[1;33m,\u001b[0m \u001b[0mcv\u001b[0m\u001b[1;33m=\u001b[0m\u001b[0mcv\u001b[0m\u001b[1;33m,\u001b[0m \u001b[0mn_jobs\u001b[0m\u001b[1;33m=\u001b[0m\u001b[1;33m-\u001b[0m\u001b[1;36m1\u001b[0m\u001b[1;33m,\u001b[0m \u001b[0merror_score\u001b[0m\u001b[1;33m=\u001b[0m\u001b[1;34m'raise'\u001b[0m\u001b[1;33m)\u001b[0m\u001b[1;33m\u001b[0m\u001b[1;33m\u001b[0m\u001b[0m\n\u001b[0;32m     16\u001b[0m \u001b[0mprint\u001b[0m\u001b[1;33m(\u001b[0m\u001b[1;34m'Accuracy for MT_G3 is'\u001b[0m\u001b[1;33m,\u001b[0m\u001b[0mround\u001b[0m\u001b[1;33m(\u001b[0m\u001b[1;33m(\u001b[0m\u001b[1;36m100\u001b[0m\u001b[1;33m*\u001b[0m\u001b[0mmean\u001b[0m\u001b[1;33m(\u001b[0m\u001b[0mn_scores\u001b[0m\u001b[1;33m)\u001b[0m\u001b[1;33m)\u001b[0m\u001b[1;33m,\u001b[0m\u001b[1;36m2\u001b[0m\u001b[1;33m)\u001b[0m\u001b[1;33m)\u001b[0m\u001b[1;33m\u001b[0m\u001b[1;33m\u001b[0m\u001b[0m\n\u001b[1;32m---> 17\u001b[1;33m \u001b[0maccs\u001b[0m\u001b[1;33m.\u001b[0m\u001b[0mappend\u001b[0m\u001b[1;33m(\u001b[0m\u001b[1;36m100\u001b[0m\u001b[1;33m*\u001b[0m\u001b[0mmean\u001b[0m\u001b[1;33m(\u001b[0m\u001b[0mn_scores\u001b[0m\u001b[1;33m)\u001b[0m\u001b[1;33m)\u001b[0m\u001b[1;33m\u001b[0m\u001b[1;33m\u001b[0m\u001b[0m\n\u001b[0m\u001b[0;32m     18\u001b[0m \u001b[0mmodel\u001b[0m\u001b[1;33m.\u001b[0m\u001b[0mfit\u001b[0m\u001b[1;33m(\u001b[0m\u001b[0mX\u001b[0m\u001b[1;33m,\u001b[0m \u001b[0my\u001b[0m\u001b[1;33m)\u001b[0m\u001b[1;33m\u001b[0m\u001b[1;33m\u001b[0m\u001b[0m\n",
      "\u001b[1;31mNameError\u001b[0m: name 'accs' is not defined"
     ]
    }
   ],
   "source": [
    "dataframe = pd.read_csv('MT_G3_without_MOCA.csv')\n",
    "X = dataframe.drop(columns=['RECRUITMENT_CAT','PATNO','EVENT_ID','PAG_NAME_1'],axis=1) \n",
    "y = dataframe['RECRUITMENT_CAT']\n",
    "    \n",
    "datax = X.values\n",
    "datay = y.values\n",
    "X = datax.astype(str)\n",
    "y = datay.astype(str)\n",
    "\n",
    "X = ordinal.fit_transform(X)\n",
    "y = label_encoder.fit_transform(y)\n",
    "\n",
    "model = RandomForestClassifier()\n",
    "cv = RepeatedStratifiedKFold(n_splits=10, n_repeats=3, random_state=1)\n",
    "n_scores = cross_val_score(model, X, y, scoring='accuracy', cv=cv, n_jobs=-1, error_score='raise')\n",
    "print('Accuracy for MT_G3 is',round((100*mean(n_scores)),2))\n",
    "accs.append(100*mean(n_scores))\n",
    "model.fit(X, y)"
   ]
  },
  {
   "cell_type": "code",
   "execution_count": 106,
   "metadata": {},
   "outputs": [
    {
     "name": "stdout",
     "output_type": "stream",
     "text": [
      "Accuracy for MT_G4 is 64.6\n"
     ]
    },
    {
     "data": {
      "text/plain": [
       "RandomForestClassifier()"
      ]
     },
     "execution_count": 106,
     "metadata": {},
     "output_type": "execute_result"
    }
   ],
   "source": [
    "dataframe = pd.read_csv('MT_G4.csv')\n",
    "X = dataframe.drop(columns=['RECRUITMENT_CAT','PATNO','EVENT_ID','PAG_NAME_1','PAG_NAME_2'],axis=1) \n",
    "y = dataframe['RECRUITMENT_CAT']\n",
    "    \n",
    "datax = X.values\n",
    "datay = y.values\n",
    "X = datax.astype(str)\n",
    "y = datay.astype(str)\n",
    "\n",
    "X = ordinal.fit_transform(X)\n",
    "y = label_encoder.fit_transform(y)\n",
    "\n",
    "model = RandomForestClassifier()\n",
    "cv = RepeatedStratifiedKFold(n_splits=10, n_repeats=3, random_state=1)\n",
    "n_scores = cross_val_score(model, X, y, scoring='accuracy', cv=cv, n_jobs=-1, error_score='raise')\n",
    "print('Accuracy for MT_G4 is',round((100*mean(n_scores)),2))\n",
    "accs.append(100*mean(n_scores))\n",
    "model.fit(X, y)"
   ]
  },
  {
   "cell_type": "code",
   "execution_count": 107,
   "metadata": {},
   "outputs": [],
   "source": [
    "with open('RFC_MT_G4.pkl','wb') as f:\n",
    "    pickle.dump(model, f)"
   ]
  },
  {
   "cell_type": "code",
   "execution_count": 108,
   "metadata": {},
   "outputs": [
    {
     "name": "stdout",
     "output_type": "stream",
     "text": [
      "Accuracy for MT_G5 is 64.78\n"
     ]
    },
    {
     "data": {
      "text/plain": [
       "RandomForestClassifier()"
      ]
     },
     "execution_count": 108,
     "metadata": {},
     "output_type": "execute_result"
    }
   ],
   "source": [
    "dataframe = pd.read_csv('MT_G5.csv')\n",
    "X = dataframe.drop(columns=['RECRUITMENT_CAT','PATNO','EVENT_ID','PAG_NAME'],axis=1) \n",
    "y = dataframe['RECRUITMENT_CAT']\n",
    "\n",
    "X = ordinal.fit_transform(X)\n",
    "y = label_encoder.fit_transform(y)\n",
    "\n",
    "model = RandomForestClassifier()\n",
    "cv = RepeatedStratifiedKFold(n_splits=10, n_repeats=3, random_state=1)\n",
    "n_scores = cross_val_score(model, X, y, scoring='accuracy', cv=cv, n_jobs=-1, error_score='raise')\n",
    "\n",
    "print('Accuracy for MT_G5 is',round((100*mean(n_scores)),2))\n",
    "accs.append(100*mean(n_scores))\n",
    "model.fit(X, y)"
   ]
  },
  {
   "cell_type": "code",
   "execution_count": 109,
   "metadata": {},
   "outputs": [],
   "source": [
    "with open('RFC_MT_G5.pkl','wb') as f:\n",
    "    pickle.dump(model, f)"
   ]
  },
  {
   "cell_type": "code",
   "execution_count": 110,
   "metadata": {},
   "outputs": [
    {
     "name": "stdout",
     "output_type": "stream",
     "text": [
      "[90.34219495569185, 87.59508004089793, 82.48246585455888, 85.8117624787026, 63.246448695886905, 62.61324041811849, 77.48080808080807, 64.59535256410257, 64.77732793522267] \n",
      "\n",
      "Average accuracy of Random Forest Classifier is = 75.44\n"
     ]
    }
   ],
   "source": [
    "print(accs,\"\\n\")\n",
    "print('Average accuracy of Random Forest Classifier is =',round(mean(accs),2))"
   ]
  },
  {
   "cell_type": "markdown",
   "metadata": {},
   "source": [
    "***\n",
    "\n",
    "## LOGISTIC REGRESSION"
   ]
  },
  {
   "cell_type": "code",
   "execution_count": 156,
   "metadata": {},
   "outputs": [],
   "source": [
    "accs = []"
   ]
  },
  {
   "cell_type": "markdown",
   "metadata": {},
   "source": [
    "### PQ"
   ]
  },
  {
   "cell_type": "code",
   "execution_count": 77,
   "metadata": {},
   "outputs": [
    {
     "name": "stdout",
     "output_type": "stream",
     "text": [
      "Accuracy for PQ_G1 is 90.7\n"
     ]
    },
    {
     "data": {
      "text/plain": [
       "LogisticRegression()"
      ]
     },
     "execution_count": 77,
     "metadata": {},
     "output_type": "execute_result"
    }
   ],
   "source": [
    "dataframe = pd.read_csv('PQ_G1.csv')\n",
    "X = dataframe.drop(columns=['RECRUITMENT_CAT','PATNO','EVENT_ID','PAG_NAME_1','PAG_NAME_2','PAG_NAME_3','PAG_NAME_4'],axis=1) \n",
    "y = dataframe['RECRUITMENT_CAT']\n",
    "\n",
    "# datax = X.values\n",
    "# datay = y.values\n",
    "\n",
    "# X = datax.astype(str)\n",
    "# y = datay.astype(str)\n",
    "\n",
    "X = ordinal.fit_transform(X)\n",
    "y = label_encoder.fit_transform(y)\n",
    "\n",
    "X_train, X_test, y_train, y_test = train_test_split(X, y, test_size=0.2, random_state=1)\n",
    "\n",
    "model = LogisticRegression()\n",
    "model.fit(X_train, y_train)\n",
    "yhat = model.predict(X_test)\n",
    "\n",
    "accuracy = accuracy_score(y_test, yhat)\n",
    "print('Accuracy for PQ_G1 is',round((100*accuracy),2))\n",
    "# accs.append(accuracy)\n",
    "model.fit(X, y)"
   ]
  },
  {
   "cell_type": "code",
   "execution_count": 78,
   "metadata": {},
   "outputs": [],
   "source": [
    "with open('LR_PQ_G1.pkl','wb') as f:\n",
    "    pickle.dump(model, f)"
   ]
  },
  {
   "cell_type": "code",
   "execution_count": 13,
   "metadata": {},
   "outputs": [
    {
     "name": "stdout",
     "output_type": "stream",
     "text": [
      "Accuracy for PQ_G2 is 87.04\n"
     ]
    },
    {
     "data": {
      "text/plain": [
       "LogisticRegression()"
      ]
     },
     "execution_count": 13,
     "metadata": {},
     "output_type": "execute_result"
    }
   ],
   "source": [
    "dataframe = pd.read_csv('PQ_G2.csv')\n",
    "X = dataframe.drop(columns=['RECRUITMENT_CAT','PATNO','EVENT_ID','PAG_NAME_1','PAG_NAME_2'],axis=1) \n",
    "y = dataframe['RECRUITMENT_CAT']\n",
    "\n",
    "X = ordinal.fit_transform(X)\n",
    "y = label_encoder.fit_transform(y)\n",
    "\n",
    "X_train, X_test, y_train, y_test = train_test_split(X, y, test_size=0.2, random_state=1)\n",
    "\n",
    "model = LogisticRegression()\n",
    "model.fit(X_train, y_train)\n",
    "yhat = model.predict(X_test)\n",
    "\n",
    "accuracy = accuracy_score(y_test, yhat)\n",
    "print('Accuracy for PQ_G2 is',round((100*accuracy),2))\n",
    "accs.append(accuracy)\n",
    "model.fit(X, y)"
   ]
  },
  {
   "cell_type": "code",
   "execution_count": 14,
   "metadata": {},
   "outputs": [],
   "source": [
    "with open('LR_PQ_G2.pkl','wb') as f:\n",
    "    pickle.dump(model, f)"
   ]
  },
  {
   "cell_type": "code",
   "execution_count": 161,
   "metadata": {},
   "outputs": [
    {
     "name": "stdout",
     "output_type": "stream",
     "text": [
      "Accuracy for PQ_G3 is 77.91\n"
     ]
    },
    {
     "data": {
      "text/plain": [
       "LogisticRegression()"
      ]
     },
     "execution_count": 161,
     "metadata": {},
     "output_type": "execute_result"
    }
   ],
   "source": [
    "dataframe = pd.read_csv('PQ_G3.csv')\n",
    "X = dataframe.drop(columns=['RECRUITMENT_CAT','PATNO','EVENT_ID','PAG_NAME_1','PAG_NAME_2','PAG_NAME_3'],axis=1) \n",
    "y = dataframe['RECRUITMENT_CAT']\n",
    "\n",
    "X = ordinal.fit_transform(X)\n",
    "y = label_encoder.fit_transform(y)\n",
    "\n",
    "X_train, X_test, y_train, y_test = train_test_split(X, y, test_size=0.2, random_state=1)\n",
    "\n",
    "model = LogisticRegression()\n",
    "model.fit(X_train, y_train)\n",
    "yhat = model.predict(X_test)\n",
    "\n",
    "accuracy = accuracy_score(y_test, yhat)\n",
    "print('Accuracy for PQ_G3 is',round((100*accuracy),2))\n",
    "accs.append(accuracy)\n",
    "model.fit(X, y)"
   ]
  },
  {
   "cell_type": "code",
   "execution_count": 162,
   "metadata": {},
   "outputs": [],
   "source": [
    "with open('LR_PQ_G3.pkl','wb') as f:\n",
    "    pickle.dump(model, f)"
   ]
  },
  {
   "cell_type": "code",
   "execution_count": 163,
   "metadata": {},
   "outputs": [
    {
     "name": "stdout",
     "output_type": "stream",
     "text": [
      "Accuracy for PQ_G4 is 86.29\n"
     ]
    },
    {
     "data": {
      "text/plain": [
       "LogisticRegression()"
      ]
     },
     "execution_count": 163,
     "metadata": {},
     "output_type": "execute_result"
    }
   ],
   "source": [
    "dataframe = pd.read_csv('PQ_G4.csv')\n",
    "X = dataframe.drop(columns=['RECRUITMENT_CAT','PATNO','EVENT_ID','PAG_NAME'],axis=1) \n",
    "y = dataframe['RECRUITMENT_CAT']\n",
    "\n",
    "X = ordinal.fit_transform(X)\n",
    "y = label_encoder.fit_transform(y)\n",
    "\n",
    "X_train, X_test, y_train, y_test = train_test_split(X, y, test_size=0.2, random_state=1)\n",
    "\n",
    "model = LogisticRegression()\n",
    "model.fit(X_train, y_train)\n",
    "yhat = model.predict(X_test)\n",
    "\n",
    "accuracy = accuracy_score(y_test, yhat)\n",
    "print('Accuracy for PQ_G4 is',round((100*accuracy),2))\n",
    "accs.append(accuracy)\n",
    "model.fit(X, y)"
   ]
  },
  {
   "cell_type": "code",
   "execution_count": 164,
   "metadata": {},
   "outputs": [],
   "source": [
    "with open('LR_PQ_G4.pkl','wb') as f:\n",
    "    pickle.dump(model, f)"
   ]
  },
  {
   "cell_type": "markdown",
   "metadata": {},
   "source": [
    "***\n",
    "### MT"
   ]
  },
  {
   "cell_type": "code",
   "execution_count": 165,
   "metadata": {},
   "outputs": [
    {
     "name": "stdout",
     "output_type": "stream",
     "text": [
      "Accuracy for MT_G1 is 61.98\n"
     ]
    },
    {
     "data": {
      "text/plain": [
       "LogisticRegression()"
      ]
     },
     "execution_count": 165,
     "metadata": {},
     "output_type": "execute_result"
    }
   ],
   "source": [
    "dataframe = pd.read_csv('MT_G1.csv')\n",
    "X = dataframe.drop(columns=['RECRUITMENT_CAT','PATNO','EVENT_ID','PAG_NAME_1','PAG_NAME_2'],axis=1) \n",
    "y = dataframe['RECRUITMENT_CAT']\n",
    "\n",
    "X = ordinal.fit_transform(X)\n",
    "y = label_encoder.fit_transform(y)\n",
    "\n",
    "X_train, X_test, y_train, y_test = train_test_split(X, y, test_size=0.2, random_state=1)\n",
    "\n",
    "model = LogisticRegression()\n",
    "model.fit(X_train, y_train)\n",
    "yhat = model.predict(X_test)\n",
    "\n",
    "accuracy = accuracy_score(y_test, yhat)\n",
    "print('Accuracy for MT_G1 is',round((100*accuracy),2))\n",
    "accs.append(accuracy)\n",
    "model.fit(X, y)"
   ]
  },
  {
   "cell_type": "code",
   "execution_count": 166,
   "metadata": {},
   "outputs": [],
   "source": [
    "with open('LR_MT_G1.pkl','wb') as f:\n",
    "    pickle.dump(model, f)"
   ]
  },
  {
   "cell_type": "code",
   "execution_count": 167,
   "metadata": {},
   "outputs": [
    {
     "name": "stdout",
     "output_type": "stream",
     "text": [
      "Accuracy for MT_G2 is 62.65\n"
     ]
    },
    {
     "data": {
      "text/plain": [
       "LogisticRegression()"
      ]
     },
     "execution_count": 167,
     "metadata": {},
     "output_type": "execute_result"
    }
   ],
   "source": [
    "dataframe = pd.read_csv('MT_G2.csv')\n",
    "X = dataframe.drop(columns=['RECRUITMENT_CAT','PATNO','EVENT_ID','PAG_NAME_1','PAG_NAME_2'],axis=1) \n",
    "y = dataframe['RECRUITMENT_CAT']\n",
    "\n",
    "X = ordinal.fit_transform(X)\n",
    "y = label_encoder.fit_transform(y)\n",
    "\n",
    "X_train, X_test, y_train, y_test = train_test_split(X, y, test_size=0.2, random_state=1)\n",
    "\n",
    "model = LogisticRegression()\n",
    "model.fit(X_train, y_train)\n",
    "yhat = model.predict(X_test)\n",
    "\n",
    "accuracy = accuracy_score(y_test, yhat)\n",
    "print('Accuracy for MT_G2 is',round((100*accuracy),2))\n",
    "accs.append(accuracy)\n",
    "model.fit(X, y)"
   ]
  },
  {
   "cell_type": "code",
   "execution_count": 168,
   "metadata": {},
   "outputs": [],
   "source": [
    "with open('LR_MT_G2.pkl','wb') as f:\n",
    "    pickle.dump(model, f)"
   ]
  },
  {
   "cell_type": "code",
   "execution_count": 18,
   "metadata": {},
   "outputs": [
    {
     "name": "stdout",
     "output_type": "stream",
     "text": [
      "Accuracy for MT_G3 is 80.8\n"
     ]
    },
    {
     "ename": "NameError",
     "evalue": "name 'accs' is not defined",
     "output_type": "error",
     "traceback": [
      "\u001b[1;31m---------------------------------------------------------------------------\u001b[0m",
      "\u001b[1;31mNameError\u001b[0m                                 Traceback (most recent call last)",
      "\u001b[1;32m<ipython-input-18-8d696aa3648d>\u001b[0m in \u001b[0;36m<module>\u001b[1;34m\u001b[0m\n\u001b[0;32m     14\u001b[0m \u001b[0maccuracy\u001b[0m \u001b[1;33m=\u001b[0m \u001b[0maccuracy_score\u001b[0m\u001b[1;33m(\u001b[0m\u001b[0my_test\u001b[0m\u001b[1;33m,\u001b[0m \u001b[0myhat\u001b[0m\u001b[1;33m)\u001b[0m\u001b[1;33m\u001b[0m\u001b[1;33m\u001b[0m\u001b[0m\n\u001b[0;32m     15\u001b[0m \u001b[0mprint\u001b[0m\u001b[1;33m(\u001b[0m\u001b[1;34m'Accuracy for MT_G3 is'\u001b[0m\u001b[1;33m,\u001b[0m\u001b[0mround\u001b[0m\u001b[1;33m(\u001b[0m\u001b[1;33m(\u001b[0m\u001b[1;36m100\u001b[0m\u001b[1;33m*\u001b[0m\u001b[0maccuracy\u001b[0m\u001b[1;33m)\u001b[0m\u001b[1;33m,\u001b[0m\u001b[1;36m2\u001b[0m\u001b[1;33m)\u001b[0m\u001b[1;33m)\u001b[0m\u001b[1;33m\u001b[0m\u001b[1;33m\u001b[0m\u001b[0m\n\u001b[1;32m---> 16\u001b[1;33m \u001b[0maccs\u001b[0m\u001b[1;33m.\u001b[0m\u001b[0mappend\u001b[0m\u001b[1;33m(\u001b[0m\u001b[0maccuracy\u001b[0m\u001b[1;33m)\u001b[0m\u001b[1;33m\u001b[0m\u001b[1;33m\u001b[0m\u001b[0m\n\u001b[0m\u001b[0;32m     17\u001b[0m \u001b[0mmodel\u001b[0m\u001b[1;33m.\u001b[0m\u001b[0mfit\u001b[0m\u001b[1;33m(\u001b[0m\u001b[0mX\u001b[0m\u001b[1;33m,\u001b[0m \u001b[0my\u001b[0m\u001b[1;33m)\u001b[0m\u001b[1;33m\u001b[0m\u001b[1;33m\u001b[0m\u001b[0m\n",
      "\u001b[1;31mNameError\u001b[0m: name 'accs' is not defined"
     ]
    }
   ],
   "source": [
    "dataframe = pd.read_csv('MT_G3.csv')\n",
    "X = dataframe.drop(columns=['RECRUITMENT_CAT','PATNO','EVENT_ID','PAG_NAME_1','PAG_NAME_2'],axis=1) \n",
    "y = dataframe['RECRUITMENT_CAT']\n",
    "\n",
    "X = ordinal.fit_transform(X)\n",
    "y = label_encoder.fit_transform(y)\n",
    "\n",
    "X_train, X_test, y_train, y_test = train_test_split(X, y, test_size=0.2, random_state=1)\n",
    "\n",
    "model = LogisticRegression()\n",
    "model.fit(X_train, y_train)\n",
    "yhat = model.predict(X_test)\n",
    "\n",
    "accuracy = accuracy_score(y_test, yhat)\n",
    "print('Accuracy for MT_G3 is',round((100*accuracy),2))\n",
    "accs.append(accuracy)\n",
    "model.fit(X, y)"
   ]
  },
  {
   "cell_type": "code",
   "execution_count": 170,
   "metadata": {},
   "outputs": [],
   "source": [
    "with open('LR_MT_G3.pkl','wb') as f:\n",
    "    pickle.dump(model, f)"
   ]
  },
  {
   "cell_type": "code",
   "execution_count": 19,
   "metadata": {},
   "outputs": [
    {
     "name": "stdout",
     "output_type": "stream",
     "text": [
      "Accuracy for MT_G3 is 80.13\n"
     ]
    },
    {
     "ename": "NameError",
     "evalue": "name 'accs' is not defined",
     "output_type": "error",
     "traceback": [
      "\u001b[1;31m---------------------------------------------------------------------------\u001b[0m",
      "\u001b[1;31mNameError\u001b[0m                                 Traceback (most recent call last)",
      "\u001b[1;32m<ipython-input-19-bee71bea350a>\u001b[0m in \u001b[0;36m<module>\u001b[1;34m\u001b[0m\n\u001b[0;32m     14\u001b[0m \u001b[0maccuracy\u001b[0m \u001b[1;33m=\u001b[0m \u001b[0maccuracy_score\u001b[0m\u001b[1;33m(\u001b[0m\u001b[0my_test\u001b[0m\u001b[1;33m,\u001b[0m \u001b[0myhat\u001b[0m\u001b[1;33m)\u001b[0m\u001b[1;33m\u001b[0m\u001b[1;33m\u001b[0m\u001b[0m\n\u001b[0;32m     15\u001b[0m \u001b[0mprint\u001b[0m\u001b[1;33m(\u001b[0m\u001b[1;34m'Accuracy for MT_G3 is'\u001b[0m\u001b[1;33m,\u001b[0m\u001b[0mround\u001b[0m\u001b[1;33m(\u001b[0m\u001b[1;33m(\u001b[0m\u001b[1;36m100\u001b[0m\u001b[1;33m*\u001b[0m\u001b[0maccuracy\u001b[0m\u001b[1;33m)\u001b[0m\u001b[1;33m,\u001b[0m\u001b[1;36m2\u001b[0m\u001b[1;33m)\u001b[0m\u001b[1;33m)\u001b[0m\u001b[1;33m\u001b[0m\u001b[1;33m\u001b[0m\u001b[0m\n\u001b[1;32m---> 16\u001b[1;33m \u001b[0maccs\u001b[0m\u001b[1;33m.\u001b[0m\u001b[0mappend\u001b[0m\u001b[1;33m(\u001b[0m\u001b[0maccuracy\u001b[0m\u001b[1;33m)\u001b[0m\u001b[1;33m\u001b[0m\u001b[1;33m\u001b[0m\u001b[0m\n\u001b[0m\u001b[0;32m     17\u001b[0m \u001b[0mmodel\u001b[0m\u001b[1;33m.\u001b[0m\u001b[0mfit\u001b[0m\u001b[1;33m(\u001b[0m\u001b[0mX\u001b[0m\u001b[1;33m,\u001b[0m \u001b[0my\u001b[0m\u001b[1;33m)\u001b[0m\u001b[1;33m\u001b[0m\u001b[1;33m\u001b[0m\u001b[0m\n",
      "\u001b[1;31mNameError\u001b[0m: name 'accs' is not defined"
     ]
    }
   ],
   "source": [
    "dataframe = pd.read_csv('MT_G3_without_MOCA.csv')\n",
    "X = dataframe.drop(columns=['RECRUITMENT_CAT','PATNO','EVENT_ID','PAG_NAME_1'],axis=1) \n",
    "y = dataframe['RECRUITMENT_CAT']\n",
    "\n",
    "X = ordinal.fit_transform(X)\n",
    "y = label_encoder.fit_transform(y)\n",
    "\n",
    "X_train, X_test, y_train, y_test = train_test_split(X, y, test_size=0.2, random_state=1)\n",
    "\n",
    "model = LogisticRegression()\n",
    "model.fit(X_train, y_train)\n",
    "yhat = model.predict(X_test)\n",
    "\n",
    "accuracy = accuracy_score(y_test, yhat)\n",
    "print('Accuracy for MT_G3 is',round((100*accuracy),2))\n",
    "accs.append(accuracy)\n",
    "model.fit(X, y)"
   ]
  },
  {
   "cell_type": "code",
   "execution_count": 171,
   "metadata": {},
   "outputs": [
    {
     "name": "stdout",
     "output_type": "stream",
     "text": [
      "Accuracy for MT_G4 is 62.79\n"
     ]
    },
    {
     "data": {
      "text/plain": [
       "LogisticRegression()"
      ]
     },
     "execution_count": 171,
     "metadata": {},
     "output_type": "execute_result"
    }
   ],
   "source": [
    "dataframe = pd.read_csv('MT_G4.csv')\n",
    "X = dataframe.drop(columns=['RECRUITMENT_CAT','PATNO','EVENT_ID','PAG_NAME_1','PAG_NAME_2'],axis=1) \n",
    "y = dataframe['RECRUITMENT_CAT']\n",
    "\n",
    "datax = X.values\n",
    "datay = y.values\n",
    "X = datax.astype(str)\n",
    "y = datay.astype(str)\n",
    "    \n",
    "X = ordinal.fit_transform(X)\n",
    "y = label_encoder.fit_transform(y)\n",
    "\n",
    "X_train, X_test, y_train, y_test = train_test_split(X, y, test_size=0.2, random_state=1)\n",
    "\n",
    "model = LogisticRegression()\n",
    "model.fit(X_train, y_train)\n",
    "yhat = model.predict(X_test)\n",
    "\n",
    "accuracy = accuracy_score(y_test, yhat)\n",
    "print('Accuracy for MT_G4 is',round((100*accuracy),2))\n",
    "accs.append(accuracy)\n",
    "model.fit(X, y)"
   ]
  },
  {
   "cell_type": "code",
   "execution_count": 172,
   "metadata": {},
   "outputs": [],
   "source": [
    "with open('LR_MT_G4.pkl','wb') as f:\n",
    "    pickle.dump(model, f)"
   ]
  },
  {
   "cell_type": "code",
   "execution_count": 173,
   "metadata": {},
   "outputs": [
    {
     "name": "stdout",
     "output_type": "stream",
     "text": [
      "Accuracy for MT_G5 is 70.13\n"
     ]
    },
    {
     "data": {
      "text/plain": [
       "LogisticRegression()"
      ]
     },
     "execution_count": 173,
     "metadata": {},
     "output_type": "execute_result"
    }
   ],
   "source": [
    "dataframe = pd.read_csv('MT_G5.csv')\n",
    "X = dataframe.drop(columns=['RECRUITMENT_CAT','PATNO','EVENT_ID','PAG_NAME'],axis=1) \n",
    "y = dataframe['RECRUITMENT_CAT']\n",
    "\n",
    "X = ordinal.fit_transform(X)\n",
    "y = label_encoder.fit_transform(y)\n",
    "\n",
    "X_train, X_test, y_train, y_test = train_test_split(X, y, test_size=0.2, random_state=1)\n",
    "\n",
    "model = LogisticRegression()\n",
    "model.fit(X_train, y_train)\n",
    "yhat = model.predict(X_test)\n",
    "\n",
    "accuracy = accuracy_score(y_test, yhat)\n",
    "print('Accuracy for MT_G5 is',round((100*accuracy),2))\n",
    "accs.append(accuracy)\n",
    "model.fit(X, y)"
   ]
  },
  {
   "cell_type": "code",
   "execution_count": 174,
   "metadata": {},
   "outputs": [],
   "source": [
    "with open('LR_MT_G5.pkl','wb') as f:\n",
    "    pickle.dump(model, f)"
   ]
  },
  {
   "cell_type": "code",
   "execution_count": 175,
   "metadata": {},
   "outputs": [
    {
     "name": "stdout",
     "output_type": "stream",
     "text": [
      "[0.9039836567926456, 0.8765432098765432, 0.7790697674418605, 0.8629441624365483, 0.6197975253093363, 0.6265060240963856, 0.808, 0.627906976744186, 0.7012987012987013] \n",
      "\n",
      "Average accuracy of Logistic Regression is = 75.62\n"
     ]
    }
   ],
   "source": [
    "print(accs,\"\\n\")\n",
    "print('Average accuracy of Logistic Regression is =',round(100*mean(accs),2))"
   ]
  },
  {
   "cell_type": "markdown",
   "metadata": {},
   "source": [
    "***\n",
    "\n",
    "## LIGHTGBM CLASSIFIER"
   ]
  },
  {
   "cell_type": "code",
   "execution_count": 177,
   "metadata": {},
   "outputs": [],
   "source": [
    "accs = []"
   ]
  },
  {
   "cell_type": "markdown",
   "metadata": {},
   "source": [
    "### PQ"
   ]
  },
  {
   "cell_type": "code",
   "execution_count": 79,
   "metadata": {},
   "outputs": [
    {
     "name": "stdout",
     "output_type": "stream",
     "text": [
      "Accuracy for PQ_G1 is 91.15\n"
     ]
    },
    {
     "data": {
      "text/plain": [
       "LGBMClassifier()"
      ]
     },
     "execution_count": 79,
     "metadata": {},
     "output_type": "execute_result"
    }
   ],
   "source": [
    "dataframe = pd.read_csv('PQ_G1.csv')\n",
    "X = dataframe.drop(columns=['RECRUITMENT_CAT','PATNO','EVENT_ID','PAG_NAME_1','PAG_NAME_2','PAG_NAME_3','PAG_NAME_4'],axis=1) \n",
    "y = dataframe['RECRUITMENT_CAT']\n",
    "    \n",
    "X = ordinal.fit_transform(X)\n",
    "y = label_encoder.fit_transform(y)\n",
    "\n",
    "model = LGBMClassifier()\n",
    "cv = RepeatedStratifiedKFold(n_splits=10, n_repeats=3, random_state=1)\n",
    "n_scores = cross_val_score(model, X, y, scoring='accuracy', cv=cv, n_jobs=-1, error_score='raise')\n",
    "    \n",
    "print('Accuracy for PQ_G1 is',round((100*mean(n_scores)),2))\n",
    "# accs.append(mean(n_scores))\n",
    "model.fit(X, y)"
   ]
  },
  {
   "cell_type": "code",
   "execution_count": 81,
   "metadata": {},
   "outputs": [],
   "source": [
    "with open('LGBMC_PQ_G1.pkl','wb') as f:\n",
    "    pickle.dump(model, f)"
   ]
  },
  {
   "cell_type": "code",
   "execution_count": 15,
   "metadata": {},
   "outputs": [
    {
     "name": "stdout",
     "output_type": "stream",
     "text": [
      "Accuracy for PQ_G2 is 87.89\n"
     ]
    },
    {
     "data": {
      "text/plain": [
       "LGBMClassifier()"
      ]
     },
     "execution_count": 15,
     "metadata": {},
     "output_type": "execute_result"
    }
   ],
   "source": [
    "dataframe = pd.read_csv('PQ_G2.csv')\n",
    "X = dataframe.drop(columns=['RECRUITMENT_CAT','PATNO','EVENT_ID','PAG_NAME_1','PAG_NAME_2'],axis=1) \n",
    "y = dataframe['RECRUITMENT_CAT']\n",
    "\n",
    "X = ordinal.fit_transform(X)\n",
    "y = label_encoder.fit_transform(y)\n",
    "\n",
    "model = LGBMClassifier()\n",
    "cv = RepeatedStratifiedKFold(n_splits=10, n_repeats=3, random_state=1)\n",
    "n_scores = cross_val_score(model, X, y, scoring='accuracy', cv=cv, n_jobs=-1, error_score='raise')\n",
    "    \n",
    "print('Accuracy for PQ_G2 is',round((100*mean(n_scores)),2))\n",
    "accs.append(mean(n_scores))\n",
    "model.fit(X, y)"
   ]
  },
  {
   "cell_type": "code",
   "execution_count": 16,
   "metadata": {},
   "outputs": [],
   "source": [
    "with open('LGBMC_PQ_G2.pkl','wb') as f:\n",
    "    pickle.dump(model, f)"
   ]
  },
  {
   "cell_type": "code",
   "execution_count": 182,
   "metadata": {},
   "outputs": [
    {
     "name": "stdout",
     "output_type": "stream",
     "text": [
      "Accuracy for PQ_G3 is 83.49\n"
     ]
    },
    {
     "data": {
      "text/plain": [
       "LGBMClassifier()"
      ]
     },
     "execution_count": 182,
     "metadata": {},
     "output_type": "execute_result"
    }
   ],
   "source": [
    "dataframe = pd.read_csv('PQ_G3.csv')\n",
    "X = dataframe.drop(columns=['RECRUITMENT_CAT','PATNO','EVENT_ID','PAG_NAME_1','PAG_NAME_2','PAG_NAME_3'],axis=1) \n",
    "y = dataframe['RECRUITMENT_CAT']\n",
    "\n",
    "X = ordinal.fit_transform(X)\n",
    "y = label_encoder.fit_transform(y)\n",
    "\n",
    "model = LGBMClassifier()\n",
    "cv = RepeatedStratifiedKFold(n_splits=10, n_repeats=3, random_state=1)\n",
    "n_scores = cross_val_score(model, X, y, scoring='accuracy', cv=cv, n_jobs=-1, error_score='raise')\n",
    "    \n",
    "print('Accuracy for PQ_G3 is',round((100*mean(n_scores)),2))\n",
    "accs.append(mean(n_scores))\n",
    "model.fit(X, y)"
   ]
  },
  {
   "cell_type": "code",
   "execution_count": 183,
   "metadata": {},
   "outputs": [],
   "source": [
    "with open('LGBMC_PQ_G3.pkl','wb') as f:\n",
    "    pickle.dump(model, f)"
   ]
  },
  {
   "cell_type": "code",
   "execution_count": 184,
   "metadata": {},
   "outputs": [
    {
     "name": "stdout",
     "output_type": "stream",
     "text": [
      "Accuracy for PQ_G4 is 85.81\n"
     ]
    },
    {
     "data": {
      "text/plain": [
       "LGBMClassifier()"
      ]
     },
     "execution_count": 184,
     "metadata": {},
     "output_type": "execute_result"
    }
   ],
   "source": [
    "dataframe = pd.read_csv('PQ_G4.csv')\n",
    "X = dataframe.drop(columns=['RECRUITMENT_CAT','PATNO','EVENT_ID','PAG_NAME'],axis=1) \n",
    "y = dataframe['RECRUITMENT_CAT']\n",
    "\n",
    "X = ordinal.fit_transform(X)\n",
    "y = label_encoder.fit_transform(y)\n",
    "\n",
    "model = LGBMClassifier()\n",
    "cv = RepeatedStratifiedKFold(n_splits=10, n_repeats=3, random_state=1)\n",
    "n_scores = cross_val_score(model, X, y, scoring='accuracy', cv=cv, n_jobs=-1, error_score='raise')\n",
    "    \n",
    "print('Accuracy for PQ_G4 is',round((100*mean(n_scores)),2))\n",
    "accs.append(mean(n_scores))\n",
    "model.fit(X, y)"
   ]
  },
  {
   "cell_type": "code",
   "execution_count": 185,
   "metadata": {},
   "outputs": [],
   "source": [
    "with open('LGBMC_PQ_G4.pkl','wb') as f:\n",
    "    pickle.dump(model, f)"
   ]
  },
  {
   "cell_type": "markdown",
   "metadata": {},
   "source": [
    "***\n",
    "### MT"
   ]
  },
  {
   "cell_type": "code",
   "execution_count": 186,
   "metadata": {},
   "outputs": [
    {
     "name": "stdout",
     "output_type": "stream",
     "text": [
      "Accuracy for MT_G1 is 64.06\n"
     ]
    },
    {
     "data": {
      "text/plain": [
       "LGBMClassifier()"
      ]
     },
     "execution_count": 186,
     "metadata": {},
     "output_type": "execute_result"
    }
   ],
   "source": [
    "dataframe = pd.read_csv('MT_G1.csv')\n",
    "X = dataframe.drop(columns=['RECRUITMENT_CAT','PATNO','EVENT_ID','PAG_NAME_1','PAG_NAME_2'],axis=1) \n",
    "y = dataframe['RECRUITMENT_CAT']\n",
    "\n",
    "X = ordinal.fit_transform(X)\n",
    "y = label_encoder.fit_transform(y)\n",
    "\n",
    "model = LGBMClassifier()\n",
    "cv = RepeatedStratifiedKFold(n_splits=10, n_repeats=3, random_state=1)\n",
    "n_scores = cross_val_score(model, X, y, scoring='accuracy', cv=cv, n_jobs=-1, error_score='raise')\n",
    "    \n",
    "print('Accuracy for MT_G1 is',round((100*mean(n_scores)),2))\n",
    "accs.append(mean(n_scores))\n",
    "model.fit(X, y)"
   ]
  },
  {
   "cell_type": "code",
   "execution_count": 187,
   "metadata": {},
   "outputs": [],
   "source": [
    "with open('LGBMC_MT_G1.pkl','wb') as f:\n",
    "    pickle.dump(model, f)"
   ]
  },
  {
   "cell_type": "code",
   "execution_count": 188,
   "metadata": {},
   "outputs": [
    {
     "name": "stdout",
     "output_type": "stream",
     "text": [
      "Accuracy for MT_G2 is 57.7\n"
     ]
    },
    {
     "data": {
      "text/plain": [
       "LGBMClassifier()"
      ]
     },
     "execution_count": 188,
     "metadata": {},
     "output_type": "execute_result"
    }
   ],
   "source": [
    "dataframe = pd.read_csv('MT_G2.csv')\n",
    "X = dataframe.drop(columns=['RECRUITMENT_CAT','PATNO','EVENT_ID','PAG_NAME_1','PAG_NAME_2'],axis=1) \n",
    "y = dataframe['RECRUITMENT_CAT']\n",
    "\n",
    "X = ordinal.fit_transform(X)\n",
    "y = label_encoder.fit_transform(y)\n",
    "\n",
    "model = LGBMClassifier()\n",
    "cv = RepeatedStratifiedKFold(n_splits=10, n_repeats=3, random_state=1)\n",
    "n_scores = cross_val_score(model, X, y, scoring='accuracy', cv=cv, n_jobs=-1, error_score='raise')\n",
    "    \n",
    "print('Accuracy for MT_G2 is',round((100*mean(n_scores)),2))\n",
    "accs.append(mean(n_scores))\n",
    "model.fit(X, y)"
   ]
  },
  {
   "cell_type": "code",
   "execution_count": 189,
   "metadata": {},
   "outputs": [],
   "source": [
    "with open('LGBMC_MT_G2.pkl','wb') as f:\n",
    "    pickle.dump(model, f)"
   ]
  },
  {
   "cell_type": "code",
   "execution_count": 190,
   "metadata": {},
   "outputs": [
    {
     "name": "stdout",
     "output_type": "stream",
     "text": [
      "Accuracy for MT_G3 is 79.28\n"
     ]
    },
    {
     "data": {
      "text/plain": [
       "LGBMClassifier()"
      ]
     },
     "execution_count": 190,
     "metadata": {},
     "output_type": "execute_result"
    }
   ],
   "source": [
    "dataframe = pd.read_csv('MT_G3.csv')\n",
    "X = dataframe.drop(columns=['RECRUITMENT_CAT','PATNO','EVENT_ID','PAG_NAME_1','PAG_NAME_2'],axis=1) \n",
    "y = dataframe['RECRUITMENT_CAT']\n",
    "\n",
    "X = ordinal.fit_transform(X)\n",
    "y = label_encoder.fit_transform(y)\n",
    "\n",
    "model = LGBMClassifier()\n",
    "cv = RepeatedStratifiedKFold(n_splits=10, n_repeats=3, random_state=1)\n",
    "n_scores = cross_val_score(model, X, y, scoring='accuracy', cv=cv, n_jobs=-1, error_score='raise')\n",
    "    \n",
    "print('Accuracy for MT_G3 is',round((100*mean(n_scores)),2))\n",
    "accs.append(mean(n_scores))\n",
    "model.fit(X, y)"
   ]
  },
  {
   "cell_type": "code",
   "execution_count": 20,
   "metadata": {},
   "outputs": [
    {
     "name": "stdout",
     "output_type": "stream",
     "text": [
      "Accuracy for MT_G3 is 78.67\n"
     ]
    },
    {
     "ename": "NameError",
     "evalue": "name 'accs' is not defined",
     "output_type": "error",
     "traceback": [
      "\u001b[1;31m---------------------------------------------------------------------------\u001b[0m",
      "\u001b[1;31mNameError\u001b[0m                                 Traceback (most recent call last)",
      "\u001b[1;32m<ipython-input-20-28266306cf8e>\u001b[0m in \u001b[0;36m<module>\u001b[1;34m\u001b[0m\n\u001b[0;32m     11\u001b[0m \u001b[1;33m\u001b[0m\u001b[0m\n\u001b[0;32m     12\u001b[0m \u001b[0mprint\u001b[0m\u001b[1;33m(\u001b[0m\u001b[1;34m'Accuracy for MT_G3 is'\u001b[0m\u001b[1;33m,\u001b[0m\u001b[0mround\u001b[0m\u001b[1;33m(\u001b[0m\u001b[1;33m(\u001b[0m\u001b[1;36m100\u001b[0m\u001b[1;33m*\u001b[0m\u001b[0mmean\u001b[0m\u001b[1;33m(\u001b[0m\u001b[0mn_scores\u001b[0m\u001b[1;33m)\u001b[0m\u001b[1;33m)\u001b[0m\u001b[1;33m,\u001b[0m\u001b[1;36m2\u001b[0m\u001b[1;33m)\u001b[0m\u001b[1;33m)\u001b[0m\u001b[1;33m\u001b[0m\u001b[1;33m\u001b[0m\u001b[0m\n\u001b[1;32m---> 13\u001b[1;33m \u001b[0maccs\u001b[0m\u001b[1;33m.\u001b[0m\u001b[0mappend\u001b[0m\u001b[1;33m(\u001b[0m\u001b[0mmean\u001b[0m\u001b[1;33m(\u001b[0m\u001b[0mn_scores\u001b[0m\u001b[1;33m)\u001b[0m\u001b[1;33m)\u001b[0m\u001b[1;33m\u001b[0m\u001b[1;33m\u001b[0m\u001b[0m\n\u001b[0m\u001b[0;32m     14\u001b[0m \u001b[0mmodel\u001b[0m\u001b[1;33m.\u001b[0m\u001b[0mfit\u001b[0m\u001b[1;33m(\u001b[0m\u001b[0mX\u001b[0m\u001b[1;33m,\u001b[0m \u001b[0my\u001b[0m\u001b[1;33m)\u001b[0m\u001b[1;33m\u001b[0m\u001b[1;33m\u001b[0m\u001b[0m\n",
      "\u001b[1;31mNameError\u001b[0m: name 'accs' is not defined"
     ]
    }
   ],
   "source": [
    "dataframe = pd.read_csv('MT_G3_without_MOCA.csv')\n",
    "X = dataframe.drop(columns=['RECRUITMENT_CAT','PATNO','EVENT_ID','PAG_NAME_1'],axis=1) \n",
    "y = dataframe['RECRUITMENT_CAT']\n",
    "\n",
    "X = ordinal.fit_transform(X)\n",
    "y = label_encoder.fit_transform(y)\n",
    "\n",
    "model = LGBMClassifier()\n",
    "cv = RepeatedStratifiedKFold(n_splits=10, n_repeats=3, random_state=1)\n",
    "n_scores = cross_val_score(model, X, y, scoring='accuracy', cv=cv, n_jobs=-1, error_score='raise')\n",
    "    \n",
    "print('Accuracy for MT_G3 is',round((100*mean(n_scores)),2))\n",
    "accs.append(mean(n_scores))\n",
    "model.fit(X, y)"
   ]
  },
  {
   "cell_type": "code",
   "execution_count": 191,
   "metadata": {},
   "outputs": [],
   "source": [
    "with open('LGBMC_MT_G3.pkl','wb') as f:\n",
    "    pickle.dump(model, f)"
   ]
  },
  {
   "cell_type": "code",
   "execution_count": 195,
   "metadata": {},
   "outputs": [
    {
     "name": "stdout",
     "output_type": "stream",
     "text": [
      "Accuracy for MT_G4 is 62.64\n"
     ]
    },
    {
     "data": {
      "text/plain": [
       "LGBMClassifier()"
      ]
     },
     "execution_count": 195,
     "metadata": {},
     "output_type": "execute_result"
    }
   ],
   "source": [
    "dataframe = pd.read_csv('MT_G4.csv')\n",
    "X = dataframe.drop(columns=['RECRUITMENT_CAT','PATNO','EVENT_ID','PAG_NAME_1','PAG_NAME_2'],axis=1) \n",
    "y = dataframe['RECRUITMENT_CAT']\n",
    "\n",
    "datax = X.values\n",
    "datay = y.values\n",
    "\n",
    "X = datax.astype(str)\n",
    "y = datay.astype(str)\n",
    "\n",
    "X = ordinal.fit_transform(X)\n",
    "y = label_encoder.fit_transform(y)\n",
    "\n",
    "model = LGBMClassifier()\n",
    "cv = RepeatedStratifiedKFold(n_splits=10, n_repeats=3, random_state=1)\n",
    "n_scores = cross_val_score(model, X, y, scoring='accuracy', cv=cv, n_jobs=-1, error_score='raise')\n",
    "    \n",
    "print('Accuracy for MT_G4 is',round((100*mean(n_scores)),2))\n",
    "accs.append(mean(n_scores))\n",
    "model.fit(X, y)"
   ]
  },
  {
   "cell_type": "code",
   "execution_count": 196,
   "metadata": {},
   "outputs": [],
   "source": [
    "with open('LGBMC_MT_G4.pkl','wb') as f:\n",
    "    pickle.dump(model, f)"
   ]
  },
  {
   "cell_type": "code",
   "execution_count": 197,
   "metadata": {},
   "outputs": [
    {
     "name": "stdout",
     "output_type": "stream",
     "text": [
      "Accuracy for MT_G5 is 62.38\n"
     ]
    },
    {
     "data": {
      "text/plain": [
       "LGBMClassifier()"
      ]
     },
     "execution_count": 197,
     "metadata": {},
     "output_type": "execute_result"
    }
   ],
   "source": [
    "dataframe = pd.read_csv('MT_G5.csv')\n",
    "X = dataframe.drop(columns=['RECRUITMENT_CAT','PATNO','EVENT_ID','PAG_NAME'],axis=1) \n",
    "y = dataframe['RECRUITMENT_CAT']\n",
    "\n",
    "X = ordinal.fit_transform(X)\n",
    "y = label_encoder.fit_transform(y)\n",
    "\n",
    "model = LGBMClassifier()\n",
    "cv = RepeatedStratifiedKFold(n_splits=10, n_repeats=3, random_state=1)\n",
    "n_scores = cross_val_score(model, X, y, scoring='accuracy', cv=cv, n_jobs=-1, error_score='raise')\n",
    "    \n",
    "print('Accuracy for MT_G5 is',round((100*mean(n_scores)),2))\n",
    "accs.append(mean(n_scores))\n",
    "model.fit(X, y)"
   ]
  },
  {
   "cell_type": "code",
   "execution_count": 198,
   "metadata": {},
   "outputs": [],
   "source": [
    "with open('LGBMC_MT_G5.pkl','wb') as f:\n",
    "    pickle.dump(model, f)"
   ]
  },
  {
   "cell_type": "code",
   "execution_count": 199,
   "metadata": {},
   "outputs": [
    {
     "name": "stdout",
     "output_type": "stream",
     "text": [
      "[0.9130210202690482, 0.8838532558104046, 0.834939091915836, 0.858117624787026, 0.6405623038769105, 0.5770034843205575, 0.792774569221628, 0.6263621794871795, 0.623774179037337] \n",
      "\n",
      "Average accuracy of LGBMClassifier is = 75.0\n"
     ]
    }
   ],
   "source": [
    "print(accs,\"\\n\")\n",
    "print('Average accuracy of LGBMClassifier is =',round(100*mean(accs),2))"
   ]
  },
  {
   "cell_type": "markdown",
   "metadata": {},
   "source": [
    "***"
   ]
  },
  {
   "cell_type": "code",
   "execution_count": 60,
   "metadata": {},
   "outputs": [
    {
     "name": "stdout",
     "output_type": "stream",
     "text": [
      "Accuracy for voice is 87.5\n",
      "F1 for voice is 86.82\n"
     ]
    }
   ],
   "source": [
    "# VOICE\n",
    "\n",
    "dataframe = pd.read_csv('voice_data.csv')\n",
    "X = dataframe.drop(columns=['LABEL','NAME'],axis=1) \n",
    "y = dataframe['LABEL']\n",
    "\n",
    "# X = ordinal.fit_transform(X)\n",
    "y = label_encoder.fit_transform(y)\n",
    "\n",
    "X_train, X_test, y_train, y_test = train_test_split(X, y, test_size=0.2, random_state=0)\n",
    "\n",
    "model = RandomForestClassifier()\n",
    "# model = XGBClassifier(\"binary:logistic\")\n",
    "model.fit(X_train, y_train)\n",
    "yhat = model.predict(X_test)\n",
    "\n",
    "accuracy = accuracy_score(y_test, yhat)\n",
    "f1 = f1_score(y_test, yhat, average='weighted')\n",
    "\n",
    "# model = XGBClassifier(\"binary:logistic\")\n",
    "# model = ExtraTreesClassifier()\n",
    "# cv = RepeatedStratifiedKFold(n_splits=10, n_repeats=3, random_state=1)\n",
    "# n_scores = cross_val_score(model, X, y, scoring='accuracy', cv=cv, n_jobs=-1, error_score='raise')\n",
    "\n",
    "\n",
    "print('Accuracy for voice is',round((100*accuracy),2))\n",
    "print('F1 for voice is',round((100*f1),2))\n",
    "\n"
   ]
  },
  {
   "cell_type": "code",
   "execution_count": 63,
   "metadata": {},
   "outputs": [],
   "source": [
    "with open('D:/Capstone/PD/pickles/RFC_voice.pkl','wb') as f:\n",
    "    pickle.dump(model, f)"
   ]
  },
  {
   "cell_type": "code",
   "execution_count": 64,
   "metadata": {},
   "outputs": [
    {
     "data": {
      "text/plain": [
       "array([[0.62, 0.38]])"
      ]
     },
     "execution_count": 64,
     "metadata": {},
     "output_type": "execute_result"
    }
   ],
   "source": [
    "m = pickle.load(open('D:/Capstone/PD/pickles/RFC_voice.pkl','rb'))\n",
    "m.predict_proba([[1.36772336e+02,  4.68587080e-01,  9.37351580e-03,  4.45734843e+03,\n",
    "   4.91452732e+03,  9.32392813e+03,  8.85596544e-02, -4.98140049e+02,\n",
    "   9.02888967e+01,  2.18731092e+01 , 2.05014472e+01,  8.96932077e+00,\n",
    "   5.97570978e+00, -1.38623387e+00  ,3.77005907e+00, -1.91194765e+00,\n",
    "   4.89225148e+00, -1.88407206e+00 ,-4.85696883e+00, -1.57895519e+00,\n",
    "  -1.84517963e+00, -6.29463955e+00 , 1.48254283e+00,  2.59970031e+00,\n",
    "  -2.09990854e+00, -1.68728976e+00 ,-1.33164259e+00]])"
   ]
  },
  {
   "cell_type": "code",
   "execution_count": 54,
   "metadata": {},
   "outputs": [],
   "source": [
    "import csv \n",
    "import os\n",
    "import soundfile as sf\n",
    "import io\n",
    "import librosa\n",
    "import numpy as np\n",
    "header = 'NAME DUR CHROMA_SFFT RMSE S_CEN S_BW ROLLOFF ZCR'\n",
    "\n",
    "for i in range(1, 21):\n",
    "    header += f' MFCC{i}'\n",
    "header += ' LABEL'\n",
    "header = header.split()\n",
    "\n",
    "file = open('voice_data.csv', 'w', newline='')\n",
    "\n",
    "with file:\n",
    "    writer = csv.writer(file)\n",
    "    writer.writerow(header)\n",
    "\n",
    "target = 'PD HC'.split()\n",
    "\n",
    "for t in target:\n",
    "    \n",
    "    for filename in os.listdir(f'D:/Capstone/26-29_09_2017_KCL/ReadText/{t}'):\n",
    "        audio_name = f'D:/Capstone/26-29_09_2017_KCL/ReadText/{t}/{filename}'\n",
    "\n",
    "        y, sr = sf.read(audio_name)\n",
    "#         y, sr = librosa.load(audio_name)\n",
    "\n",
    "        # EXTRACT VOICE FEATURES\n",
    "        duration = librosa.get_duration(y=y,sr=sr)\n",
    "        rmse = librosa.feature.rms(y=y)\n",
    "        chroma_stft = librosa.feature.chroma_stft(y=y, sr=sr)\n",
    "        spec_cent = librosa.feature.spectral_centroid(y=y, sr=sr)\n",
    "        spec_bw = librosa.feature.spectral_bandwidth(y=y, sr=sr)\n",
    "        rolloff = librosa.feature.spectral_rolloff(y=y, sr=sr)\n",
    "        zcr = librosa.feature.zero_crossing_rate(y)\n",
    "        mfcc = librosa.feature.mfcc(y=y, sr=sr)\n",
    "        to_append = f'{filename} {duration} {np.mean(chroma_stft)} {np.mean(rmse)} {np.mean(spec_cent)} {np.mean(spec_bw)} {np.mean(rolloff)} {np.mean(zcr)}' \n",
    "        for e in mfcc:\n",
    "            to_append += f' {np.mean(e)}'\n",
    "        to_append += f' {t}'\n",
    "\n",
    "        file = open('voice_data.csv', 'a', newline='')\n",
    "        \n",
    "        with file:\n",
    "            writer = csv.writer(file)\n",
    "            writer.writerow(to_append.split())"
   ]
  },
  {
   "cell_type": "code",
   "execution_count": 55,
   "metadata": {},
   "outputs": [
    {
     "data": {
      "text/plain": [
       "(array([0.        , 0.        , 0.        , ..., 0.00024414, 0.00045776,\n",
       "        0.00021362]),\n",
       " 44100)"
      ]
     },
     "execution_count": 55,
     "metadata": {},
     "output_type": "execute_result"
    }
   ],
   "source": [
    "y,sr"
   ]
  },
  {
   "cell_type": "code",
   "execution_count": null,
   "metadata": {},
   "outputs": [],
   "source": []
  }
 ],
 "metadata": {
  "kernelspec": {
   "display_name": "Python 3",
   "language": "python",
   "name": "python3"
  },
  "language_info": {
   "codemirror_mode": {
    "name": "ipython",
    "version": 3
   },
   "file_extension": ".py",
   "mimetype": "text/x-python",
   "name": "python",
   "nbconvert_exporter": "python",
   "pygments_lexer": "ipython3",
   "version": "3.8.8"
  }
 },
 "nbformat": 4,
 "nbformat_minor": 4
}
