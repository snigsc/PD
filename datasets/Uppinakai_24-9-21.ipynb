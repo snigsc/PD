{
 "cells": [
  {
   "cell_type": "markdown",
   "metadata": {},
   "source": [
    "# SUMMARY:\n",
    "\n",
    "- File was made on 24/9/21, for Review 2\n",
    "- Contains F1 scores and model.fit(X,y) for pickles\n",
    "- Runs Extra Trees Classifier on Voice Dataset at the end\n",
    "***"
   ]
  },
  {
   "cell_type": "code",
   "execution_count": 1,
   "metadata": {},
   "outputs": [],
   "source": [
    "from sklearn.feature_selection import RFE\n",
    "from sklearn.pipeline import Pipeline\n",
    "from sklearn import preprocessing\n",
    "\n",
    "from sklearn.preprocessing import OneHotEncoder\n",
    "from sklearn.preprocessing import LabelEncoder\n",
    "from sklearn.preprocessing import OrdinalEncoder\n",
    "\n",
    "from numpy import mean\n",
    "from sklearn.model_selection import cross_val_score\n",
    "from sklearn.model_selection import RepeatedStratifiedKFold\n",
    "from sklearn.model_selection import RepeatedKFold\n",
    "from sklearn.metrics import accuracy_score\n",
    "from sklearn.metrics import f1_score\n",
    "from sklearn.metrics import precision_score\n",
    "from sklearn.metrics import recall_score\n",
    "\n",
    "from sklearn.tree import DecisionTreeClassifier\n",
    "from sklearn.ensemble import ExtraTreesClassifier\n",
    "from lightgbm import LGBMClassifier\n",
    "from xgboost import XGBClassifier\n",
    "from sklearn.ensemble import RandomForestClassifier\n",
    "\n",
    "import pickle\n",
    "\n",
    "import warnings\n",
    "warnings.filterwarnings('ignore')"
   ]
  },
  {
   "cell_type": "code",
   "execution_count": 2,
   "metadata": {},
   "outputs": [],
   "source": [
    "onehot_encoder = OneHotEncoder()\n",
    "label_encoder = LabelEncoder()\n",
    "ordinal = OrdinalEncoder()"
   ]
  },
  {
   "cell_type": "markdown",
   "metadata": {},
   "source": [
    "***\n",
    "## EXTRA TREES CLASSIFIER"
   ]
  },
  {
   "cell_type": "markdown",
   "metadata": {},
   "source": [
    "### PQ"
   ]
  },
  {
   "cell_type": "code",
   "execution_count": 3,
   "metadata": {},
   "outputs": [
    {
     "data": {
      "application/javascript": [
       "\n",
       "        if (window._pyforest_update_imports_cell) { window._pyforest_update_imports_cell('import pandas as pd'); }\n",
       "    "
      ],
      "text/plain": [
       "<IPython.core.display.Javascript object>"
      ]
     },
     "metadata": {},
     "output_type": "display_data"
    },
    {
     "name": "stdout",
     "output_type": "stream",
     "text": [
      "Accuracy for PQ_G1 is 92.4\n",
      "F1 score for PQ_G1 is 0.92\n"
     ]
    },
    {
     "data": {
      "text/plain": [
       "ExtraTreesClassifier()"
      ]
     },
     "execution_count": 3,
     "metadata": {},
     "output_type": "execute_result"
    }
   ],
   "source": [
    "dataframe = pd.read_csv('PQ_G1.csv')\n",
    "X = dataframe.drop(columns=['RECRUITMENT_CAT','PATNO','EVENT_ID','PAG_NAME_1','PAG_NAME_2','PAG_NAME_3','PAG_NAME_4'],axis=1) \n",
    "y = dataframe['RECRUITMENT_CAT']\n",
    "\n",
    "X = ordinal.fit_transform(X)\n",
    "y = label_encoder.fit_transform(y)\n",
    "\n",
    "cv_accs = []\n",
    "cv_f1 = []\n",
    "cv_models = []\n",
    "\n",
    "cv = RepeatedStratifiedKFold(n_splits=10, n_repeats=3, random_state=1)\n",
    "\n",
    "for train_index, test_index in cv.split(X, y):\n",
    "    X_train, X_test = X[train_index], X[test_index]\n",
    "    y_train, y_test = y[train_index], y[test_index]\n",
    "    model = ExtraTreesClassifier()\n",
    "    model.fit(X_train, y_train)\n",
    "    cv_models.append(model)\n",
    "    yhat = model.predict(X_test)\n",
    "\n",
    "    accuracy = accuracy_score(y_test, yhat)\n",
    "    cv_accs.append(accuracy)\n",
    "    \n",
    "    f1 = f1_score(y_test, yhat,average='weighted')\n",
    "    cv_f1.append(f1)\n",
    "\n",
    "print('Accuracy for PQ_G1 is',round((100*mean(cv_accs)),2))\n",
    "print('F1 score for PQ_G1 is',round(mean(cv_f1),2))\n",
    "\n",
    "model.fit(X, y)"
   ]
  },
  {
   "cell_type": "code",
   "execution_count": 4,
   "metadata": {},
   "outputs": [],
   "source": [
    "with open('ETC_PQ_G1.pkl','wb') as f:\n",
    "    pickle.dump(model, f)"
   ]
  },
  {
   "cell_type": "code",
   "execution_count": 6,
   "metadata": {},
   "outputs": [
    {
     "data": {
      "application/javascript": [
       "\n",
       "        if (window._pyforest_update_imports_cell) { window._pyforest_update_imports_cell('import pandas as pd'); }\n",
       "    "
      ],
      "text/plain": [
       "<IPython.core.display.Javascript object>"
      ]
     },
     "metadata": {},
     "output_type": "display_data"
    },
    {
     "name": "stdout",
     "output_type": "stream",
     "text": [
      "Accuracy for PQ_G2 is 86.41\n",
      "F1 score for PQ_G2 is 0.86\n"
     ]
    },
    {
     "data": {
      "text/plain": [
       "ExtraTreesClassifier()"
      ]
     },
     "execution_count": 6,
     "metadata": {},
     "output_type": "execute_result"
    }
   ],
   "source": [
    "dataframe = pd.read_csv('PQ_G2.csv')\n",
    "X = dataframe.drop(columns=['RECRUITMENT_CAT','PATNO','EVENT_ID','PAG_NAME_1','PAG_NAME_2'],axis=1) \n",
    "y = dataframe['RECRUITMENT_CAT']\n",
    "\n",
    "X = ordinal.fit_transform(X)\n",
    "y = label_encoder.fit_transform(y)\n",
    "\n",
    "cv_accs = []\n",
    "cv_f1 = []\n",
    "\n",
    "cv = RepeatedStratifiedKFold(n_splits=10, n_repeats=3, random_state=1)\n",
    "\n",
    "for train_index, test_index in cv.split(X, y):\n",
    "    X_train, X_test = X[train_index], X[test_index]\n",
    "    y_train, y_test = y[train_index], y[test_index]\n",
    "    model = ExtraTreesClassifier()\n",
    "    model.fit(X_train, y_train)\n",
    "    yhat = model.predict(X_test)\n",
    "\n",
    "    accuracy = accuracy_score(y_test, yhat)\n",
    "    cv_accs.append(accuracy)\n",
    "    \n",
    "    f1 = f1_score(y_test, yhat,average='weighted')\n",
    "    cv_f1.append(f1)\n",
    "\n",
    "print('Accuracy for PQ_G2 is',round((100*mean(cv_accs)),2))\n",
    "print('F1 score for PQ_G2 is',round(mean(cv_f1),2))\n",
    "\n",
    "model.fit(X, y)"
   ]
  },
  {
   "cell_type": "code",
   "execution_count": 7,
   "metadata": {},
   "outputs": [],
   "source": [
    "with open('ETC_PQ_G2.pkl','wb') as f:\n",
    "    pickle.dump(model, f)"
   ]
  },
  {
   "cell_type": "code",
   "execution_count": 8,
   "metadata": {},
   "outputs": [
    {
     "data": {
      "application/javascript": [
       "\n",
       "        if (window._pyforest_update_imports_cell) { window._pyforest_update_imports_cell('import pandas as pd'); }\n",
       "    "
      ],
      "text/plain": [
       "<IPython.core.display.Javascript object>"
      ]
     },
     "metadata": {},
     "output_type": "display_data"
    },
    {
     "name": "stdout",
     "output_type": "stream",
     "text": [
      "Accuracy for PQ_G3 is 81.0\n",
      "F1 score for PQ_G3 is 0.8\n"
     ]
    },
    {
     "data": {
      "text/plain": [
       "ExtraTreesClassifier()"
      ]
     },
     "execution_count": 8,
     "metadata": {},
     "output_type": "execute_result"
    }
   ],
   "source": [
    "dataframe = pd.read_csv('PQ_G3.csv')\n",
    "X = dataframe.drop(columns=['RECRUITMENT_CAT','PATNO','EVENT_ID','PAG_NAME_1','PAG_NAME_2','PAG_NAME_3'],axis=1) \n",
    "y = dataframe['RECRUITMENT_CAT']\n",
    "\n",
    "X = ordinal.fit_transform(X)\n",
    "y = label_encoder.fit_transform(y)\n",
    "\n",
    "cv_accs = []\n",
    "cv_f1 = []\n",
    "\n",
    "cv = RepeatedStratifiedKFold(n_splits=10, n_repeats=3, random_state=1)\n",
    "\n",
    "for train_index, test_index in cv.split(X, y):\n",
    "    X_train, X_test = X[train_index], X[test_index]\n",
    "    y_train, y_test = y[train_index], y[test_index]\n",
    "    model = ExtraTreesClassifier()\n",
    "    model.fit(X_train, y_train)\n",
    "    yhat = model.predict(X_test)\n",
    "\n",
    "    accuracy = accuracy_score(y_test, yhat)\n",
    "    cv_accs.append(accuracy)\n",
    "    \n",
    "    f1 = f1_score(y_test, yhat,average='weighted')\n",
    "    cv_f1.append(f1)\n",
    "\n",
    "print('Accuracy for PQ_G3 is',round((100*mean(cv_accs)),2))\n",
    "print('F1 score for PQ_G3 is',round(mean(cv_f1),2))\n",
    "\n",
    "model.fit(X, y)"
   ]
  },
  {
   "cell_type": "code",
   "execution_count": 9,
   "metadata": {},
   "outputs": [],
   "source": [
    "with open('ETC_PQ_G3.pkl','wb') as f:\n",
    "    pickle.dump(model, f)"
   ]
  },
  {
   "cell_type": "code",
   "execution_count": 10,
   "metadata": {},
   "outputs": [
    {
     "data": {
      "application/javascript": [
       "\n",
       "        if (window._pyforest_update_imports_cell) { window._pyforest_update_imports_cell('import pandas as pd'); }\n",
       "    "
      ],
      "text/plain": [
       "<IPython.core.display.Javascript object>"
      ]
     },
     "metadata": {},
     "output_type": "display_data"
    },
    {
     "name": "stdout",
     "output_type": "stream",
     "text": [
      "Accuracy for PQ_G4 is 85.81\n",
      "F1 score for PQ_G4 is 0.79\n"
     ]
    },
    {
     "data": {
      "text/plain": [
       "ExtraTreesClassifier()"
      ]
     },
     "execution_count": 10,
     "metadata": {},
     "output_type": "execute_result"
    }
   ],
   "source": [
    "dataframe = pd.read_csv('PQ_G4.csv')\n",
    "X = dataframe.drop(columns=['RECRUITMENT_CAT','PATNO','EVENT_ID','PAG_NAME'],axis=1) \n",
    "y = dataframe['RECRUITMENT_CAT']\n",
    "\n",
    "X = ordinal.fit_transform(X)\n",
    "y = label_encoder.fit_transform(y)\n",
    "\n",
    "cv_accs = []\n",
    "cv_f1 = []\n",
    "\n",
    "cv = RepeatedStratifiedKFold(n_splits=10, n_repeats=3, random_state=1)\n",
    "\n",
    "for train_index, test_index in cv.split(X, y):\n",
    "    X_train, X_test = X[train_index], X[test_index]\n",
    "    y_train, y_test = y[train_index], y[test_index]\n",
    "    model = ExtraTreesClassifier()\n",
    "    model.fit(X_train, y_train)\n",
    "    yhat = model.predict(X_test)\n",
    "\n",
    "    accuracy = accuracy_score(y_test, yhat)\n",
    "    cv_accs.append(accuracy)\n",
    "    \n",
    "    f1 = f1_score(y_test, yhat,average='weighted')\n",
    "    cv_f1.append(f1)\n",
    "\n",
    "print('Accuracy for PQ_G4 is',round((100*mean(cv_accs)),2))\n",
    "print('F1 score for PQ_G4 is',round(mean(cv_f1),2))\n",
    "\n",
    "model.fit(X, y)"
   ]
  },
  {
   "cell_type": "code",
   "execution_count": 11,
   "metadata": {},
   "outputs": [],
   "source": [
    "with open('ETC_PQ_G4.pkl','wb') as f:\n",
    "    pickle.dump(model, f)"
   ]
  },
  {
   "cell_type": "markdown",
   "metadata": {},
   "source": [
    "***\n",
    "### MT"
   ]
  },
  {
   "cell_type": "code",
   "execution_count": 12,
   "metadata": {},
   "outputs": [
    {
     "data": {
      "application/javascript": [
       "\n",
       "        if (window._pyforest_update_imports_cell) { window._pyforest_update_imports_cell('import pandas as pd'); }\n",
       "    "
      ],
      "text/plain": [
       "<IPython.core.display.Javascript object>"
      ]
     },
     "metadata": {},
     "output_type": "display_data"
    },
    {
     "name": "stdout",
     "output_type": "stream",
     "text": [
      "Accuracy for MT_G1 is 62.53\n",
      "F1 score for MT_G1 is 0.58\n"
     ]
    },
    {
     "data": {
      "text/plain": [
       "ExtraTreesClassifier()"
      ]
     },
     "execution_count": 12,
     "metadata": {},
     "output_type": "execute_result"
    }
   ],
   "source": [
    "dataframe = pd.read_csv('MT_G1.csv')\n",
    "X = dataframe.drop(columns=['Unnamed: 0','RECRUITMENT_CAT','PATNO','EVENT_ID','PAG_NAME_1','PAG_NAME_2'],axis=1) \n",
    "y = dataframe['RECRUITMENT_CAT']\n",
    "\n",
    "X = ordinal.fit_transform(X)\n",
    "y = label_encoder.fit_transform(y)\n",
    "\n",
    "cv_accs = []\n",
    "cv_f1 = []\n",
    "\n",
    "cv = RepeatedStratifiedKFold(n_splits=10, n_repeats=3, random_state=1)\n",
    "\n",
    "for train_index, test_index in cv.split(X, y):\n",
    "    X_train, X_test = X[train_index], X[test_index]\n",
    "    y_train, y_test = y[train_index], y[test_index]\n",
    "    model = ExtraTreesClassifier()\n",
    "    model.fit(X_train, y_train)\n",
    "    yhat = model.predict(X_test)\n",
    "\n",
    "    accuracy = accuracy_score(y_test, yhat)\n",
    "    cv_accs.append(accuracy)\n",
    "    \n",
    "    f1 = f1_score(y_test, yhat,average='weighted')\n",
    "    cv_f1.append(f1)\n",
    "\n",
    "print('Accuracy for MT_G1 is',round((100*mean(cv_accs)),2))\n",
    "print('F1 score for MT_G1 is',round(mean(cv_f1),2))\n",
    "\n",
    "model.fit(X, y)"
   ]
  },
  {
   "cell_type": "code",
   "execution_count": 13,
   "metadata": {},
   "outputs": [],
   "source": [
    "with open('ETC_MT_G1.pkl','wb') as f:\n",
    "    pickle.dump(model, f)"
   ]
  },
  {
   "cell_type": "code",
   "execution_count": 14,
   "metadata": {},
   "outputs": [
    {
     "data": {
      "application/javascript": [
       "\n",
       "        if (window._pyforest_update_imports_cell) { window._pyforest_update_imports_cell('import pandas as pd'); }\n",
       "    "
      ],
      "text/plain": [
       "<IPython.core.display.Javascript object>"
      ]
     },
     "metadata": {},
     "output_type": "display_data"
    },
    {
     "name": "stdout",
     "output_type": "stream",
     "text": [
      "Accuracy for MT_G2 is 60.27\n",
      "F1 score for MT_G2 is 0.57\n"
     ]
    },
    {
     "data": {
      "text/plain": [
       "ExtraTreesClassifier()"
      ]
     },
     "execution_count": 14,
     "metadata": {},
     "output_type": "execute_result"
    }
   ],
   "source": [
    "dataframe = pd.read_csv('MT_G2.csv')\n",
    "X = dataframe.drop(columns=['Unnamed: 0','RECRUITMENT_CAT','PATNO','EVENT_ID','PAG_NAME_1','PAG_NAME_2'],axis=1) \n",
    "y = dataframe['RECRUITMENT_CAT']\n",
    "\n",
    "X = ordinal.fit_transform(X)\n",
    "y = label_encoder.fit_transform(y)\n",
    "\n",
    "cv_accs = []\n",
    "cv_f1 = []\n",
    "\n",
    "cv = RepeatedStratifiedKFold(n_splits=10, n_repeats=3, random_state=1)\n",
    "\n",
    "for train_index, test_index in cv.split(X, y):\n",
    "    X_train, X_test = X[train_index], X[test_index]\n",
    "    y_train, y_test = y[train_index], y[test_index]\n",
    "    model = ExtraTreesClassifier()\n",
    "    model.fit(X_train, y_train)\n",
    "    yhat = model.predict(X_test)\n",
    "\n",
    "    accuracy = accuracy_score(y_test, yhat)\n",
    "    cv_accs.append(accuracy)\n",
    "    \n",
    "    f1 = f1_score(y_test, yhat,average='weighted')\n",
    "    cv_f1.append(f1)\n",
    "\n",
    "print('Accuracy for MT_G2 is',round((100*mean(cv_accs)),2))\n",
    "print('F1 score for MT_G2 is',round(mean(cv_f1),2))\n",
    "\n",
    "model.fit(X, y)"
   ]
  },
  {
   "cell_type": "code",
   "execution_count": 15,
   "metadata": {},
   "outputs": [],
   "source": [
    "with open('ETC_MT_G2.pkl','wb') as f:\n",
    "    pickle.dump(model, f)"
   ]
  },
  {
   "cell_type": "code",
   "execution_count": 16,
   "metadata": {},
   "outputs": [
    {
     "data": {
      "application/javascript": [
       "\n",
       "        if (window._pyforest_update_imports_cell) { window._pyforest_update_imports_cell('import pandas as pd'); }\n",
       "    "
      ],
      "text/plain": [
       "<IPython.core.display.Javascript object>"
      ]
     },
     "metadata": {},
     "output_type": "display_data"
    },
    {
     "name": "stdout",
     "output_type": "stream",
     "text": [
      "Accuracy for MT_G3 is 76.39\n",
      "F1 score for MT_G3 is 0.75\n"
     ]
    },
    {
     "data": {
      "text/plain": [
       "ExtraTreesClassifier()"
      ]
     },
     "execution_count": 16,
     "metadata": {},
     "output_type": "execute_result"
    }
   ],
   "source": [
    "dataframe = pd.read_csv('MT_G3.csv')\n",
    "X = dataframe.drop(columns=['Unnamed: 0','RECRUITMENT_CAT','PATNO','EVENT_ID','PAG_NAME_1','PAG_NAME_2'],axis=1) \n",
    "y = dataframe['RECRUITMENT_CAT']\n",
    "\n",
    "X = ordinal.fit_transform(X)\n",
    "y = label_encoder.fit_transform(y)\n",
    "\n",
    "cv_accs = []\n",
    "cv_f1 = []\n",
    "\n",
    "cv = RepeatedStratifiedKFold(n_splits=10, n_repeats=3, random_state=1)\n",
    "\n",
    "for train_index, test_index in cv.split(X, y):\n",
    "    X_train, X_test = X[train_index], X[test_index]\n",
    "    y_train, y_test = y[train_index], y[test_index]\n",
    "    model = ExtraTreesClassifier()\n",
    "    model.fit(X_train, y_train)\n",
    "    yhat = model.predict(X_test)\n",
    "\n",
    "    accuracy = accuracy_score(y_test, yhat)\n",
    "    cv_accs.append(accuracy)\n",
    "    \n",
    "    f1 = f1_score(y_test, yhat,average='weighted')\n",
    "    cv_f1.append(f1)\n",
    "\n",
    "print('Accuracy for MT_G3 is',round((100*mean(cv_accs)),2))\n",
    "print('F1 score for MT_G3 is',round(mean(cv_f1),2))\n",
    "\n",
    "model.fit(X, y)"
   ]
  },
  {
   "cell_type": "code",
   "execution_count": 17,
   "metadata": {},
   "outputs": [],
   "source": [
    "with open('ETC_MT_G3.pkl','wb') as f:\n",
    "    pickle.dump(model, f)"
   ]
  },
  {
   "cell_type": "code",
   "execution_count": 18,
   "metadata": {},
   "outputs": [
    {
     "data": {
      "application/javascript": [
       "\n",
       "        if (window._pyforest_update_imports_cell) { window._pyforest_update_imports_cell('import pandas as pd'); }\n",
       "    "
      ],
      "text/plain": [
       "<IPython.core.display.Javascript object>"
      ]
     },
     "metadata": {},
     "output_type": "display_data"
    },
    {
     "name": "stdout",
     "output_type": "stream",
     "text": [
      "Accuracy for MT_G4 is 62.99\n",
      "F1 score for MT_G4 is 0.61\n"
     ]
    },
    {
     "data": {
      "text/plain": [
       "ExtraTreesClassifier()"
      ]
     },
     "execution_count": 18,
     "metadata": {},
     "output_type": "execute_result"
    }
   ],
   "source": [
    "dataframe = pd.read_csv('MT_G4.csv')\n",
    "X = dataframe.drop(columns=['Unnamed: 0','RECRUITMENT_CAT','PATNO','EVENT_ID','PAG_NAME_1','PAG_NAME_2'],axis=1) \n",
    "y = dataframe['RECRUITMENT_CAT']\n",
    "\n",
    "datax = X.values\n",
    "datay = y.values\n",
    "\n",
    "X = datax.astype(str)\n",
    "y = datay.astype(str)\n",
    "\n",
    "X = ordinal.fit_transform(X)\n",
    "y = label_encoder.fit_transform(y)\n",
    "\n",
    "cv_accs = []\n",
    "cv_f1 = []\n",
    "\n",
    "cv = RepeatedStratifiedKFold(n_splits=10, n_repeats=3, random_state=1)\n",
    "\n",
    "for train_index, test_index in cv.split(X, y):\n",
    "    X_train, X_test = X[train_index], X[test_index]\n",
    "    y_train, y_test = y[train_index], y[test_index]\n",
    "    model = ExtraTreesClassifier()\n",
    "    model.fit(X_train, y_train)\n",
    "    yhat = model.predict(X_test)\n",
    "\n",
    "    accuracy = accuracy_score(y_test, yhat)\n",
    "    cv_accs.append(accuracy)\n",
    "    \n",
    "    f1 = f1_score(y_test, yhat,average='weighted')\n",
    "    cv_f1.append(f1)\n",
    "\n",
    "print('Accuracy for MT_G4 is',round((100*mean(cv_accs)),2))\n",
    "print('F1 score for MT_G4 is',round(mean(cv_f1),2))\n",
    "\n",
    "model.fit(X, y)"
   ]
  },
  {
   "cell_type": "code",
   "execution_count": 19,
   "metadata": {},
   "outputs": [],
   "source": [
    "with open('ETC_MT_G4.pkl','wb') as f:\n",
    "    pickle.dump(model, f)"
   ]
  },
  {
   "cell_type": "code",
   "execution_count": 21,
   "metadata": {},
   "outputs": [
    {
     "data": {
      "application/javascript": [
       "\n",
       "        if (window._pyforest_update_imports_cell) { window._pyforest_update_imports_cell('import pandas as pd'); }\n",
       "    "
      ],
      "text/plain": [
       "<IPython.core.display.Javascript object>"
      ]
     },
     "metadata": {},
     "output_type": "display_data"
    },
    {
     "name": "stdout",
     "output_type": "stream",
     "text": [
      "Accuracy for MT_G5 is 63.31\n",
      "F1 score for MT_G5 is 0.62\n"
     ]
    },
    {
     "data": {
      "text/plain": [
       "ExtraTreesClassifier()"
      ]
     },
     "execution_count": 21,
     "metadata": {},
     "output_type": "execute_result"
    }
   ],
   "source": [
    "dataframe = pd.read_csv('MT_G5.csv')\n",
    "X = dataframe.drop(columns=['RECRUITMENT_CAT','PATNO','EVENT_ID','PAG_NAME'],axis=1) \n",
    "y = dataframe['RECRUITMENT_CAT']\n",
    "\n",
    "X = ordinal.fit_transform(X)\n",
    "y = label_encoder.fit_transform(y)\n",
    "\n",
    "X = ordinal.fit_transform(X)\n",
    "y = label_encoder.fit_transform(y)\n",
    "\n",
    "cv_accs = []\n",
    "cv_f1 = []\n",
    "\n",
    "cv = RepeatedStratifiedKFold(n_splits=10, n_repeats=3, random_state=1)\n",
    "\n",
    "for train_index, test_index in cv.split(X, y):\n",
    "    X_train, X_test = X[train_index], X[test_index]\n",
    "    y_train, y_test = y[train_index], y[test_index]\n",
    "    model = ExtraTreesClassifier()\n",
    "    model.fit(X_train, y_train)\n",
    "    yhat = model.predict(X_test)\n",
    "\n",
    "    accuracy = accuracy_score(y_test, yhat)\n",
    "    cv_accs.append(accuracy)\n",
    "    \n",
    "    f1 = f1_score(y_test, yhat,average='weighted')\n",
    "    cv_f1.append(f1)\n",
    "\n",
    "print('Accuracy for MT_G5 is',round((100*mean(cv_accs)),2))\n",
    "print('F1 score for MT_G5 is',round(mean(cv_f1),2))\n",
    "\n",
    "model.fit(X, y)"
   ]
  },
  {
   "cell_type": "code",
   "execution_count": 22,
   "metadata": {},
   "outputs": [],
   "source": [
    "with open('ETC_MT_G5.pkl','wb') as f:\n",
    "    pickle.dump(model, f)"
   ]
  },
  {
   "cell_type": "markdown",
   "metadata": {},
   "source": [
    "***\n",
    "\n",
    "## XGBOOST CLASSIFIER"
   ]
  },
  {
   "cell_type": "markdown",
   "metadata": {},
   "source": [
    "### PQ"
   ]
  },
  {
   "cell_type": "code",
   "execution_count": 23,
   "metadata": {},
   "outputs": [
    {
     "data": {
      "application/javascript": [
       "\n",
       "        if (window._pyforest_update_imports_cell) { window._pyforest_update_imports_cell('import pandas as pd'); }\n",
       "    "
      ],
      "text/plain": [
       "<IPython.core.display.Javascript object>"
      ]
     },
     "metadata": {},
     "output_type": "display_data"
    },
    {
     "data": {
      "application/javascript": [
       "\n",
       "        if (window._pyforest_update_imports_cell) { window._pyforest_update_imports_cell('from sklearn.model_selection import train_test_split\\nimport pandas as pd'); }\n",
       "    "
      ],
      "text/plain": [
       "<IPython.core.display.Javascript object>"
      ]
     },
     "metadata": {},
     "output_type": "display_data"
    },
    {
     "name": "stdout",
     "output_type": "stream",
     "text": [
      "Accuracy for PQ_G1 is 97.14\n",
      "F1 Score for PQ_G1 is 0.97\n"
     ]
    },
    {
     "data": {
      "text/plain": [
       "XGBClassifier(base_score=0.5, booster='gbtree', colsample_bylevel=1,\n",
       "              colsample_bynode=1, colsample_bytree=1, gamma=0, gpu_id=-1,\n",
       "              importance_type='gain', interaction_constraints='',\n",
       "              learning_rate=0.300000012, max_delta_step=0, max_depth=6,\n",
       "              min_child_weight=1, missing=nan, monotone_constraints='()',\n",
       "              n_estimators=100, n_jobs=0, num_parallel_tree=1,\n",
       "              objective='multi:softprob', random_state=0, reg_alpha=0,\n",
       "              reg_lambda=1, scale_pos_weight=None, subsample=1,\n",
       "              tree_method='exact', validate_parameters=1, verbosity=None)"
      ]
     },
     "execution_count": 23,
     "metadata": {},
     "output_type": "execute_result"
    }
   ],
   "source": [
    "dataframe = pd.read_csv('PQ_G1.csv')\n",
    "X = dataframe.drop(columns=['RECRUITMENT_CAT','PATNO','EVENT_ID','PAG_NAME_1','PAG_NAME_2','PAG_NAME_3','PAG_NAME_4'],axis=1) \n",
    "y = dataframe['RECRUITMENT_CAT']\n",
    "\n",
    "X = ordinal.fit_transform(X)\n",
    "y = label_encoder.fit_transform(y)\n",
    "    \n",
    "X_train, X_test, y_train, y_test = train_test_split(X, y, test_size=0.2, random_state=1)\n",
    "\n",
    "model = XGBClassifier()\n",
    "model.fit(X_train, y_train)\n",
    "\n",
    "y_pred = model.predict(X_test)\n",
    "predictions = [round(value) for value in y_pred]\n",
    "    \n",
    "accuracy = accuracy_score(y_test, predictions)\n",
    "f = f1_score(y_test, predictions, labels=None, pos_label=1, average='weighted', sample_weight=None, zero_division='warn')\n",
    "\n",
    "print('Accuracy for PQ_G1 is',round((100*accuracy),2))\n",
    "print('F1 Score for PQ_G1 is',round(f,2))\n",
    "\n",
    "model.fit(X, y)"
   ]
  },
  {
   "cell_type": "code",
   "execution_count": 24,
   "metadata": {},
   "outputs": [],
   "source": [
    "with open('XGBC_PQ_G1.pkl','wb') as f:\n",
    "    pickle.dump(model, f)"
   ]
  },
  {
   "cell_type": "code",
   "execution_count": 26,
   "metadata": {},
   "outputs": [
    {
     "data": {
      "application/javascript": [
       "\n",
       "        if (window._pyforest_update_imports_cell) { window._pyforest_update_imports_cell('from sklearn.model_selection import train_test_split\\nimport pandas as pd'); }\n",
       "    "
      ],
      "text/plain": [
       "<IPython.core.display.Javascript object>"
      ]
     },
     "metadata": {},
     "output_type": "display_data"
    },
    {
     "data": {
      "application/javascript": [
       "\n",
       "        if (window._pyforest_update_imports_cell) { window._pyforest_update_imports_cell('from sklearn.model_selection import train_test_split\\nimport pandas as pd'); }\n",
       "    "
      ],
      "text/plain": [
       "<IPython.core.display.Javascript object>"
      ]
     },
     "metadata": {},
     "output_type": "display_data"
    },
    {
     "name": "stdout",
     "output_type": "stream",
     "text": [
      "Accuracy for PQ_G2 is 96.36\n",
      "F1 Score for PQ_G2 is 0.96\n"
     ]
    },
    {
     "data": {
      "text/plain": [
       "XGBClassifier(base_score=0.5, booster='gbtree', colsample_bylevel=1,\n",
       "              colsample_bynode=1, colsample_bytree=1, gamma=0, gpu_id=-1,\n",
       "              importance_type='gain', interaction_constraints='',\n",
       "              learning_rate=0.300000012, max_delta_step=0, max_depth=6,\n",
       "              min_child_weight=1, missing=nan, monotone_constraints='()',\n",
       "              n_estimators=100, n_jobs=0, num_parallel_tree=1,\n",
       "              objective='multi:softprob', random_state=0, reg_alpha=0,\n",
       "              reg_lambda=1, scale_pos_weight=None, subsample=1,\n",
       "              tree_method='exact', validate_parameters=1, verbosity=None)"
      ]
     },
     "execution_count": 26,
     "metadata": {},
     "output_type": "execute_result"
    }
   ],
   "source": [
    "dataframe = pd.read_csv('PQ_G2.csv')\n",
    "X = dataframe.drop(columns=['RECRUITMENT_CAT','PATNO','EVENT_ID','PAG_NAME_1','PAG_NAME_2'],axis=1) \n",
    "y = dataframe['RECRUITMENT_CAT']\n",
    "\n",
    "X = ordinal.fit_transform(X)\n",
    "y = label_encoder.fit_transform(y)\n",
    "    \n",
    "X_train, X_test, y_train, y_test = train_test_split(X, y, test_size=0.2, random_state=1)\n",
    " \n",
    "model = XGBClassifier()\n",
    "model.fit(X_train, y_train)\n",
    "\n",
    "y_pred = model.predict(X_test)\n",
    "predictions = [round(value) for value in y_pred]\n",
    "    \n",
    "accuracy = accuracy_score(y_test, predictions)\n",
    "f = f1_score(y_test, predictions, labels=None, pos_label=1, average='weighted', sample_weight=None, zero_division='warn')\n",
    "print('Accuracy for PQ_G2 is',round((100*accuracy),2))\n",
    "print('F1 Score for PQ_G2 is',round(f,2))\n",
    "\n",
    "model.fit(X, y)"
   ]
  },
  {
   "cell_type": "code",
   "execution_count": 27,
   "metadata": {},
   "outputs": [],
   "source": [
    "with open('XGBC_PQ_G2.pkl','wb') as f:\n",
    "    pickle.dump(model, f)"
   ]
  },
  {
   "cell_type": "code",
   "execution_count": 28,
   "metadata": {},
   "outputs": [
    {
     "data": {
      "application/javascript": [
       "\n",
       "        if (window._pyforest_update_imports_cell) { window._pyforest_update_imports_cell('from sklearn.model_selection import train_test_split\\nimport pandas as pd'); }\n",
       "    "
      ],
      "text/plain": [
       "<IPython.core.display.Javascript object>"
      ]
     },
     "metadata": {},
     "output_type": "display_data"
    },
    {
     "data": {
      "application/javascript": [
       "\n",
       "        if (window._pyforest_update_imports_cell) { window._pyforest_update_imports_cell('from sklearn.model_selection import train_test_split\\nimport pandas as pd'); }\n",
       "    "
      ],
      "text/plain": [
       "<IPython.core.display.Javascript object>"
      ]
     },
     "metadata": {},
     "output_type": "display_data"
    },
    {
     "name": "stdout",
     "output_type": "stream",
     "text": [
      "Accuracy for PQ_G3 is 79.07\n",
      "F1 Score for PQ_G3 is 0.79\n"
     ]
    },
    {
     "data": {
      "text/plain": [
       "XGBClassifier(base_score=0.5, booster='gbtree', colsample_bylevel=1,\n",
       "              colsample_bynode=1, colsample_bytree=1, gamma=0, gpu_id=-1,\n",
       "              importance_type='gain', interaction_constraints='',\n",
       "              learning_rate=0.300000012, max_delta_step=0, max_depth=6,\n",
       "              min_child_weight=1, missing=nan, monotone_constraints='()',\n",
       "              n_estimators=100, n_jobs=0, num_parallel_tree=1,\n",
       "              objective='multi:softprob', random_state=0, reg_alpha=0,\n",
       "              reg_lambda=1, scale_pos_weight=None, subsample=1,\n",
       "              tree_method='exact', validate_parameters=1, verbosity=None)"
      ]
     },
     "execution_count": 28,
     "metadata": {},
     "output_type": "execute_result"
    }
   ],
   "source": [
    "dataframe = pd.read_csv('PQ_G3.csv')\n",
    "X = dataframe.drop(columns=['RECRUITMENT_CAT','PATNO','EVENT_ID','PAG_NAME_1','PAG_NAME_2','PAG_NAME_3'],axis=1) \n",
    "y = dataframe['RECRUITMENT_CAT']\n",
    "\n",
    "X = ordinal.fit_transform(X)\n",
    "y = label_encoder.fit_transform(y)\n",
    "    \n",
    "X_train, X_test, y_train, y_test = train_test_split(X, y, test_size=0.2, random_state=1)\n",
    "\n",
    "model = XGBClassifier()\n",
    "model.fit(X_train, y_train)\n",
    "\n",
    "y_pred = model.predict(X_test)\n",
    "predictions = [round(value) for value in y_pred]\n",
    "    \n",
    "accuracy = accuracy_score(y_test, predictions)\n",
    "f = f1_score(y_test, predictions, labels=None, pos_label=1, average='weighted', sample_weight=None, zero_division='warn')\n",
    "print('Accuracy for PQ_G3 is',round((100*accuracy),2))\n",
    "print('F1 Score for PQ_G3 is',round(f,2))\n",
    "\n",
    "model.fit(X, y)"
   ]
  },
  {
   "cell_type": "code",
   "execution_count": 29,
   "metadata": {},
   "outputs": [],
   "source": [
    "with open('XGBC_PQ_G3.pkl','wb') as f:\n",
    "    pickle.dump(model, f)"
   ]
  },
  {
   "cell_type": "code",
   "execution_count": 30,
   "metadata": {},
   "outputs": [
    {
     "data": {
      "application/javascript": [
       "\n",
       "        if (window._pyforest_update_imports_cell) { window._pyforest_update_imports_cell('from sklearn.model_selection import train_test_split\\nimport pandas as pd'); }\n",
       "    "
      ],
      "text/plain": [
       "<IPython.core.display.Javascript object>"
      ]
     },
     "metadata": {},
     "output_type": "display_data"
    },
    {
     "data": {
      "application/javascript": [
       "\n",
       "        if (window._pyforest_update_imports_cell) { window._pyforest_update_imports_cell('from sklearn.model_selection import train_test_split\\nimport pandas as pd'); }\n",
       "    "
      ],
      "text/plain": [
       "<IPython.core.display.Javascript object>"
      ]
     },
     "metadata": {},
     "output_type": "display_data"
    },
    {
     "name": "stdout",
     "output_type": "stream",
     "text": [
      "Accuracy for PQ_G4 is 86.29\n",
      "F1 Score for PQ_G4 is 0.8\n"
     ]
    },
    {
     "data": {
      "text/plain": [
       "XGBClassifier(base_score=0.5, booster='gbtree', colsample_bylevel=1,\n",
       "              colsample_bynode=1, colsample_bytree=1, gamma=0, gpu_id=-1,\n",
       "              importance_type='gain', interaction_constraints='',\n",
       "              learning_rate=0.300000012, max_delta_step=0, max_depth=6,\n",
       "              min_child_weight=1, missing=nan, monotone_constraints='()',\n",
       "              n_estimators=100, n_jobs=0, num_parallel_tree=1,\n",
       "              objective='multi:softprob', random_state=0, reg_alpha=0,\n",
       "              reg_lambda=1, scale_pos_weight=None, subsample=1,\n",
       "              tree_method='exact', validate_parameters=1, verbosity=None)"
      ]
     },
     "execution_count": 30,
     "metadata": {},
     "output_type": "execute_result"
    }
   ],
   "source": [
    "dataframe = pd.read_csv('PQ_G4.csv')\n",
    "X = dataframe.drop(columns=['RECRUITMENT_CAT','PATNO','EVENT_ID','PAG_NAME'],axis=1) \n",
    "y = dataframe['RECRUITMENT_CAT']\n",
    "\n",
    "X = ordinal.fit_transform(X)\n",
    "y = label_encoder.fit_transform(y)\n",
    "    \n",
    "X_train, X_test, y_train, y_test = train_test_split(X, y, test_size=0.2, random_state=1)\n",
    "\n",
    "model = XGBClassifier()\n",
    "model.fit(X_train, y_train)\n",
    "\n",
    "y_pred = model.predict(X_test)\n",
    "predictions = [round(value) for value in y_pred]\n",
    "    \n",
    "accuracy = accuracy_score(y_test, predictions)\n",
    "f = f1_score(y_test, predictions, labels=None, pos_label=1, average='weighted', sample_weight=None, zero_division='warn')\n",
    "print('Accuracy for PQ_G4 is',round((100*accuracy),2))\n",
    "print('F1 Score for PQ_G4 is',round(f,2))\n",
    "\n",
    "model.fit(X, y)"
   ]
  },
  {
   "cell_type": "code",
   "execution_count": 31,
   "metadata": {},
   "outputs": [],
   "source": [
    "with open('XGBC_PQ_G4.pkl','wb') as f:\n",
    "    pickle.dump(model, f)"
   ]
  },
  {
   "cell_type": "markdown",
   "metadata": {},
   "source": [
    "***\n",
    "### MT"
   ]
  },
  {
   "cell_type": "code",
   "execution_count": 32,
   "metadata": {},
   "outputs": [
    {
     "data": {
      "application/javascript": [
       "\n",
       "        if (window._pyforest_update_imports_cell) { window._pyforest_update_imports_cell('from sklearn.model_selection import train_test_split\\nimport pandas as pd'); }\n",
       "    "
      ],
      "text/plain": [
       "<IPython.core.display.Javascript object>"
      ]
     },
     "metadata": {},
     "output_type": "display_data"
    },
    {
     "data": {
      "application/javascript": [
       "\n",
       "        if (window._pyforest_update_imports_cell) { window._pyforest_update_imports_cell('from sklearn.model_selection import train_test_split\\nimport pandas as pd'); }\n",
       "    "
      ],
      "text/plain": [
       "<IPython.core.display.Javascript object>"
      ]
     },
     "metadata": {},
     "output_type": "display_data"
    },
    {
     "name": "stdout",
     "output_type": "stream",
     "text": [
      "Accuracy for MT_G1 is 61.19\n",
      "F1 Score for MT_G1 is 0.56\n"
     ]
    },
    {
     "data": {
      "text/plain": [
       "XGBClassifier(base_score=0.5, booster='gbtree', colsample_bylevel=1,\n",
       "              colsample_bynode=1, colsample_bytree=1, gamma=0, gpu_id=-1,\n",
       "              importance_type='gain', interaction_constraints='',\n",
       "              learning_rate=0.300000012, max_delta_step=0, max_depth=6,\n",
       "              min_child_weight=1, missing=nan, monotone_constraints='()',\n",
       "              n_estimators=100, n_jobs=0, num_parallel_tree=1,\n",
       "              objective='multi:softprob', random_state=0, reg_alpha=0,\n",
       "              reg_lambda=1, scale_pos_weight=None, subsample=1,\n",
       "              tree_method='exact', validate_parameters=1, verbosity=None)"
      ]
     },
     "execution_count": 32,
     "metadata": {},
     "output_type": "execute_result"
    }
   ],
   "source": [
    "dataframe = pd.read_csv('MT_G1.csv')\n",
    "X = dataframe.drop(columns=['Unnamed: 0','RECRUITMENT_CAT','PATNO','EVENT_ID','PAG_NAME_1','PAG_NAME_2'],axis=1) \n",
    "y = dataframe['RECRUITMENT_CAT']\n",
    "\n",
    "X = ordinal.fit_transform(X)\n",
    "y = label_encoder.fit_transform(y)\n",
    "    \n",
    "X_train, X_test, y_train, y_test = train_test_split(X, y, test_size=0.2, random_state=1)\n",
    "\n",
    "model = XGBClassifier()\n",
    "model.fit(X_train, y_train)\n",
    "\n",
    "y_pred = model.predict(X_test)\n",
    "predictions = [round(value) for value in y_pred]\n",
    "    \n",
    "accuracy = accuracy_score(y_test, predictions)\n",
    "f = f1_score(y_test, predictions, labels=None, pos_label=1, average='weighted', sample_weight=None, zero_division='warn')\n",
    "print('Accuracy for MT_G1 is',round((100*accuracy),2))\n",
    "print('F1 Score for MT_G1 is',round(f,2))\n",
    "\n",
    "model.fit(X, y)"
   ]
  },
  {
   "cell_type": "code",
   "execution_count": 33,
   "metadata": {},
   "outputs": [],
   "source": [
    "with open('XGBC_MT_G1.pkl','wb') as f:\n",
    "    pickle.dump(model, f)"
   ]
  },
  {
   "cell_type": "code",
   "execution_count": 34,
   "metadata": {},
   "outputs": [
    {
     "data": {
      "application/javascript": [
       "\n",
       "        if (window._pyforest_update_imports_cell) { window._pyforest_update_imports_cell('from sklearn.model_selection import train_test_split\\nimport pandas as pd'); }\n",
       "    "
      ],
      "text/plain": [
       "<IPython.core.display.Javascript object>"
      ]
     },
     "metadata": {},
     "output_type": "display_data"
    },
    {
     "data": {
      "application/javascript": [
       "\n",
       "        if (window._pyforest_update_imports_cell) { window._pyforest_update_imports_cell('from sklearn.model_selection import train_test_split\\nimport pandas as pd'); }\n",
       "    "
      ],
      "text/plain": [
       "<IPython.core.display.Javascript object>"
      ]
     },
     "metadata": {},
     "output_type": "display_data"
    },
    {
     "name": "stdout",
     "output_type": "stream",
     "text": [
      "Accuracy for MT_G2 is 59.04\n",
      "F1 Score for MT_G2 is 0.55\n"
     ]
    },
    {
     "data": {
      "text/plain": [
       "XGBClassifier(base_score=0.5, booster='gbtree', colsample_bylevel=1,\n",
       "              colsample_bynode=1, colsample_bytree=1, gamma=0, gpu_id=-1,\n",
       "              importance_type='gain', interaction_constraints='',\n",
       "              learning_rate=0.300000012, max_delta_step=0, max_depth=6,\n",
       "              min_child_weight=1, missing=nan, monotone_constraints='()',\n",
       "              n_estimators=100, n_jobs=0, num_parallel_tree=1,\n",
       "              objective='multi:softprob', random_state=0, reg_alpha=0,\n",
       "              reg_lambda=1, scale_pos_weight=None, subsample=1,\n",
       "              tree_method='exact', validate_parameters=1, verbosity=None)"
      ]
     },
     "execution_count": 34,
     "metadata": {},
     "output_type": "execute_result"
    }
   ],
   "source": [
    "dataframe = pd.read_csv('MT_G2.csv')\n",
    "X = dataframe.drop(columns=['Unnamed: 0','RECRUITMENT_CAT','PATNO','EVENT_ID','PAG_NAME_1','PAG_NAME_2'],axis=1) \n",
    "y = dataframe['RECRUITMENT_CAT']\n",
    "\n",
    "X = ordinal.fit_transform(X)\n",
    "y = label_encoder.fit_transform(y)\n",
    "    \n",
    "X_train, X_test, y_train, y_test = train_test_split(X, y, test_size=0.2, random_state=1)\n",
    "    \n",
    "\n",
    "model = XGBClassifier()\n",
    "model.fit(X_train, y_train)\n",
    "\n",
    "y_pred = model.predict(X_test)\n",
    "predictions = [round(value) for value in y_pred]\n",
    "    \n",
    "accuracy = accuracy_score(y_test, predictions)\n",
    "f = f1_score(y_test, predictions, labels=None, pos_label=1, average='weighted', sample_weight=None, zero_division='warn')\n",
    "print('Accuracy for MT_G2 is',round((100*accuracy),2))\n",
    "print('F1 Score for MT_G2 is',round(f,2))\n",
    "\n",
    "model.fit(X, y)"
   ]
  },
  {
   "cell_type": "code",
   "execution_count": 35,
   "metadata": {},
   "outputs": [],
   "source": [
    "with open('XGBC_MT_G2.pkl','wb') as f:\n",
    "    pickle.dump(model, f)"
   ]
  },
  {
   "cell_type": "code",
   "execution_count": 36,
   "metadata": {},
   "outputs": [
    {
     "data": {
      "application/javascript": [
       "\n",
       "        if (window._pyforest_update_imports_cell) { window._pyforest_update_imports_cell('from sklearn.model_selection import train_test_split\\nimport pandas as pd'); }\n",
       "    "
      ],
      "text/plain": [
       "<IPython.core.display.Javascript object>"
      ]
     },
     "metadata": {},
     "output_type": "display_data"
    },
    {
     "data": {
      "application/javascript": [
       "\n",
       "        if (window._pyforest_update_imports_cell) { window._pyforest_update_imports_cell('from sklearn.model_selection import train_test_split\\nimport pandas as pd'); }\n",
       "    "
      ],
      "text/plain": [
       "<IPython.core.display.Javascript object>"
      ]
     },
     "metadata": {},
     "output_type": "display_data"
    },
    {
     "name": "stdout",
     "output_type": "stream",
     "text": [
      "Accuracy for MT_G3 is 80.27\n",
      "F1 Score for MT_G3 is 0.8\n"
     ]
    },
    {
     "data": {
      "text/plain": [
       "XGBClassifier(base_score=0.5, booster='gbtree', colsample_bylevel=1,\n",
       "              colsample_bynode=1, colsample_bytree=1, gamma=0, gpu_id=-1,\n",
       "              importance_type='gain', interaction_constraints='',\n",
       "              learning_rate=0.300000012, max_delta_step=0, max_depth=6,\n",
       "              min_child_weight=1, missing=nan, monotone_constraints='()',\n",
       "              n_estimators=100, n_jobs=0, num_parallel_tree=1,\n",
       "              objective='multi:softprob', random_state=0, reg_alpha=0,\n",
       "              reg_lambda=1, scale_pos_weight=None, subsample=1,\n",
       "              tree_method='exact', validate_parameters=1, verbosity=None)"
      ]
     },
     "execution_count": 36,
     "metadata": {},
     "output_type": "execute_result"
    }
   ],
   "source": [
    "dataframe = pd.read_csv('MT_G3.csv')\n",
    "X = dataframe.drop(columns=['Unnamed: 0','RECRUITMENT_CAT','PATNO','EVENT_ID','PAG_NAME_1','PAG_NAME_2'],axis=1) \n",
    "y = dataframe['RECRUITMENT_CAT']\n",
    "\n",
    "X = ordinal.fit_transform(X)\n",
    "y = label_encoder.fit_transform(y)\n",
    "    \n",
    "X_train, X_test, y_train, y_test = train_test_split(X, y, test_size=0.2, random_state=1)\n",
    "\n",
    "model = XGBClassifier()\n",
    "model.fit(X_train, y_train)\n",
    "\n",
    "y_pred = model.predict(X_test)\n",
    "predictions = [round(value) for value in y_pred]\n",
    "    \n",
    "accuracy = accuracy_score(y_test, predictions)\n",
    "f = f1_score(y_test, predictions, labels=None, pos_label=1, average='weighted', sample_weight=None, zero_division='warn')\n",
    "print('Accuracy for MT_G3 is',round((100*accuracy),2))\n",
    "print('F1 Score for MT_G3 is',round(f,2))\n",
    "\n",
    "model.fit(X, y)"
   ]
  },
  {
   "cell_type": "code",
   "execution_count": 37,
   "metadata": {},
   "outputs": [],
   "source": [
    "with open('XGBC_MT_G3.pkl','wb') as f:\n",
    "    pickle.dump(model, f)"
   ]
  },
  {
   "cell_type": "code",
   "execution_count": 38,
   "metadata": {},
   "outputs": [
    {
     "data": {
      "application/javascript": [
       "\n",
       "        if (window._pyforest_update_imports_cell) { window._pyforest_update_imports_cell('from sklearn.model_selection import train_test_split\\nimport pandas as pd'); }\n",
       "    "
      ],
      "text/plain": [
       "<IPython.core.display.Javascript object>"
      ]
     },
     "metadata": {},
     "output_type": "display_data"
    },
    {
     "data": {
      "application/javascript": [
       "\n",
       "        if (window._pyforest_update_imports_cell) { window._pyforest_update_imports_cell('from sklearn.model_selection import train_test_split\\nimport pandas as pd'); }\n",
       "    "
      ],
      "text/plain": [
       "<IPython.core.display.Javascript object>"
      ]
     },
     "metadata": {},
     "output_type": "display_data"
    },
    {
     "name": "stdout",
     "output_type": "stream",
     "text": [
      "Accuracy for MT_G4 is 53.49\n",
      "F1 Score for MT_G4 is 0.54\n"
     ]
    },
    {
     "data": {
      "text/plain": [
       "XGBClassifier(base_score=0.5, booster='gbtree', colsample_bylevel=1,\n",
       "              colsample_bynode=1, colsample_bytree=1, gamma=0, gpu_id=-1,\n",
       "              importance_type='gain', interaction_constraints='',\n",
       "              learning_rate=0.300000012, max_delta_step=0, max_depth=6,\n",
       "              min_child_weight=1, missing=nan, monotone_constraints='()',\n",
       "              n_estimators=100, n_jobs=0, num_parallel_tree=1,\n",
       "              objective='multi:softprob', random_state=0, reg_alpha=0,\n",
       "              reg_lambda=1, scale_pos_weight=None, subsample=1,\n",
       "              tree_method='exact', validate_parameters=1, verbosity=None)"
      ]
     },
     "execution_count": 38,
     "metadata": {},
     "output_type": "execute_result"
    }
   ],
   "source": [
    "dataframe = pd.read_csv('MT_G4.csv')\n",
    "X = dataframe.drop(columns=['Unnamed: 0','RECRUITMENT_CAT','PATNO','EVENT_ID','PAG_NAME_1','PAG_NAME_2'],axis=1) \n",
    "y = dataframe['RECRUITMENT_CAT']\n",
    "\n",
    "datax = X.values\n",
    "datay = y.values\n",
    "\n",
    "X = datax.astype(str)\n",
    "y = datay.astype(str)\n",
    "\n",
    "X = ordinal.fit_transform(X)\n",
    "y = label_encoder.fit_transform(y)\n",
    "    \n",
    "X_train, X_test, y_train, y_test = train_test_split(X, y, test_size=0.2, random_state=1)\n",
    "\n",
    "model = XGBClassifier()\n",
    "model.fit(X_train, y_train)\n",
    "\n",
    "y_pred = model.predict(X_test)\n",
    "predictions = [round(value) for value in y_pred]\n",
    "    \n",
    "accuracy = accuracy_score(y_test, predictions)\n",
    "f = f1_score(y_test, predictions, labels=None, pos_label=1, average='weighted', sample_weight=None, zero_division='warn')\n",
    "print('Accuracy for MT_G4 is',round((100*accuracy),2))\n",
    "print('F1 Score for MT_G4 is',round(f,2))\n",
    "\n",
    "model.fit(X, y)"
   ]
  },
  {
   "cell_type": "code",
   "execution_count": 39,
   "metadata": {},
   "outputs": [],
   "source": [
    "with open('XGBC_MT_G4.pkl','wb') as f:\n",
    "    pickle.dump(model, f)"
   ]
  },
  {
   "cell_type": "code",
   "execution_count": 40,
   "metadata": {},
   "outputs": [
    {
     "data": {
      "application/javascript": [
       "\n",
       "        if (window._pyforest_update_imports_cell) { window._pyforest_update_imports_cell('from sklearn.model_selection import train_test_split\\nimport pandas as pd'); }\n",
       "    "
      ],
      "text/plain": [
       "<IPython.core.display.Javascript object>"
      ]
     },
     "metadata": {},
     "output_type": "display_data"
    },
    {
     "data": {
      "application/javascript": [
       "\n",
       "        if (window._pyforest_update_imports_cell) { window._pyforest_update_imports_cell('from sklearn.model_selection import train_test_split\\nimport pandas as pd'); }\n",
       "    "
      ],
      "text/plain": [
       "<IPython.core.display.Javascript object>"
      ]
     },
     "metadata": {},
     "output_type": "display_data"
    },
    {
     "name": "stdout",
     "output_type": "stream",
     "text": [
      "Accuracy for MT_G5 is 62.34\n",
      "F1 Score for MT_G5 is 0.62\n"
     ]
    },
    {
     "data": {
      "text/plain": [
       "XGBClassifier(base_score=0.5, booster='gbtree', colsample_bylevel=1,\n",
       "              colsample_bynode=1, colsample_bytree=1, gamma=0, gpu_id=-1,\n",
       "              importance_type='gain', interaction_constraints='',\n",
       "              learning_rate=0.300000012, max_delta_step=0, max_depth=6,\n",
       "              min_child_weight=1, missing=nan, monotone_constraints='()',\n",
       "              n_estimators=100, n_jobs=0, num_parallel_tree=1,\n",
       "              objective='multi:softprob', random_state=0, reg_alpha=0,\n",
       "              reg_lambda=1, scale_pos_weight=None, subsample=1,\n",
       "              tree_method='exact', validate_parameters=1, verbosity=None)"
      ]
     },
     "execution_count": 40,
     "metadata": {},
     "output_type": "execute_result"
    }
   ],
   "source": [
    "dataframe = pd.read_csv('MT_G5.csv')\n",
    "X = dataframe.drop(columns=['RECRUITMENT_CAT','PATNO','EVENT_ID','PAG_NAME'],axis=1) \n",
    "y = dataframe['RECRUITMENT_CAT']\n",
    "\n",
    "datax = X.values\n",
    "datay = y.values\n",
    "\n",
    "X = datax.astype(str)\n",
    "y = datay.astype(str)\n",
    "\n",
    "X = ordinal.fit_transform(X)\n",
    "y = label_encoder.fit_transform(y)\n",
    "    \n",
    "X_train, X_test, y_train, y_test = train_test_split(X, y, test_size=0.2, random_state=1)\n",
    "\n",
    "model = XGBClassifier()\n",
    "model.fit(X_train, y_train)\n",
    "\n",
    "y_pred = model.predict(X_test)\n",
    "predictions = [round(value) for value in y_pred]\n",
    "    \n",
    "accuracy = accuracy_score(y_test, predictions)\n",
    "f = f1_score(y_test, predictions, labels=None,average='weighted', pos_label=1, sample_weight=None, zero_division='warn')\n",
    "print('Accuracy for MT_G5 is',round((100*accuracy),2))\n",
    "print('F1 Score for MT_G5 is',round(f,2))\n",
    "\n",
    "model.fit(X, y)"
   ]
  },
  {
   "cell_type": "code",
   "execution_count": 41,
   "metadata": {},
   "outputs": [],
   "source": [
    "with open('XGBC_MT_G5.pkl','wb') as f:\n",
    "    pickle.dump(model, f)"
   ]
  },
  {
   "cell_type": "markdown",
   "metadata": {},
   "source": [
    "***\n",
    "## RANDOM FOREST CLASSIFIER"
   ]
  },
  {
   "cell_type": "markdown",
   "metadata": {},
   "source": [
    "### PQ"
   ]
  },
  {
   "cell_type": "code",
   "execution_count": 42,
   "metadata": {},
   "outputs": [
    {
     "data": {
      "application/javascript": [
       "\n",
       "        if (window._pyforest_update_imports_cell) { window._pyforest_update_imports_cell('from sklearn.model_selection import train_test_split\\nimport pandas as pd'); }\n",
       "    "
      ],
      "text/plain": [
       "<IPython.core.display.Javascript object>"
      ]
     },
     "metadata": {},
     "output_type": "display_data"
    },
    {
     "name": "stdout",
     "output_type": "stream",
     "text": [
      "Accuracy for PQ_G1 is 94.6\n",
      "F1 score for PQ_G1 is 0.95\n"
     ]
    },
    {
     "data": {
      "text/plain": [
       "RandomForestClassifier()"
      ]
     },
     "execution_count": 42,
     "metadata": {},
     "output_type": "execute_result"
    }
   ],
   "source": [
    "dataframe = pd.read_csv('PQ_G1.csv')\n",
    "X = dataframe.drop(columns=['RECRUITMENT_CAT','PATNO','EVENT_ID','PAG_NAME_1','PAG_NAME_2','PAG_NAME_3','PAG_NAME_4'],axis=1) \n",
    "y = dataframe['RECRUITMENT_CAT']\n",
    "\n",
    "X = ordinal.fit_transform(X)\n",
    "y = label_encoder.fit_transform(y)\n",
    "\n",
    "cv_accs = []\n",
    "cv_f1 = []\n",
    "\n",
    "cv = RepeatedStratifiedKFold(n_splits=10, n_repeats=3, random_state=1)\n",
    "\n",
    "for train_index, test_index in cv.split(X, y):\n",
    "    X_train, X_test = X[train_index], X[test_index]\n",
    "    y_train, y_test = y[train_index], y[test_index]\n",
    "    model = RandomForestClassifier()\n",
    "    model.fit(X_train, y_train)\n",
    "    yhat = model.predict(X_test)\n",
    "\n",
    "    accuracy = accuracy_score(y_test, yhat)\n",
    "    cv_accs.append(accuracy)\n",
    "    \n",
    "    f1 = f1_score(y_test, yhat,average='weighted')\n",
    "    cv_f1.append(f1)\n",
    "\n",
    "print('Accuracy for PQ_G1 is',round((100*mean(cv_accs)),2))\n",
    "print('F1 score for PQ_G1 is',round(mean(cv_f1),2))\n",
    "\n",
    "model.fit(X, y)"
   ]
  },
  {
   "cell_type": "code",
   "execution_count": 43,
   "metadata": {},
   "outputs": [],
   "source": [
    "with open('RFC_PQ_G1.pkl','wb') as f:\n",
    "    pickle.dump(model, f)"
   ]
  },
  {
   "cell_type": "code",
   "execution_count": 44,
   "metadata": {},
   "outputs": [
    {
     "data": {
      "application/javascript": [
       "\n",
       "        if (window._pyforest_update_imports_cell) { window._pyforest_update_imports_cell('from sklearn.model_selection import train_test_split\\nimport pandas as pd'); }\n",
       "    "
      ],
      "text/plain": [
       "<IPython.core.display.Javascript object>"
      ]
     },
     "metadata": {},
     "output_type": "display_data"
    },
    {
     "name": "stdout",
     "output_type": "stream",
     "text": [
      "Accuracy for PQ_G2 is 88.53\n",
      "F1 score for PQ_G2 is 0.88\n"
     ]
    },
    {
     "data": {
      "text/plain": [
       "RandomForestClassifier()"
      ]
     },
     "execution_count": 44,
     "metadata": {},
     "output_type": "execute_result"
    }
   ],
   "source": [
    "dataframe = pd.read_csv('PQ_G2.csv')\n",
    "X = dataframe.drop(columns=['RECRUITMENT_CAT','PATNO','EVENT_ID','PAG_NAME_1'],axis=1) \n",
    "y = dataframe['RECRUITMENT_CAT']\n",
    "\n",
    "X = ordinal.fit_transform(X)\n",
    "y = label_encoder.fit_transform(y)\n",
    "\n",
    "cv_accs = []\n",
    "cv_f1 = []\n",
    "\n",
    "cv = RepeatedStratifiedKFold(n_splits=10, n_repeats=3, random_state=1)\n",
    "\n",
    "for train_index, test_index in cv.split(X, y):\n",
    "    X_train, X_test = X[train_index], X[test_index]\n",
    "    y_train, y_test = y[train_index], y[test_index]\n",
    "    model = RandomForestClassifier()\n",
    "    model.fit(X_train, y_train)\n",
    "    yhat = model.predict(X_test)\n",
    "\n",
    "    accuracy = accuracy_score(y_test, yhat)\n",
    "    cv_accs.append(accuracy)\n",
    "    \n",
    "    f1 = f1_score(y_test, yhat,average='weighted')\n",
    "    cv_f1.append(f1)\n",
    "\n",
    "print('Accuracy for PQ_G2 is',round((100*mean(cv_accs)),2))\n",
    "print('F1 score for PQ_G2 is',round(mean(cv_f1),2))\n",
    "\n",
    "model.fit(X, y)"
   ]
  },
  {
   "cell_type": "code",
   "execution_count": 45,
   "metadata": {},
   "outputs": [],
   "source": [
    "with open('RFC_PQ_G2.pkl','wb') as f:\n",
    "    pickle.dump(model, f)"
   ]
  },
  {
   "cell_type": "code",
   "execution_count": 46,
   "metadata": {},
   "outputs": [
    {
     "data": {
      "application/javascript": [
       "\n",
       "        if (window._pyforest_update_imports_cell) { window._pyforest_update_imports_cell('from sklearn.model_selection import train_test_split\\nimport pandas as pd'); }\n",
       "    "
      ],
      "text/plain": [
       "<IPython.core.display.Javascript object>"
      ]
     },
     "metadata": {},
     "output_type": "display_data"
    },
    {
     "name": "stdout",
     "output_type": "stream",
     "text": [
      "Accuracy for PQ_G3 is 82.25\n",
      "F1 score for PQ_G3 is 0.81\n"
     ]
    },
    {
     "data": {
      "text/plain": [
       "RandomForestClassifier()"
      ]
     },
     "execution_count": 46,
     "metadata": {},
     "output_type": "execute_result"
    }
   ],
   "source": [
    "dataframe = pd.read_csv('PQ_G3.csv')\n",
    "X = dataframe.drop(columns=['RECRUITMENT_CAT','PATNO','EVENT_ID','PAG_NAME_1','PAG_NAME_2','PAG_NAME_3'],axis=1) \n",
    "y = dataframe['RECRUITMENT_CAT']\n",
    "\n",
    "X = ordinal.fit_transform(X)\n",
    "y = label_encoder.fit_transform(y)\n",
    "\n",
    "cv_accs = []\n",
    "cv_f1 = []\n",
    "\n",
    "cv = RepeatedStratifiedKFold(n_splits=10, n_repeats=3, random_state=1)\n",
    "\n",
    "for train_index, test_index in cv.split(X, y):\n",
    "    X_train, X_test = X[train_index], X[test_index]\n",
    "    y_train, y_test = y[train_index], y[test_index]\n",
    "    model = RandomForestClassifier()\n",
    "    model.fit(X_train, y_train)\n",
    "    yhat = model.predict(X_test)\n",
    "\n",
    "    accuracy = accuracy_score(y_test, yhat)\n",
    "    cv_accs.append(accuracy)\n",
    "    \n",
    "    f1 = f1_score(y_test, yhat,average='weighted')\n",
    "    cv_f1.append(f1)\n",
    "\n",
    "print('Accuracy for PQ_G3 is',round((100*mean(cv_accs)),2))\n",
    "print('F1 score for PQ_G3 is',round(mean(cv_f1),2))\n",
    "\n",
    "model.fit(X, y)"
   ]
  },
  {
   "cell_type": "code",
   "execution_count": 47,
   "metadata": {},
   "outputs": [],
   "source": [
    "with open('RFC_PQ_G3.pkl','wb') as f:\n",
    "    pickle.dump(model, f)"
   ]
  },
  {
   "cell_type": "code",
   "execution_count": 48,
   "metadata": {},
   "outputs": [
    {
     "data": {
      "application/javascript": [
       "\n",
       "        if (window._pyforest_update_imports_cell) { window._pyforest_update_imports_cell('from sklearn.model_selection import train_test_split\\nimport pandas as pd'); }\n",
       "    "
      ],
      "text/plain": [
       "<IPython.core.display.Javascript object>"
      ]
     },
     "metadata": {},
     "output_type": "display_data"
    },
    {
     "name": "stdout",
     "output_type": "stream",
     "text": [
      "Accuracy for PQ_G4 is 85.81\n",
      "F1 score for PQ_G4 is 0.79\n"
     ]
    },
    {
     "data": {
      "text/plain": [
       "RandomForestClassifier()"
      ]
     },
     "execution_count": 48,
     "metadata": {},
     "output_type": "execute_result"
    }
   ],
   "source": [
    "dataframe = pd.read_csv('PQ_G4.csv')\n",
    "X = dataframe.drop(columns=['RECRUITMENT_CAT','PATNO','EVENT_ID','PAG_NAME'],axis=1) \n",
    "y = dataframe['RECRUITMENT_CAT']\n",
    "\n",
    "X = ordinal.fit_transform(X)\n",
    "y = label_encoder.fit_transform(y)\n",
    "\n",
    "cv_accs = []\n",
    "cv_f1 = []\n",
    "\n",
    "cv = RepeatedStratifiedKFold(n_splits=10, n_repeats=3, random_state=1)\n",
    "\n",
    "for train_index, test_index in cv.split(X, y):\n",
    "    X_train, X_test = X[train_index], X[test_index]\n",
    "    y_train, y_test = y[train_index], y[test_index]\n",
    "    model = RandomForestClassifier()\n",
    "    model.fit(X_train, y_train)\n",
    "    yhat = model.predict(X_test)\n",
    "\n",
    "    accuracy = accuracy_score(y_test, yhat)\n",
    "    cv_accs.append(accuracy)\n",
    "    \n",
    "    f1 = f1_score(y_test, yhat,average='weighted')\n",
    "    cv_f1.append(f1)\n",
    "\n",
    "print('Accuracy for PQ_G4 is',round((100*mean(cv_accs)),2))\n",
    "print('F1 score for PQ_G4 is',round(mean(cv_f1),2))\n",
    "\n",
    "model.fit(X, y)"
   ]
  },
  {
   "cell_type": "code",
   "execution_count": 49,
   "metadata": {},
   "outputs": [],
   "source": [
    "with open('RFC_PQ_G4.pkl','wb') as f:\n",
    "    pickle.dump(model, f)"
   ]
  },
  {
   "cell_type": "markdown",
   "metadata": {},
   "source": [
    "***\n",
    "### MT"
   ]
  },
  {
   "cell_type": "code",
   "execution_count": 50,
   "metadata": {},
   "outputs": [
    {
     "data": {
      "application/javascript": [
       "\n",
       "        if (window._pyforest_update_imports_cell) { window._pyforest_update_imports_cell('from sklearn.model_selection import train_test_split\\nimport pandas as pd'); }\n",
       "    "
      ],
      "text/plain": [
       "<IPython.core.display.Javascript object>"
      ]
     },
     "metadata": {},
     "output_type": "display_data"
    },
    {
     "name": "stdout",
     "output_type": "stream",
     "text": [
      "Accuracy for MT_G1 is 63.34\n",
      "F1 score for MT_G1 is 0.58\n"
     ]
    },
    {
     "data": {
      "text/plain": [
       "RandomForestClassifier()"
      ]
     },
     "execution_count": 50,
     "metadata": {},
     "output_type": "execute_result"
    }
   ],
   "source": [
    "dataframe = pd.read_csv('MT_G1.csv')\n",
    "X = dataframe.drop(columns=['Unnamed: 0','RECRUITMENT_CAT','PATNO','EVENT_ID','PAG_NAME_1','PAG_NAME_2'],axis=1) \n",
    "y = dataframe['RECRUITMENT_CAT']\n",
    "    \n",
    "datax = X.values\n",
    "datay = y.values\n",
    "X = datax.astype(str)\n",
    "y = datay.astype(str)\n",
    "\n",
    "X = ordinal.fit_transform(X)\n",
    "y = label_encoder.fit_transform(y)\n",
    "\n",
    "cv_accs = []\n",
    "cv_f1 = []\n",
    "\n",
    "cv = RepeatedStratifiedKFold(n_splits=10, n_repeats=3, random_state=1)\n",
    "\n",
    "for train_index, test_index in cv.split(X, y):\n",
    "    X_train, X_test = X[train_index], X[test_index]\n",
    "    y_train, y_test = y[train_index], y[test_index]\n",
    "    model = RandomForestClassifier()\n",
    "    model.fit(X_train, y_train)\n",
    "    yhat = model.predict(X_test)\n",
    "\n",
    "    accuracy = accuracy_score(y_test, yhat)\n",
    "    cv_accs.append(accuracy)\n",
    "    \n",
    "    f1 = f1_score(y_test, yhat,average='weighted')\n",
    "    cv_f1.append(f1)\n",
    "\n",
    "print('Accuracy for MT_G1 is',round((100*mean(cv_accs)),2))\n",
    "print('F1 score for MT_G1 is',round(mean(cv_f1),2))\n",
    "\n",
    "model.fit(X, y)"
   ]
  },
  {
   "cell_type": "code",
   "execution_count": 51,
   "metadata": {},
   "outputs": [],
   "source": [
    "with open('RFC_MT_G1.pkl','wb') as f:\n",
    "    pickle.dump(model, f)"
   ]
  },
  {
   "cell_type": "code",
   "execution_count": 52,
   "metadata": {},
   "outputs": [
    {
     "data": {
      "application/javascript": [
       "\n",
       "        if (window._pyforest_update_imports_cell) { window._pyforest_update_imports_cell('from sklearn.model_selection import train_test_split\\nimport pandas as pd'); }\n",
       "    "
      ],
      "text/plain": [
       "<IPython.core.display.Javascript object>"
      ]
     },
     "metadata": {},
     "output_type": "display_data"
    },
    {
     "name": "stdout",
     "output_type": "stream",
     "text": [
      "Accuracy for MT_G2 is 62.21\n",
      "F1 score for MT_G2 is 0.58\n"
     ]
    },
    {
     "data": {
      "text/plain": [
       "RandomForestClassifier()"
      ]
     },
     "execution_count": 52,
     "metadata": {},
     "output_type": "execute_result"
    }
   ],
   "source": [
    "dataframe = pd.read_csv('MT_G2.csv')\n",
    "X = dataframe.drop(columns=['Unnamed: 0','RECRUITMENT_CAT','PATNO','EVENT_ID','PAG_NAME_1','PAG_NAME_2'],axis=1) \n",
    "y = dataframe['RECRUITMENT_CAT']\n",
    "    \n",
    "datax = X.values\n",
    "datay = y.values\n",
    "X = datax.astype(str)\n",
    "y = datay.astype(str)\n",
    "\n",
    "X = ordinal.fit_transform(X)\n",
    "y = label_encoder.fit_transform(y)\n",
    "\n",
    "cv_accs = []\n",
    "cv_f1 = []\n",
    "\n",
    "cv = RepeatedStratifiedKFold(n_splits=10, n_repeats=3, random_state=1)\n",
    "\n",
    "for train_index, test_index in cv.split(X, y):\n",
    "    X_train, X_test = X[train_index], X[test_index]\n",
    "    y_train, y_test = y[train_index], y[test_index]\n",
    "    model = RandomForestClassifier()\n",
    "    model.fit(X_train, y_train)\n",
    "    yhat = model.predict(X_test)\n",
    "\n",
    "    accuracy = accuracy_score(y_test, yhat)\n",
    "    cv_accs.append(accuracy)\n",
    "    \n",
    "    f1 = f1_score(y_test, yhat,average='weighted')\n",
    "    cv_f1.append(f1)\n",
    "\n",
    "print('Accuracy for MT_G2 is',round((100*mean(cv_accs)),2))\n",
    "print('F1 score for MT_G2 is',round(mean(cv_f1),2))\n",
    "\n",
    "model.fit(X, y)"
   ]
  },
  {
   "cell_type": "code",
   "execution_count": 53,
   "metadata": {},
   "outputs": [],
   "source": [
    "with open('RFC_MT_G2.pkl','wb') as f:\n",
    "    pickle.dump(model, f)"
   ]
  },
  {
   "cell_type": "code",
   "execution_count": 54,
   "metadata": {},
   "outputs": [
    {
     "data": {
      "application/javascript": [
       "\n",
       "        if (window._pyforest_update_imports_cell) { window._pyforest_update_imports_cell('from sklearn.model_selection import train_test_split\\nimport pandas as pd'); }\n",
       "    "
      ],
      "text/plain": [
       "<IPython.core.display.Javascript object>"
      ]
     },
     "metadata": {},
     "output_type": "display_data"
    },
    {
     "name": "stdout",
     "output_type": "stream",
     "text": [
      "Accuracy for MT_G3 is 77.85\n",
      "F1 score for MT_G3 is 0.76\n"
     ]
    },
    {
     "data": {
      "text/plain": [
       "RandomForestClassifier()"
      ]
     },
     "execution_count": 54,
     "metadata": {},
     "output_type": "execute_result"
    }
   ],
   "source": [
    "dataframe = pd.read_csv('MT_G3.csv')\n",
    "X = dataframe.drop(columns=['Unnamed: 0','RECRUITMENT_CAT','PATNO','EVENT_ID','PAG_NAME_1','PAG_NAME_2'],axis=1) \n",
    "y = dataframe['RECRUITMENT_CAT']\n",
    "    \n",
    "datax = X.values\n",
    "datay = y.values\n",
    "X = datax.astype(str)\n",
    "y = datay.astype(str)\n",
    "\n",
    "X = ordinal.fit_transform(X)\n",
    "y = label_encoder.fit_transform(y)\n",
    "\n",
    "cv_accs = []\n",
    "cv_f1 = []\n",
    "\n",
    "cv = RepeatedStratifiedKFold(n_splits=10, n_repeats=3, random_state=1)\n",
    "\n",
    "for train_index, test_index in cv.split(X, y):\n",
    "    X_train, X_test = X[train_index], X[test_index]\n",
    "    y_train, y_test = y[train_index], y[test_index]\n",
    "    model = RandomForestClassifier()\n",
    "    model.fit(X_train, y_train)\n",
    "    yhat = model.predict(X_test)\n",
    "\n",
    "    accuracy = accuracy_score(y_test, yhat)\n",
    "    cv_accs.append(accuracy)\n",
    "    \n",
    "    f1 = f1_score(y_test, yhat,average='weighted')\n",
    "    cv_f1.append(f1)\n",
    "\n",
    "print('Accuracy for MT_G3 is',round((100*mean(cv_accs)),2))\n",
    "print('F1 score for MT_G3 is',round(mean(cv_f1),2))\n",
    "\n",
    "model.fit(X, y)"
   ]
  },
  {
   "cell_type": "code",
   "execution_count": 55,
   "metadata": {},
   "outputs": [],
   "source": [
    "with open('RFC_MT_G3.pkl','wb') as f:\n",
    "    pickle.dump(model, f)"
   ]
  },
  {
   "cell_type": "code",
   "execution_count": 56,
   "metadata": {},
   "outputs": [
    {
     "data": {
      "application/javascript": [
       "\n",
       "        if (window._pyforest_update_imports_cell) { window._pyforest_update_imports_cell('from sklearn.model_selection import train_test_split\\nimport pandas as pd'); }\n",
       "    "
      ],
      "text/plain": [
       "<IPython.core.display.Javascript object>"
      ]
     },
     "metadata": {},
     "output_type": "display_data"
    },
    {
     "name": "stdout",
     "output_type": "stream",
     "text": [
      "Accuracy for MT_G4 is 64.38\n",
      "F1 score for MT_G4 is 0.62\n"
     ]
    },
    {
     "data": {
      "text/plain": [
       "RandomForestClassifier()"
      ]
     },
     "execution_count": 56,
     "metadata": {},
     "output_type": "execute_result"
    }
   ],
   "source": [
    "dataframe = pd.read_csv('MT_G4.csv')\n",
    "X = dataframe.drop(columns=['Unnamed: 0','RECRUITMENT_CAT','PATNO','EVENT_ID','PAG_NAME_1','PAG_NAME_2'],axis=1) \n",
    "y = dataframe['RECRUITMENT_CAT']\n",
    "    \n",
    "datax = X.values\n",
    "datay = y.values\n",
    "X = datax.astype(str)\n",
    "y = datay.astype(str)\n",
    "\n",
    "X = ordinal.fit_transform(X)\n",
    "y = label_encoder.fit_transform(y)\n",
    "\n",
    "cv_accs = []\n",
    "cv_f1 = []\n",
    "\n",
    "cv = RepeatedStratifiedKFold(n_splits=10, n_repeats=3, random_state=1)\n",
    "\n",
    "for train_index, test_index in cv.split(X, y):\n",
    "    X_train, X_test = X[train_index], X[test_index]\n",
    "    y_train, y_test = y[train_index], y[test_index]\n",
    "    model = RandomForestClassifier()\n",
    "    model.fit(X_train, y_train)\n",
    "    yhat = model.predict(X_test)\n",
    "\n",
    "    accuracy = accuracy_score(y_test, yhat)\n",
    "    cv_accs.append(accuracy)\n",
    "    \n",
    "    f1 = f1_score(y_test, yhat,average='weighted')\n",
    "    cv_f1.append(f1)\n",
    "\n",
    "print('Accuracy for MT_G4 is',round((100*mean(cv_accs)),2))\n",
    "print('F1 score for MT_G4 is',round(mean(cv_f1),2))\n",
    "\n",
    "model.fit(X, y)"
   ]
  },
  {
   "cell_type": "code",
   "execution_count": 57,
   "metadata": {},
   "outputs": [],
   "source": [
    "with open('RFC_MT_G4.pkl','wb') as f:\n",
    "    pickle.dump(model, f)"
   ]
  },
  {
   "cell_type": "code",
   "execution_count": 58,
   "metadata": {},
   "outputs": [
    {
     "data": {
      "application/javascript": [
       "\n",
       "        if (window._pyforest_update_imports_cell) { window._pyforest_update_imports_cell('from sklearn.model_selection import train_test_split\\nimport pandas as pd'); }\n",
       "    "
      ],
      "text/plain": [
       "<IPython.core.display.Javascript object>"
      ]
     },
     "metadata": {},
     "output_type": "display_data"
    },
    {
     "name": "stdout",
     "output_type": "stream",
     "text": [
      "Accuracy for MT_G5 is 65.04\n",
      "F1 score for MT_G5 is 0.63\n"
     ]
    },
    {
     "data": {
      "text/plain": [
       "RandomForestClassifier()"
      ]
     },
     "execution_count": 58,
     "metadata": {},
     "output_type": "execute_result"
    }
   ],
   "source": [
    "dataframe = pd.read_csv('MT_G5.csv')\n",
    "X = dataframe.drop(columns=['RECRUITMENT_CAT','PATNO','EVENT_ID','PAG_NAME'],axis=1) \n",
    "y = dataframe['RECRUITMENT_CAT']\n",
    "\n",
    "X = ordinal.fit_transform(X)\n",
    "y = label_encoder.fit_transform(y)\n",
    "\n",
    "cv_accs = []\n",
    "cv_f1 = []\n",
    "\n",
    "cv = RepeatedStratifiedKFold(n_splits=10, n_repeats=3, random_state=1)\n",
    "\n",
    "for train_index, test_index in cv.split(X, y):\n",
    "    X_train, X_test = X[train_index], X[test_index]\n",
    "    y_train, y_test = y[train_index], y[test_index]\n",
    "    model = RandomForestClassifier()\n",
    "    model.fit(X_train, y_train)\n",
    "    yhat = model.predict(X_test)\n",
    "\n",
    "    accuracy = accuracy_score(y_test, yhat)\n",
    "    cv_accs.append(accuracy)\n",
    "    \n",
    "    f1 = f1_score(y_test, yhat,average='weighted')\n",
    "    cv_f1.append(f1)\n",
    "\n",
    "print('Accuracy for MT_G5 is',round((100*mean(cv_accs)),2))\n",
    "print('F1 score for MT_G5 is',round(mean(cv_f1),2))\n",
    "\n",
    "model.fit(X, y)"
   ]
  },
  {
   "cell_type": "code",
   "execution_count": 59,
   "metadata": {},
   "outputs": [],
   "source": [
    "with open('RFC_MT_G5.pkl','wb') as f:\n",
    "    pickle.dump(model, f)"
   ]
  },
  {
   "cell_type": "markdown",
   "metadata": {},
   "source": [
    "***\n",
    "\n",
    "## LOGISTIC REGRESSION"
   ]
  },
  {
   "cell_type": "markdown",
   "metadata": {},
   "source": [
    "### PQ"
   ]
  },
  {
   "cell_type": "code",
   "execution_count": 71,
   "metadata": {},
   "outputs": [
    {
     "data": {
      "application/javascript": [
       "\n",
       "        if (window._pyforest_update_imports_cell) { window._pyforest_update_imports_cell('from sklearn.linear_model import LogisticRegression\\nfrom sklearn.model_selection import train_test_split\\nimport pandas as pd'); }\n",
       "    "
      ],
      "text/plain": [
       "<IPython.core.display.Javascript object>"
      ]
     },
     "metadata": {},
     "output_type": "display_data"
    },
    {
     "data": {
      "application/javascript": [
       "\n",
       "        if (window._pyforest_update_imports_cell) { window._pyforest_update_imports_cell('from sklearn.linear_model import LogisticRegression\\nfrom sklearn.model_selection import train_test_split\\nimport pandas as pd'); }\n",
       "    "
      ],
      "text/plain": [
       "<IPython.core.display.Javascript object>"
      ]
     },
     "metadata": {},
     "output_type": "display_data"
    },
    {
     "data": {
      "application/javascript": [
       "\n",
       "        if (window._pyforest_update_imports_cell) { window._pyforest_update_imports_cell('from sklearn.linear_model import LogisticRegression\\nfrom sklearn.model_selection import train_test_split\\nimport pandas as pd'); }\n",
       "    "
      ],
      "text/plain": [
       "<IPython.core.display.Javascript object>"
      ]
     },
     "metadata": {},
     "output_type": "display_data"
    },
    {
     "name": "stdout",
     "output_type": "stream",
     "text": [
      "Accuracy for PQ_G1 is 90.91\n",
      "F1 Score for PQ_G1 is 0.91\n"
     ]
    },
    {
     "data": {
      "text/plain": [
       "LogisticRegression()"
      ]
     },
     "execution_count": 71,
     "metadata": {},
     "output_type": "execute_result"
    }
   ],
   "source": [
    "dataframe = pd.read_csv('PQ_G1.csv')\n",
    "X = dataframe.drop(columns=['RECRUITMENT_CAT','PATNO','EVENT_ID','PAG_NAME_1','PAG_NAME_2','PAG_NAME_3','PAG_NAME_4'],axis=1) \n",
    "y = dataframe['RECRUITMENT_CAT']\n",
    "\n",
    "datax = X.values\n",
    "datay = y.values\n",
    "\n",
    "X = datax.astype(str)\n",
    "y = datay.astype(str)\n",
    "\n",
    "X = onehot_encoder.fit_transform(X)\n",
    "y = label_encoder.fit_transform(y)\n",
    "\n",
    "X_train, X_test, y_train, y_test = train_test_split(X, y, test_size=0.2, random_state=1)\n",
    "\n",
    "model = LogisticRegression()\n",
    "model.fit(X_train, y_train)\n",
    "yhat = model.predict(X_test)\n",
    "\n",
    "accuracy = accuracy_score(y_test, yhat)\n",
    "f = f1_score(y_test, yhat, labels=None, pos_label=1, average='weighted', sample_weight=None, zero_division='warn')\n",
    "\n",
    "print('Accuracy for PQ_G1 is',round((100*accuracy),2))\n",
    "print('F1 Score for PQ_G1 is',round(f,2))\n",
    "\n",
    "model.fit(X, y)"
   ]
  },
  {
   "cell_type": "code",
   "execution_count": 61,
   "metadata": {},
   "outputs": [],
   "source": [
    "with open('LR_PQ_G1.pkl','wb') as f:\n",
    "    pickle.dump(model, f)"
   ]
  },
  {
   "cell_type": "code",
   "execution_count": 72,
   "metadata": {},
   "outputs": [
    {
     "data": {
      "application/javascript": [
       "\n",
       "        if (window._pyforest_update_imports_cell) { window._pyforest_update_imports_cell('from sklearn.linear_model import LogisticRegression\\nfrom sklearn.model_selection import train_test_split\\nimport pandas as pd'); }\n",
       "    "
      ],
      "text/plain": [
       "<IPython.core.display.Javascript object>"
      ]
     },
     "metadata": {},
     "output_type": "display_data"
    },
    {
     "data": {
      "application/javascript": [
       "\n",
       "        if (window._pyforest_update_imports_cell) { window._pyforest_update_imports_cell('from sklearn.linear_model import LogisticRegression\\nfrom sklearn.model_selection import train_test_split\\nimport pandas as pd'); }\n",
       "    "
      ],
      "text/plain": [
       "<IPython.core.display.Javascript object>"
      ]
     },
     "metadata": {},
     "output_type": "display_data"
    },
    {
     "data": {
      "application/javascript": [
       "\n",
       "        if (window._pyforest_update_imports_cell) { window._pyforest_update_imports_cell('from sklearn.linear_model import LogisticRegression\\nfrom sklearn.model_selection import train_test_split\\nimport pandas as pd'); }\n",
       "    "
      ],
      "text/plain": [
       "<IPython.core.display.Javascript object>"
      ]
     },
     "metadata": {},
     "output_type": "display_data"
    },
    {
     "name": "stdout",
     "output_type": "stream",
     "text": [
      "Accuracy for PQ_G2 is 73.77\n",
      "F1 Score for PQ_G2 is 0.63\n"
     ]
    },
    {
     "data": {
      "text/plain": [
       "LogisticRegression()"
      ]
     },
     "execution_count": 72,
     "metadata": {},
     "output_type": "execute_result"
    }
   ],
   "source": [
    "dataframe = pd.read_csv('PQ_G2.csv')\n",
    "X = dataframe.drop(columns=['RECRUITMENT_CAT','PATNO','EVENT_ID','PAG_NAME_1','PAG_NAME_2'],axis=1) \n",
    "y = dataframe['RECRUITMENT_CAT']\n",
    "\n",
    "# datax = X.values\n",
    "# datay = y.values\n",
    "\n",
    "# X = datax.astype(str)\n",
    "# y = datay.astype(str)\n",
    "\n",
    "X = ordinal.fit_transform(X)\n",
    "y = label_encoder.fit_transform(y)\n",
    "\n",
    "X_train, X_test, y_train, y_test = train_test_split(X, y, test_size=0.2, random_state=1)\n",
    "\n",
    "model = LogisticRegression()\n",
    "model.fit(X_train, y_train)\n",
    "yhat = model.predict(X_test)\n",
    "\n",
    "accuracy = accuracy_score(y_test, yhat)\n",
    "f = f1_score(y_test, yhat, labels=None, pos_label=1, average='weighted', sample_weight=None, zero_division='warn')\n",
    "\n",
    "print('Accuracy for PQ_G2 is',round((100*accuracy),2))\n",
    "print('F1 Score for PQ_G2 is',round(f,2))\n",
    "\n",
    "model.fit(X, y)"
   ]
  },
  {
   "cell_type": "code",
   "execution_count": 65,
   "metadata": {},
   "outputs": [],
   "source": [
    "with open('LR_PQ_G2.pkl','wb') as f:\n",
    "    pickle.dump(model, f)"
   ]
  },
  {
   "cell_type": "code",
   "execution_count": 73,
   "metadata": {},
   "outputs": [
    {
     "data": {
      "application/javascript": [
       "\n",
       "        if (window._pyforest_update_imports_cell) { window._pyforest_update_imports_cell('from sklearn.linear_model import LogisticRegression\\nfrom sklearn.model_selection import train_test_split\\nimport pandas as pd'); }\n",
       "    "
      ],
      "text/plain": [
       "<IPython.core.display.Javascript object>"
      ]
     },
     "metadata": {},
     "output_type": "display_data"
    },
    {
     "data": {
      "application/javascript": [
       "\n",
       "        if (window._pyforest_update_imports_cell) { window._pyforest_update_imports_cell('from sklearn.linear_model import LogisticRegression\\nfrom sklearn.model_selection import train_test_split\\nimport pandas as pd'); }\n",
       "    "
      ],
      "text/plain": [
       "<IPython.core.display.Javascript object>"
      ]
     },
     "metadata": {},
     "output_type": "display_data"
    },
    {
     "data": {
      "application/javascript": [
       "\n",
       "        if (window._pyforest_update_imports_cell) { window._pyforest_update_imports_cell('from sklearn.linear_model import LogisticRegression\\nfrom sklearn.model_selection import train_test_split\\nimport pandas as pd'); }\n",
       "    "
      ],
      "text/plain": [
       "<IPython.core.display.Javascript object>"
      ]
     },
     "metadata": {},
     "output_type": "display_data"
    },
    {
     "name": "stdout",
     "output_type": "stream",
     "text": [
      "Accuracy for PQ_G3 is 80.23\n",
      "F1 Score for PQ_G3 is 0.79\n"
     ]
    },
    {
     "data": {
      "text/plain": [
       "LogisticRegression()"
      ]
     },
     "execution_count": 73,
     "metadata": {},
     "output_type": "execute_result"
    }
   ],
   "source": [
    "dataframe = pd.read_csv('PQ_G3.csv')\n",
    "X = dataframe.drop(columns=['RECRUITMENT_CAT','PATNO','EVENT_ID','PAG_NAME_1','PAG_NAME_2','PAG_NAME_3'],axis=1) \n",
    "y = dataframe['RECRUITMENT_CAT']\n",
    "\n",
    "datax = X.values\n",
    "datay = y.values\n",
    "\n",
    "X = datax.astype(str)\n",
    "y = datay.astype(str)\n",
    "\n",
    "X = onehot_encoder.fit_transform(X)\n",
    "y = label_encoder.fit_transform(y)\n",
    "\n",
    "X_train, X_test, y_train, y_test = train_test_split(X, y, test_size=0.2, random_state=1)\n",
    "\n",
    "model = LogisticRegression()\n",
    "model.fit(X_train, y_train)\n",
    "yhat = model.predict(X_test)\n",
    "\n",
    "accuracy = accuracy_score(y_test, yhat)\n",
    "f = f1_score(y_test, yhat, labels=None, pos_label=1, average='weighted', sample_weight=None, zero_division='warn')\n",
    "\n",
    "print('Accuracy for PQ_G3 is',round((100*accuracy),2))\n",
    "print('F1 Score for PQ_G3 is',round(f,2))\n",
    "\n",
    "model.fit(X, y)"
   ]
  },
  {
   "cell_type": "code",
   "execution_count": 67,
   "metadata": {},
   "outputs": [],
   "source": [
    "with open('LR_PQ_G3.pkl','wb') as f:\n",
    "    pickle.dump(model, f)"
   ]
  },
  {
   "cell_type": "code",
   "execution_count": 74,
   "metadata": {},
   "outputs": [
    {
     "data": {
      "application/javascript": [
       "\n",
       "        if (window._pyforest_update_imports_cell) { window._pyforest_update_imports_cell('from sklearn.linear_model import LogisticRegression\\nfrom sklearn.model_selection import train_test_split\\nimport pandas as pd'); }\n",
       "    "
      ],
      "text/plain": [
       "<IPython.core.display.Javascript object>"
      ]
     },
     "metadata": {},
     "output_type": "display_data"
    },
    {
     "data": {
      "application/javascript": [
       "\n",
       "        if (window._pyforest_update_imports_cell) { window._pyforest_update_imports_cell('from sklearn.linear_model import LogisticRegression\\nfrom sklearn.model_selection import train_test_split\\nimport pandas as pd'); }\n",
       "    "
      ],
      "text/plain": [
       "<IPython.core.display.Javascript object>"
      ]
     },
     "metadata": {},
     "output_type": "display_data"
    },
    {
     "data": {
      "application/javascript": [
       "\n",
       "        if (window._pyforest_update_imports_cell) { window._pyforest_update_imports_cell('from sklearn.linear_model import LogisticRegression\\nfrom sklearn.model_selection import train_test_split\\nimport pandas as pd'); }\n",
       "    "
      ],
      "text/plain": [
       "<IPython.core.display.Javascript object>"
      ]
     },
     "metadata": {},
     "output_type": "display_data"
    },
    {
     "name": "stdout",
     "output_type": "stream",
     "text": [
      "Accuracy for PQ_G4 is 86.29\n",
      "F1 Score for PQ_G4 is 0.8\n"
     ]
    },
    {
     "data": {
      "text/plain": [
       "LogisticRegression()"
      ]
     },
     "execution_count": 74,
     "metadata": {},
     "output_type": "execute_result"
    }
   ],
   "source": [
    "dataframe = pd.read_csv('PQ_G4.csv')\n",
    "X = dataframe.drop(columns=['RECRUITMENT_CAT','PATNO','EVENT_ID','PAG_NAME'],axis=1) \n",
    "y = dataframe['RECRUITMENT_CAT']\n",
    "\n",
    "datax = X.values\n",
    "datay = y.values\n",
    "\n",
    "X = datax.astype(str)\n",
    "y = datay.astype(str)\n",
    "\n",
    "#X = onehot_encoder.fit_transform(X)\n",
    "X = ordinal.fit_transform(X)\n",
    "y = label_encoder.fit_transform(y)\n",
    "\n",
    "X_train, X_test, y_train, y_test = train_test_split(X, y, test_size=0.2, random_state=1)\n",
    "\n",
    "model = LogisticRegression()\n",
    "model.fit(X_train, y_train)\n",
    "yhat = model.predict(X_test)\n",
    "\n",
    "accuracy = accuracy_score(y_test, yhat)\n",
    "f = f1_score(y_test, yhat, labels=None, pos_label=1, average='weighted', sample_weight=None, zero_division='warn')\n",
    "\n",
    "print('Accuracy for PQ_G4 is',round((100*accuracy),2))\n",
    "print('F1 Score for PQ_G4 is',round(f,2))\n",
    "\n",
    "model.fit(X, y)"
   ]
  },
  {
   "cell_type": "code",
   "execution_count": 69,
   "metadata": {},
   "outputs": [],
   "source": [
    "with open('LR_PQ_G4.pkl','wb') as f:\n",
    "    pickle.dump(model, f)"
   ]
  },
  {
   "cell_type": "markdown",
   "metadata": {},
   "source": [
    "***\n",
    "### MT"
   ]
  },
  {
   "cell_type": "code",
   "execution_count": 79,
   "metadata": {},
   "outputs": [
    {
     "data": {
      "application/javascript": [
       "\n",
       "        if (window._pyforest_update_imports_cell) { window._pyforest_update_imports_cell('from sklearn.linear_model import LogisticRegression\\nfrom sklearn.model_selection import train_test_split\\nimport pandas as pd'); }\n",
       "    "
      ],
      "text/plain": [
       "<IPython.core.display.Javascript object>"
      ]
     },
     "metadata": {},
     "output_type": "display_data"
    },
    {
     "data": {
      "application/javascript": [
       "\n",
       "        if (window._pyforest_update_imports_cell) { window._pyforest_update_imports_cell('from sklearn.linear_model import LogisticRegression\\nfrom sklearn.model_selection import train_test_split\\nimport pandas as pd'); }\n",
       "    "
      ],
      "text/plain": [
       "<IPython.core.display.Javascript object>"
      ]
     },
     "metadata": {},
     "output_type": "display_data"
    },
    {
     "data": {
      "application/javascript": [
       "\n",
       "        if (window._pyforest_update_imports_cell) { window._pyforest_update_imports_cell('from sklearn.linear_model import LogisticRegression\\nfrom sklearn.model_selection import train_test_split\\nimport pandas as pd'); }\n",
       "    "
      ],
      "text/plain": [
       "<IPython.core.display.Javascript object>"
      ]
     },
     "metadata": {},
     "output_type": "display_data"
    },
    {
     "name": "stdout",
     "output_type": "stream",
     "text": [
      "Accuracy for MT_G1 is 61.98\n",
      "F1 Score for MT_G1 is 0.49\n"
     ]
    },
    {
     "data": {
      "text/plain": [
       "LogisticRegression()"
      ]
     },
     "execution_count": 79,
     "metadata": {},
     "output_type": "execute_result"
    }
   ],
   "source": [
    "dataframe = pd.read_csv('MT_G1.csv')\n",
    "X = dataframe.drop(columns=['Unnamed: 0','RECRUITMENT_CAT','PATNO','EVENT_ID','PAG_NAME_1','PAG_NAME_2'],axis=1) \n",
    "y = dataframe['RECRUITMENT_CAT']\n",
    "\n",
    "X = ordinal.fit_transform(X)\n",
    "y = label_encoder.fit_transform(y)\n",
    "\n",
    "X_train, X_test, y_train, y_test = train_test_split(X, y, test_size=0.2, random_state=1)\n",
    "\n",
    "model = LogisticRegression()\n",
    "model.fit(X_train, y_train)\n",
    "yhat = model.predict(X_test)\n",
    "\n",
    "accuracy = accuracy_score(y_test, yhat)\n",
    "f = f1_score(y_test, yhat, labels=None, pos_label=1, average='weighted', sample_weight=None, zero_division='warn')\n",
    "\n",
    "print('Accuracy for MT_G1 is',round((100*accuracy),2))\n",
    "print('F1 Score for MT_G1 is',round(f,2))\n",
    "\n",
    "model.fit(X, y)"
   ]
  },
  {
   "cell_type": "code",
   "execution_count": 80,
   "metadata": {},
   "outputs": [],
   "source": [
    "with open('LR_MT_G1.pkl','wb') as f:\n",
    "    pickle.dump(model, f)"
   ]
  },
  {
   "cell_type": "code",
   "execution_count": 81,
   "metadata": {},
   "outputs": [
    {
     "data": {
      "application/javascript": [
       "\n",
       "        if (window._pyforest_update_imports_cell) { window._pyforest_update_imports_cell('from sklearn.linear_model import LogisticRegression\\nfrom sklearn.model_selection import train_test_split\\nimport pandas as pd'); }\n",
       "    "
      ],
      "text/plain": [
       "<IPython.core.display.Javascript object>"
      ]
     },
     "metadata": {},
     "output_type": "display_data"
    },
    {
     "data": {
      "application/javascript": [
       "\n",
       "        if (window._pyforest_update_imports_cell) { window._pyforest_update_imports_cell('from sklearn.linear_model import LogisticRegression\\nfrom sklearn.model_selection import train_test_split\\nimport pandas as pd'); }\n",
       "    "
      ],
      "text/plain": [
       "<IPython.core.display.Javascript object>"
      ]
     },
     "metadata": {},
     "output_type": "display_data"
    },
    {
     "data": {
      "application/javascript": [
       "\n",
       "        if (window._pyforest_update_imports_cell) { window._pyforest_update_imports_cell('from sklearn.linear_model import LogisticRegression\\nfrom sklearn.model_selection import train_test_split\\nimport pandas as pd'); }\n",
       "    "
      ],
      "text/plain": [
       "<IPython.core.display.Javascript object>"
      ]
     },
     "metadata": {},
     "output_type": "display_data"
    },
    {
     "name": "stdout",
     "output_type": "stream",
     "text": [
      "Accuracy for MT_G2 is 62.65\n",
      "F1 Score for MT_G2 is 0.49\n"
     ]
    },
    {
     "data": {
      "text/plain": [
       "LogisticRegression()"
      ]
     },
     "execution_count": 81,
     "metadata": {},
     "output_type": "execute_result"
    }
   ],
   "source": [
    "dataframe = pd.read_csv('MT_G2.csv')\n",
    "X = dataframe.drop(columns=['Unnamed: 0','RECRUITMENT_CAT','PATNO','EVENT_ID','PAG_NAME_1','PAG_NAME_2'],axis=1) \n",
    "y = dataframe['RECRUITMENT_CAT']\n",
    "\n",
    "X = ordinal.fit_transform(X)\n",
    "y = label_encoder.fit_transform(y)\n",
    "\n",
    "X_train, X_test, y_train, y_test = train_test_split(X, y, test_size=0.2, random_state=1)\n",
    "\n",
    "model = LogisticRegression()\n",
    "model.fit(X_train, y_train)\n",
    "yhat = model.predict(X_test)\n",
    "\n",
    "accuracy = accuracy_score(y_test, yhat)\n",
    "f = f1_score(y_test, yhat, labels=None, pos_label=1, average='weighted', sample_weight=None, zero_division='warn')\n",
    "\n",
    "print('Accuracy for MT_G2 is',round((100*accuracy),2))\n",
    "print('F1 Score for MT_G2 is',round(f,2))\n",
    "\n",
    "model.fit(X, y)"
   ]
  },
  {
   "cell_type": "code",
   "execution_count": 82,
   "metadata": {},
   "outputs": [],
   "source": [
    "with open('LR_MT_G2.pkl','wb') as f:\n",
    "    pickle.dump(model, f)"
   ]
  },
  {
   "cell_type": "code",
   "execution_count": 83,
   "metadata": {},
   "outputs": [
    {
     "data": {
      "application/javascript": [
       "\n",
       "        if (window._pyforest_update_imports_cell) { window._pyforest_update_imports_cell('from sklearn.linear_model import LogisticRegression\\nfrom sklearn.model_selection import train_test_split\\nimport pandas as pd'); }\n",
       "    "
      ],
      "text/plain": [
       "<IPython.core.display.Javascript object>"
      ]
     },
     "metadata": {},
     "output_type": "display_data"
    },
    {
     "data": {
      "application/javascript": [
       "\n",
       "        if (window._pyforest_update_imports_cell) { window._pyforest_update_imports_cell('from sklearn.linear_model import LogisticRegression\\nfrom sklearn.model_selection import train_test_split\\nimport pandas as pd'); }\n",
       "    "
      ],
      "text/plain": [
       "<IPython.core.display.Javascript object>"
      ]
     },
     "metadata": {},
     "output_type": "display_data"
    },
    {
     "data": {
      "application/javascript": [
       "\n",
       "        if (window._pyforest_update_imports_cell) { window._pyforest_update_imports_cell('from sklearn.linear_model import LogisticRegression\\nfrom sklearn.model_selection import train_test_split\\nimport pandas as pd'); }\n",
       "    "
      ],
      "text/plain": [
       "<IPython.core.display.Javascript object>"
      ]
     },
     "metadata": {},
     "output_type": "display_data"
    },
    {
     "name": "stdout",
     "output_type": "stream",
     "text": [
      "Accuracy for MT_G3 is 80.93\n",
      "F1 Score for MT_G3 is 0.8\n"
     ]
    },
    {
     "data": {
      "text/plain": [
       "LogisticRegression()"
      ]
     },
     "execution_count": 83,
     "metadata": {},
     "output_type": "execute_result"
    }
   ],
   "source": [
    "dataframe = pd.read_csv('MT_G3.csv')\n",
    "X = dataframe.drop(columns=['Unnamed: 0','RECRUITMENT_CAT','PATNO','EVENT_ID','PAG_NAME_1','PAG_NAME_2'],axis=1) \n",
    "y = dataframe['RECRUITMENT_CAT']\n",
    "\n",
    "X = ordinal.fit_transform(X)\n",
    "y = label_encoder.fit_transform(y)\n",
    "\n",
    "X_train, X_test, y_train, y_test = train_test_split(X, y, test_size=0.2, random_state=1)\n",
    "\n",
    "model = LogisticRegression()\n",
    "model.fit(X_train, y_train)\n",
    "yhat = model.predict(X_test)\n",
    "\n",
    "accuracy = accuracy_score(y_test, yhat)\n",
    "f = f1_score(y_test, yhat, labels=None, pos_label=1, average='weighted', sample_weight=None, zero_division='warn')\n",
    "\n",
    "print('Accuracy for MT_G3 is',round((100*accuracy),2))\n",
    "print('F1 Score for MT_G3 is',round(f,2))\n",
    "\n",
    "model.fit(X, y)"
   ]
  },
  {
   "cell_type": "code",
   "execution_count": 84,
   "metadata": {},
   "outputs": [],
   "source": [
    "with open('LR_MT_G3.pkl','wb') as f:\n",
    "    pickle.dump(model, f)"
   ]
  },
  {
   "cell_type": "code",
   "execution_count": 85,
   "metadata": {},
   "outputs": [
    {
     "data": {
      "application/javascript": [
       "\n",
       "        if (window._pyforest_update_imports_cell) { window._pyforest_update_imports_cell('from sklearn.linear_model import LogisticRegression\\nfrom sklearn.model_selection import train_test_split\\nimport pandas as pd'); }\n",
       "    "
      ],
      "text/plain": [
       "<IPython.core.display.Javascript object>"
      ]
     },
     "metadata": {},
     "output_type": "display_data"
    },
    {
     "data": {
      "application/javascript": [
       "\n",
       "        if (window._pyforest_update_imports_cell) { window._pyforest_update_imports_cell('from sklearn.linear_model import LogisticRegression\\nfrom sklearn.model_selection import train_test_split\\nimport pandas as pd'); }\n",
       "    "
      ],
      "text/plain": [
       "<IPython.core.display.Javascript object>"
      ]
     },
     "metadata": {},
     "output_type": "display_data"
    },
    {
     "data": {
      "application/javascript": [
       "\n",
       "        if (window._pyforest_update_imports_cell) { window._pyforest_update_imports_cell('from sklearn.linear_model import LogisticRegression\\nfrom sklearn.model_selection import train_test_split\\nimport pandas as pd'); }\n",
       "    "
      ],
      "text/plain": [
       "<IPython.core.display.Javascript object>"
      ]
     },
     "metadata": {},
     "output_type": "display_data"
    },
    {
     "name": "stdout",
     "output_type": "stream",
     "text": [
      "Accuracy for MT_G4 is 62.79\n",
      "F1 Score for MT_G4 is 0.55\n"
     ]
    },
    {
     "data": {
      "text/plain": [
       "LogisticRegression()"
      ]
     },
     "execution_count": 85,
     "metadata": {},
     "output_type": "execute_result"
    }
   ],
   "source": [
    "dataframe = pd.read_csv('MT_G4.csv')\n",
    "X = dataframe.drop(columns=['Unnamed: 0','RECRUITMENT_CAT','PATNO','EVENT_ID','PAG_NAME_1','PAG_NAME_2'],axis=1) \n",
    "y = dataframe['RECRUITMENT_CAT']\n",
    "\n",
    "datax = X.values\n",
    "datay = y.values\n",
    "X = datax.astype(str)\n",
    "y = datay.astype(str)\n",
    "    \n",
    "X = ordinal.fit_transform(X)\n",
    "y = label_encoder.fit_transform(y)\n",
    "\n",
    "X_train, X_test, y_train, y_test = train_test_split(X, y, test_size=0.2, random_state=1)\n",
    "\n",
    "model = LogisticRegression()\n",
    "model.fit(X_train, y_train)\n",
    "yhat = model.predict(X_test)\n",
    "\n",
    "accuracy = accuracy_score(y_test, yhat)\n",
    "f = f1_score(y_test, yhat, labels=None, pos_label=1, average='weighted', sample_weight=None, zero_division='warn')\n",
    "\n",
    "print('Accuracy for MT_G4 is',round((100*accuracy),2))\n",
    "print('F1 Score for MT_G4 is',round(f,2))\n",
    "\n",
    "model.fit(X, y)"
   ]
  },
  {
   "cell_type": "code",
   "execution_count": 86,
   "metadata": {},
   "outputs": [],
   "source": [
    "with open('LR_MT_G4.pkl','wb') as f:\n",
    "    pickle.dump(model, f)"
   ]
  },
  {
   "cell_type": "code",
   "execution_count": 87,
   "metadata": {},
   "outputs": [
    {
     "data": {
      "application/javascript": [
       "\n",
       "        if (window._pyforest_update_imports_cell) { window._pyforest_update_imports_cell('from sklearn.linear_model import LogisticRegression\\nfrom sklearn.model_selection import train_test_split\\nimport pandas as pd'); }\n",
       "    "
      ],
      "text/plain": [
       "<IPython.core.display.Javascript object>"
      ]
     },
     "metadata": {},
     "output_type": "display_data"
    },
    {
     "data": {
      "application/javascript": [
       "\n",
       "        if (window._pyforest_update_imports_cell) { window._pyforest_update_imports_cell('from sklearn.linear_model import LogisticRegression\\nfrom sklearn.model_selection import train_test_split\\nimport pandas as pd'); }\n",
       "    "
      ],
      "text/plain": [
       "<IPython.core.display.Javascript object>"
      ]
     },
     "metadata": {},
     "output_type": "display_data"
    },
    {
     "data": {
      "application/javascript": [
       "\n",
       "        if (window._pyforest_update_imports_cell) { window._pyforest_update_imports_cell('from sklearn.linear_model import LogisticRegression\\nfrom sklearn.model_selection import train_test_split\\nimport pandas as pd'); }\n",
       "    "
      ],
      "text/plain": [
       "<IPython.core.display.Javascript object>"
      ]
     },
     "metadata": {},
     "output_type": "display_data"
    },
    {
     "name": "stdout",
     "output_type": "stream",
     "text": [
      "Accuracy for MT_G5 is 70.13\n",
      "F1 Score for MT_G5 is 0.67\n"
     ]
    },
    {
     "data": {
      "text/plain": [
       "LogisticRegression()"
      ]
     },
     "execution_count": 87,
     "metadata": {},
     "output_type": "execute_result"
    }
   ],
   "source": [
    "dataframe = pd.read_csv('MT_G5.csv')\n",
    "X = dataframe.drop(columns=['RECRUITMENT_CAT','PATNO','EVENT_ID','PAG_NAME'],axis=1) \n",
    "y = dataframe['RECRUITMENT_CAT']\n",
    "\n",
    "X = ordinal.fit_transform(X)\n",
    "y = label_encoder.fit_transform(y)\n",
    "\n",
    "X_train, X_test, y_train, y_test = train_test_split(X, y, test_size=0.2, random_state=1)\n",
    "\n",
    "model = LogisticRegression()\n",
    "model.fit(X_train, y_train)\n",
    "yhat = model.predict(X_test)\n",
    "\n",
    "accuracy = accuracy_score(y_test, yhat)\n",
    "f = f1_score(y_test, yhat, labels=None, pos_label=1, average='weighted', sample_weight=None, zero_division='warn')\n",
    "\n",
    "print('Accuracy for MT_G5 is',round((100*accuracy),2))\n",
    "print('F1 Score for MT_G5 is',round(f,2))\n",
    "\n",
    "model.fit(X, y)"
   ]
  },
  {
   "cell_type": "code",
   "execution_count": 88,
   "metadata": {},
   "outputs": [],
   "source": [
    "with open('LR_MT_G5.pkl','wb') as f:\n",
    "    pickle.dump(model, f)"
   ]
  },
  {
   "cell_type": "markdown",
   "metadata": {},
   "source": [
    "***\n",
    "\n",
    "## LIGHTGBM CLASSIFIER"
   ]
  },
  {
   "cell_type": "markdown",
   "metadata": {},
   "source": [
    "### PQ"
   ]
  },
  {
   "cell_type": "code",
   "execution_count": 89,
   "metadata": {},
   "outputs": [
    {
     "data": {
      "application/javascript": [
       "\n",
       "        if (window._pyforest_update_imports_cell) { window._pyforest_update_imports_cell('from sklearn.linear_model import LogisticRegression\\nfrom sklearn.model_selection import train_test_split\\nimport pandas as pd'); }\n",
       "    "
      ],
      "text/plain": [
       "<IPython.core.display.Javascript object>"
      ]
     },
     "metadata": {},
     "output_type": "display_data"
    },
    {
     "name": "stdout",
     "output_type": "stream",
     "text": [
      "Accuracy for PQ_G1 is 96.53\n",
      "F1 score for PQ_G1 is 0.97\n"
     ]
    },
    {
     "data": {
      "text/plain": [
       "LGBMClassifier()"
      ]
     },
     "execution_count": 89,
     "metadata": {},
     "output_type": "execute_result"
    }
   ],
   "source": [
    "dataframe = pd.read_csv('PQ_G1.csv')\n",
    "X = dataframe.drop(columns=['RECRUITMENT_CAT','PATNO','EVENT_ID','PAG_NAME_1','PAG_NAME_2','PAG_NAME_3','PAG_NAME_4'],axis=1) \n",
    "y = dataframe['RECRUITMENT_CAT']\n",
    "    \n",
    "X = ordinal.fit_transform(X)\n",
    "y = label_encoder.fit_transform(y)\n",
    "\n",
    "cv_accs = []\n",
    "cv_f1 = []\n",
    "\n",
    "cv = RepeatedStratifiedKFold(n_splits=10, n_repeats=3, random_state=1)\n",
    "\n",
    "for train_index, test_index in cv.split(X, y):\n",
    "    X_train, X_test = X[train_index], X[test_index]\n",
    "    y_train, y_test = y[train_index], y[test_index]\n",
    "    model = LGBMClassifier()\n",
    "    model.fit(X_train, y_train)\n",
    "    yhat = model.predict(X_test)\n",
    "\n",
    "    accuracy = accuracy_score(y_test, yhat)\n",
    "    cv_accs.append(accuracy)\n",
    "    \n",
    "    f1 = f1_score(y_test, yhat,average='weighted')\n",
    "    cv_f1.append(f1)\n",
    "\n",
    "print('Accuracy for PQ_G1 is',round((100*mean(cv_accs)),2))\n",
    "print('F1 score for PQ_G1 is',round(mean(cv_f1),2))\n",
    "\n",
    "model.fit(X, y)"
   ]
  },
  {
   "cell_type": "code",
   "execution_count": 90,
   "metadata": {},
   "outputs": [],
   "source": [
    "with open('LGBMC_PQ_G1.pkl','wb') as f:\n",
    "    pickle.dump(model, f)"
   ]
  },
  {
   "cell_type": "code",
   "execution_count": 92,
   "metadata": {},
   "outputs": [
    {
     "data": {
      "application/javascript": [
       "\n",
       "        if (window._pyforest_update_imports_cell) { window._pyforest_update_imports_cell('from sklearn.linear_model import LogisticRegression\\nfrom sklearn.model_selection import train_test_split\\nimport pandas as pd'); }\n",
       "    "
      ],
      "text/plain": [
       "<IPython.core.display.Javascript object>"
      ]
     },
     "metadata": {},
     "output_type": "display_data"
    },
    {
     "name": "stdout",
     "output_type": "stream",
     "text": [
      "Accuracy for PQ_G2 is 91.97\n",
      "F1 score for PQ_G2 is 0.91\n"
     ]
    },
    {
     "data": {
      "text/plain": [
       "LGBMClassifier()"
      ]
     },
     "execution_count": 92,
     "metadata": {},
     "output_type": "execute_result"
    }
   ],
   "source": [
    "dataframe = pd.read_csv('PQ_G2.csv')\n",
    "X = dataframe.drop(columns=['RECRUITMENT_CAT','PATNO','EVENT_ID','PAG_NAME_1','PAG_NAME_2'],axis=1) \n",
    "y = dataframe['RECRUITMENT_CAT']\n",
    "\n",
    "X = ordinal.fit_transform(X)\n",
    "y = label_encoder.fit_transform(y)\n",
    "\n",
    "cv_accs = []\n",
    "cv_f1 = []\n",
    "\n",
    "cv = RepeatedStratifiedKFold(n_splits=10, n_repeats=3, random_state=1)\n",
    "\n",
    "for train_index, test_index in cv.split(X, y):\n",
    "    X_train, X_test = X[train_index], X[test_index]\n",
    "    y_train, y_test = y[train_index], y[test_index]\n",
    "    model = LGBMClassifier()\n",
    "    model.fit(X_train, y_train)\n",
    "    yhat = model.predict(X_test)\n",
    "\n",
    "    accuracy = accuracy_score(y_test, yhat)\n",
    "    cv_accs.append(accuracy)\n",
    "    \n",
    "    f1 = f1_score(y_test, yhat,average='weighted')\n",
    "    cv_f1.append(f1)\n",
    "\n",
    "print('Accuracy for PQ_G2 is',round((100*mean(cv_accs)),2))\n",
    "print('F1 score for PQ_G2 is',round(mean(cv_f1),2))\n",
    "\n",
    "model.fit(X, y)"
   ]
  },
  {
   "cell_type": "code",
   "execution_count": 93,
   "metadata": {},
   "outputs": [],
   "source": [
    "with open('LGBMC_PQ_G2.pkl','wb') as f:\n",
    "    pickle.dump(model, f)"
   ]
  },
  {
   "cell_type": "code",
   "execution_count": 94,
   "metadata": {},
   "outputs": [
    {
     "data": {
      "application/javascript": [
       "\n",
       "        if (window._pyforest_update_imports_cell) { window._pyforest_update_imports_cell('from sklearn.linear_model import LogisticRegression\\nfrom sklearn.model_selection import train_test_split\\nimport pandas as pd'); }\n",
       "    "
      ],
      "text/plain": [
       "<IPython.core.display.Javascript object>"
      ]
     },
     "metadata": {},
     "output_type": "display_data"
    },
    {
     "name": "stdout",
     "output_type": "stream",
     "text": [
      "Accuracy for PQ_G3 is 82.73\n",
      "F1 score for PQ_G3 is 0.82\n"
     ]
    },
    {
     "data": {
      "text/plain": [
       "LGBMClassifier()"
      ]
     },
     "execution_count": 94,
     "metadata": {},
     "output_type": "execute_result"
    }
   ],
   "source": [
    "dataframe = pd.read_csv('PQ_G3.csv')\n",
    "X = dataframe.drop(columns=['RECRUITMENT_CAT','PATNO','EVENT_ID','PAG_NAME_1','PAG_NAME_2','PAG_NAME_3'],axis=1) \n",
    "y = dataframe['RECRUITMENT_CAT']\n",
    "\n",
    "X = ordinal.fit_transform(X)\n",
    "y = label_encoder.fit_transform(y)\n",
    "\n",
    "cv_accs = []\n",
    "cv_f1 = []\n",
    "\n",
    "cv = RepeatedStratifiedKFold(n_splits=10, n_repeats=3, random_state=1)\n",
    "\n",
    "for train_index, test_index in cv.split(X, y):\n",
    "    X_train, X_test = X[train_index], X[test_index]\n",
    "    y_train, y_test = y[train_index], y[test_index]\n",
    "    model = LGBMClassifier()\n",
    "    model.fit(X_train, y_train)\n",
    "    yhat = model.predict(X_test)\n",
    "\n",
    "    accuracy = accuracy_score(y_test, yhat)\n",
    "    cv_accs.append(accuracy)\n",
    "    \n",
    "    f1 = f1_score(y_test, yhat,average='weighted')\n",
    "    cv_f1.append(f1)\n",
    "\n",
    "print('Accuracy for PQ_G3 is',round((100*mean(cv_accs)),2))\n",
    "print('F1 score for PQ_G3 is',round(mean(cv_f1),2))\n",
    "\n",
    "model.fit(X, y)"
   ]
  },
  {
   "cell_type": "code",
   "execution_count": 95,
   "metadata": {},
   "outputs": [],
   "source": [
    "with open('LGBMC_PQ_G3.pkl','wb') as f:\n",
    "    pickle.dump(model, f)"
   ]
  },
  {
   "cell_type": "code",
   "execution_count": 96,
   "metadata": {},
   "outputs": [
    {
     "data": {
      "application/javascript": [
       "\n",
       "        if (window._pyforest_update_imports_cell) { window._pyforest_update_imports_cell('from sklearn.linear_model import LogisticRegression\\nfrom sklearn.model_selection import train_test_split\\nimport pandas as pd'); }\n",
       "    "
      ],
      "text/plain": [
       "<IPython.core.display.Javascript object>"
      ]
     },
     "metadata": {},
     "output_type": "display_data"
    },
    {
     "name": "stdout",
     "output_type": "stream",
     "text": [
      "Accuracy for PQ_G4 is 85.81\n",
      "F1 score for PQ_G4 is 0.79\n"
     ]
    },
    {
     "data": {
      "text/plain": [
       "LGBMClassifier()"
      ]
     },
     "execution_count": 96,
     "metadata": {},
     "output_type": "execute_result"
    }
   ],
   "source": [
    "dataframe = pd.read_csv('PQ_G4.csv')\n",
    "X = dataframe.drop(columns=['RECRUITMENT_CAT','PATNO','EVENT_ID','PAG_NAME'],axis=1) \n",
    "y = dataframe['RECRUITMENT_CAT']\n",
    "\n",
    "X = ordinal.fit_transform(X)\n",
    "y = label_encoder.fit_transform(y)\n",
    "\n",
    "cv_accs = []\n",
    "cv_f1 = []\n",
    "\n",
    "cv = RepeatedStratifiedKFold(n_splits=10, n_repeats=3, random_state=1)\n",
    "\n",
    "for train_index, test_index in cv.split(X, y):\n",
    "    X_train, X_test = X[train_index], X[test_index]\n",
    "    y_train, y_test = y[train_index], y[test_index]\n",
    "    model = LGBMClassifier()\n",
    "    model.fit(X_train, y_train)\n",
    "    yhat = model.predict(X_test)\n",
    "\n",
    "    accuracy = accuracy_score(y_test, yhat)\n",
    "    cv_accs.append(accuracy)\n",
    "    \n",
    "    f1 = f1_score(y_test, yhat,average='weighted')\n",
    "    cv_f1.append(f1)\n",
    "\n",
    "print('Accuracy for PQ_G4 is',round((100*mean(cv_accs)),2))\n",
    "print('F1 score for PQ_G4 is',round(mean(cv_f1),2))\n",
    "\n",
    "model.fit(X, y)"
   ]
  },
  {
   "cell_type": "code",
   "execution_count": 97,
   "metadata": {},
   "outputs": [],
   "source": [
    "with open('LGBMC_PQ_G4.pkl','wb') as f:\n",
    "    pickle.dump(model, f)"
   ]
  },
  {
   "cell_type": "markdown",
   "metadata": {},
   "source": [
    "***\n",
    "### MT"
   ]
  },
  {
   "cell_type": "code",
   "execution_count": 98,
   "metadata": {},
   "outputs": [
    {
     "data": {
      "application/javascript": [
       "\n",
       "        if (window._pyforest_update_imports_cell) { window._pyforest_update_imports_cell('from sklearn.linear_model import LogisticRegression\\nfrom sklearn.model_selection import train_test_split\\nimport pandas as pd'); }\n",
       "    "
      ],
      "text/plain": [
       "<IPython.core.display.Javascript object>"
      ]
     },
     "metadata": {},
     "output_type": "display_data"
    },
    {
     "name": "stdout",
     "output_type": "stream",
     "text": [
      "Accuracy for MT_G1 is 64.49\n",
      "F1 score for MT_G1 is 0.58\n"
     ]
    },
    {
     "data": {
      "text/plain": [
       "LGBMClassifier()"
      ]
     },
     "execution_count": 98,
     "metadata": {},
     "output_type": "execute_result"
    }
   ],
   "source": [
    "dataframe = pd.read_csv('MT_G1.csv')\n",
    "X = dataframe.drop(columns=['Unnamed: 0','RECRUITMENT_CAT','PATNO','EVENT_ID','PAG_NAME_1','PAG_NAME_2'],axis=1) \n",
    "y = dataframe['RECRUITMENT_CAT']\n",
    "\n",
    "X = ordinal.fit_transform(X)\n",
    "y = label_encoder.fit_transform(y)\n",
    "\n",
    "cv_accs = []\n",
    "cv_f1 = []\n",
    "\n",
    "cv = RepeatedStratifiedKFold(n_splits=10, n_repeats=3, random_state=1)\n",
    "\n",
    "for train_index, test_index in cv.split(X, y):\n",
    "    X_train, X_test = X[train_index], X[test_index]\n",
    "    y_train, y_test = y[train_index], y[test_index]\n",
    "    model = LGBMClassifier()\n",
    "    model.fit(X_train, y_train)\n",
    "    yhat = model.predict(X_test)\n",
    "\n",
    "    accuracy = accuracy_score(y_test, yhat)\n",
    "    cv_accs.append(accuracy)\n",
    "    \n",
    "    f1 = f1_score(y_test, yhat,average='weighted')\n",
    "    cv_f1.append(f1)\n",
    "\n",
    "print('Accuracy for MT_G1 is',round((100*mean(cv_accs)),2))\n",
    "print('F1 score for MT_G1 is',round(mean(cv_f1),2))\n",
    "\n",
    "model.fit(X, y)"
   ]
  },
  {
   "cell_type": "code",
   "execution_count": 99,
   "metadata": {},
   "outputs": [],
   "source": [
    "with open('LGBMC_MT_G1.pkl','wb') as f:\n",
    "    pickle.dump(model, f)"
   ]
  },
  {
   "cell_type": "code",
   "execution_count": 100,
   "metadata": {},
   "outputs": [
    {
     "data": {
      "application/javascript": [
       "\n",
       "        if (window._pyforest_update_imports_cell) { window._pyforest_update_imports_cell('from sklearn.linear_model import LogisticRegression\\nfrom sklearn.model_selection import train_test_split\\nimport pandas as pd'); }\n",
       "    "
      ],
      "text/plain": [
       "<IPython.core.display.Javascript object>"
      ]
     },
     "metadata": {},
     "output_type": "display_data"
    },
    {
     "name": "stdout",
     "output_type": "stream",
     "text": [
      "Accuracy for MT_G2 is 57.69\n",
      "F1 score for MT_G2 is 0.55\n"
     ]
    },
    {
     "data": {
      "text/plain": [
       "LGBMClassifier()"
      ]
     },
     "execution_count": 100,
     "metadata": {},
     "output_type": "execute_result"
    }
   ],
   "source": [
    "dataframe = pd.read_csv('MT_G2.csv')\n",
    "X = dataframe.drop(columns=['Unnamed: 0','RECRUITMENT_CAT','PATNO','EVENT_ID','PAG_NAME_1','PAG_NAME_2'],axis=1) \n",
    "y = dataframe['RECRUITMENT_CAT']\n",
    "\n",
    "X = ordinal.fit_transform(X)\n",
    "y = label_encoder.fit_transform(y)\n",
    "\n",
    "cv_accs = []\n",
    "cv_f1 = []\n",
    "\n",
    "cv = RepeatedStratifiedKFold(n_splits=10, n_repeats=3, random_state=1)\n",
    "\n",
    "for train_index, test_index in cv.split(X, y):\n",
    "    X_train, X_test = X[train_index], X[test_index]\n",
    "    y_train, y_test = y[train_index], y[test_index]\n",
    "    model = LGBMClassifier()\n",
    "    model.fit(X_train, y_train)\n",
    "    yhat = model.predict(X_test)\n",
    "\n",
    "    accuracy = accuracy_score(y_test, yhat)\n",
    "    cv_accs.append(accuracy)\n",
    "    \n",
    "    f1 = f1_score(y_test, yhat,average='weighted')\n",
    "    cv_f1.append(f1)\n",
    "\n",
    "print('Accuracy for MT_G2 is',round((100*mean(cv_accs)),2))\n",
    "print('F1 score for MT_G2 is',round(mean(cv_f1),2))\n",
    "\n",
    "model.fit(X, y)"
   ]
  },
  {
   "cell_type": "code",
   "execution_count": 101,
   "metadata": {},
   "outputs": [],
   "source": [
    "with open('LGBMC_MT_G2.pkl','wb') as f:\n",
    "    pickle.dump(model, f)"
   ]
  },
  {
   "cell_type": "code",
   "execution_count": 102,
   "metadata": {},
   "outputs": [
    {
     "data": {
      "application/javascript": [
       "\n",
       "        if (window._pyforest_update_imports_cell) { window._pyforest_update_imports_cell('from sklearn.linear_model import LogisticRegression\\nfrom sklearn.model_selection import train_test_split\\nimport pandas as pd'); }\n",
       "    "
      ],
      "text/plain": [
       "<IPython.core.display.Javascript object>"
      ]
     },
     "metadata": {},
     "output_type": "display_data"
    },
    {
     "name": "stdout",
     "output_type": "stream",
     "text": [
      "Accuracy for MT_G3 is 79.3\n",
      "F1 score for MT_G3 is 0.78\n"
     ]
    },
    {
     "data": {
      "text/plain": [
       "LGBMClassifier()"
      ]
     },
     "execution_count": 102,
     "metadata": {},
     "output_type": "execute_result"
    }
   ],
   "source": [
    "dataframe = pd.read_csv('MT_G3.csv')\n",
    "X = dataframe.drop(columns=['Unnamed: 0','RECRUITMENT_CAT','PATNO','EVENT_ID','PAG_NAME_1','PAG_NAME_2'],axis=1) \n",
    "y = dataframe['RECRUITMENT_CAT']\n",
    "\n",
    "X = ordinal.fit_transform(X)\n",
    "y = label_encoder.fit_transform(y)\n",
    "\n",
    "cv_accs = []\n",
    "cv_f1 = []\n",
    "\n",
    "cv = RepeatedStratifiedKFold(n_splits=10, n_repeats=3, random_state=1)\n",
    "\n",
    "for train_index, test_index in cv.split(X, y):\n",
    "    X_train, X_test = X[train_index], X[test_index]\n",
    "    y_train, y_test = y[train_index], y[test_index]\n",
    "    model = LGBMClassifier()\n",
    "    model.fit(X_train, y_train)\n",
    "    yhat = model.predict(X_test)\n",
    "\n",
    "    accuracy = accuracy_score(y_test, yhat)\n",
    "    cv_accs.append(accuracy)\n",
    "    \n",
    "    f1 = f1_score(y_test, yhat,average='weighted')\n",
    "    cv_f1.append(f1)\n",
    "\n",
    "print('Accuracy for MT_G3 is',round((100*mean(cv_accs)),2))\n",
    "print('F1 score for MT_G3 is',round(mean(cv_f1),2))\n",
    "\n",
    "model.fit(X, y)"
   ]
  },
  {
   "cell_type": "code",
   "execution_count": 103,
   "metadata": {},
   "outputs": [],
   "source": [
    "with open('LGBMC_MT_G3.pkl','wb') as f:\n",
    "    pickle.dump(model, f)"
   ]
  },
  {
   "cell_type": "code",
   "execution_count": 104,
   "metadata": {},
   "outputs": [
    {
     "data": {
      "application/javascript": [
       "\n",
       "        if (window._pyforest_update_imports_cell) { window._pyforest_update_imports_cell('from sklearn.linear_model import LogisticRegression\\nfrom sklearn.model_selection import train_test_split\\nimport pandas as pd'); }\n",
       "    "
      ],
      "text/plain": [
       "<IPython.core.display.Javascript object>"
      ]
     },
     "metadata": {},
     "output_type": "display_data"
    },
    {
     "name": "stdout",
     "output_type": "stream",
     "text": [
      "Accuracy for MT_G4 is 64.35\n",
      "F1 score for MT_G4 is 0.62\n"
     ]
    },
    {
     "data": {
      "text/plain": [
       "LGBMClassifier()"
      ]
     },
     "execution_count": 104,
     "metadata": {},
     "output_type": "execute_result"
    }
   ],
   "source": [
    "dataframe = pd.read_csv('MT_G4.csv')\n",
    "X = dataframe.drop(columns=['Unnamed: 0','RECRUITMENT_CAT','PATNO','EVENT_ID','PAG_NAME_1','PAG_NAME_2'],axis=1) \n",
    "y = dataframe['RECRUITMENT_CAT']\n",
    "\n",
    "datax = X.values\n",
    "datay = y.values\n",
    "\n",
    "X = datax.astype(str)\n",
    "y = datay.astype(str)\n",
    "\n",
    "X = ordinal.fit_transform(X)\n",
    "y = label_encoder.fit_transform(y)\n",
    "\n",
    "cv_accs = []\n",
    "cv_f1 = []\n",
    "\n",
    "cv = RepeatedStratifiedKFold(n_splits=10, n_repeats=3, random_state=1)\n",
    "\n",
    "for train_index, test_index in cv.split(X, y):\n",
    "    X_train, X_test = X[train_index], X[test_index]\n",
    "    y_train, y_test = y[train_index], y[test_index]\n",
    "    model = LGBMClassifier()\n",
    "    model.fit(X_train, y_train)\n",
    "    yhat = model.predict(X_test)\n",
    "\n",
    "    accuracy = accuracy_score(y_test, yhat)\n",
    "    cv_accs.append(accuracy)\n",
    "    \n",
    "    f1 = f1_score(y_test, yhat,average='weighted')\n",
    "    cv_f1.append(f1)\n",
    "\n",
    "print('Accuracy for MT_G4 is',round((100*mean(cv_accs)),2))\n",
    "print('F1 score for MT_G4 is',round(mean(cv_f1),2))\n",
    "\n",
    "model.fit(X, y)"
   ]
  },
  {
   "cell_type": "code",
   "execution_count": 105,
   "metadata": {},
   "outputs": [],
   "source": [
    "with open('LGBMC_MT_G4.pkl','wb') as f:\n",
    "    pickle.dump(model, f)"
   ]
  },
  {
   "cell_type": "code",
   "execution_count": 106,
   "metadata": {},
   "outputs": [
    {
     "data": {
      "application/javascript": [
       "\n",
       "        if (window._pyforest_update_imports_cell) { window._pyforest_update_imports_cell('from sklearn.linear_model import LogisticRegression\\nfrom sklearn.model_selection import train_test_split\\nimport pandas as pd'); }\n",
       "    "
      ],
      "text/plain": [
       "<IPython.core.display.Javascript object>"
      ]
     },
     "metadata": {},
     "output_type": "display_data"
    },
    {
     "name": "stdout",
     "output_type": "stream",
     "text": [
      "Accuracy for MT_G5 is 64.81\n",
      "F1 score for MT_G5 is 0.63\n"
     ]
    },
    {
     "data": {
      "text/plain": [
       "LGBMClassifier()"
      ]
     },
     "execution_count": 106,
     "metadata": {},
     "output_type": "execute_result"
    }
   ],
   "source": [
    "dataframe = pd.read_csv('MT_G5.csv')\n",
    "X = dataframe.drop(columns=['RECRUITMENT_CAT','PATNO','EVENT_ID','PAG_NAME'],axis=1) \n",
    "y = dataframe['RECRUITMENT_CAT']\n",
    "\n",
    "X = ordinal.fit_transform(X)\n",
    "y = label_encoder.fit_transform(y)\n",
    "\n",
    "cv_accs = []\n",
    "cv_f1 = []\n",
    "\n",
    "cv = RepeatedStratifiedKFold(n_splits=10, n_repeats=3, random_state=1)\n",
    "\n",
    "for train_index, test_index in cv.split(X, y):\n",
    "    X_train, X_test = X[train_index], X[test_index]\n",
    "    y_train, y_test = y[train_index], y[test_index]\n",
    "    model = LGBMClassifier()\n",
    "    model.fit(X_train, y_train)\n",
    "    yhat = model.predict(X_test)\n",
    "\n",
    "    accuracy = accuracy_score(y_test, yhat)\n",
    "    cv_accs.append(accuracy)\n",
    "    \n",
    "    f1 = f1_score(y_test, yhat,average='weighted')\n",
    "    cv_f1.append(f1)\n",
    "\n",
    "print('Accuracy for MT_G5 is',round((100*mean(cv_accs)),2))\n",
    "print('F1 score for MT_G5 is',round(mean(cv_f1),2))\n",
    "\n",
    "model.fit(X, y)"
   ]
  },
  {
   "cell_type": "code",
   "execution_count": 107,
   "metadata": {},
   "outputs": [],
   "source": [
    "with open('LGBMC_MT_G5.pkl','wb') as f:\n",
    "    pickle.dump(model, f)"
   ]
  },
  {
   "cell_type": "markdown",
   "metadata": {},
   "source": [
    "***\n",
    "## Voice Dataset"
   ]
  },
  {
   "cell_type": "code",
   "execution_count": 110,
   "metadata": {},
   "outputs": [
    {
     "data": {
      "application/javascript": [
       "\n",
       "        if (window._pyforest_update_imports_cell) { window._pyforest_update_imports_cell('from sklearn.linear_model import LogisticRegression\\nfrom sklearn.model_selection import train_test_split\\nimport pandas as pd'); }\n",
       "    "
      ],
      "text/plain": [
       "<IPython.core.display.Javascript object>"
      ]
     },
     "metadata": {},
     "output_type": "display_data"
    },
    {
     "name": "stdout",
     "output_type": "stream",
     "text": [
      "Accuracy for Voice Dataset is 82.78\n",
      "F1 score for Voice Dataset is 0.81\n"
     ]
    },
    {
     "data": {
      "text/plain": [
       "RandomForestClassifier()"
      ]
     },
     "execution_count": 110,
     "metadata": {},
     "output_type": "execute_result"
    }
   ],
   "source": [
    "dataframe = pd.read_csv('voice_dataset.csv')\n",
    "X = dataframe.drop(columns=['NAME','DUR','LABEL'],axis=1) \n",
    "y = dataframe['LABEL']\n",
    "\n",
    "X = ordinal.fit_transform(X)\n",
    "y = label_encoder.fit_transform(y)\n",
    "\n",
    "cv_accs = []\n",
    "cv_f1 = []\n",
    "\n",
    "cv = RepeatedStratifiedKFold(n_splits=10, n_repeats=3, random_state=1)\n",
    "\n",
    "for train_index, test_index in cv.split(X, y):\n",
    "    X_train, X_test = X[train_index], X[test_index]\n",
    "    y_train, y_test = y[train_index], y[test_index]\n",
    "    model = RandomForestClassifier()\n",
    "    model.fit(X_train, y_train)\n",
    "    yhat = model.predict(X_test)\n",
    "\n",
    "    accuracy = accuracy_score(y_test, yhat)\n",
    "    cv_accs.append(accuracy)\n",
    "    \n",
    "    f1 = f1_score(y_test, yhat,average='weighted')\n",
    "    cv_f1.append(f1)\n",
    "\n",
    "print('Accuracy for Voice Dataset is',round((100*mean(cv_accs)),2))\n",
    "print('F1 score for Voice Dataset is',round(mean(cv_f1),2))\n",
    "\n",
    "model.fit(X, y)"
   ]
  },
  {
   "cell_type": "code",
   "execution_count": 112,
   "metadata": {},
   "outputs": [],
   "source": [
    "with open('voice_dataset.pkl','wb') as f:\n",
    "    pickle.dump(model, f)"
   ]
  },
  {
   "cell_type": "markdown",
   "metadata": {},
   "source": [
    "***"
   ]
  }
 ],
 "metadata": {
  "interpreter": {
   "hash": "31f2aee4e71d21fbe5cf8b01ff0e069b9275f58929596ceb00d14d90e3e16cd6"
  },
  "kernelspec": {
   "display_name": "Python 3",
   "language": "python",
   "name": "python3"
  },
  "language_info": {
   "codemirror_mode": {
    "name": "ipython",
    "version": 3
   },
   "file_extension": ".py",
   "mimetype": "text/x-python",
   "name": "python",
   "nbconvert_exporter": "python",
   "pygments_lexer": "ipython3",
   "version": "3.7.3"
  }
 },
 "nbformat": 4,
 "nbformat_minor": 4
}
